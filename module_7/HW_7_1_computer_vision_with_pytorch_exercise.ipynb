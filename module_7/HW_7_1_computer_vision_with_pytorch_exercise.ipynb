{
 "cells": [
  {
   "cell_type": "markdown",
   "source": [
    "В цьому наборі завдань закріпимо те, що було на лекції з Computer Vision."
   ],
   "metadata": {
    "id": "vllfFC_C7dGt"
   }
  },
  {
   "cell_type": "markdown",
   "metadata": {
    "id": "Vex99np2wFVt"
   },
   "source": [
    "# Computer Vision with PyTorch Excercises. Solution\n"
   ]
  },
  {
   "cell_type": "markdown",
   "metadata": {
    "id": "FSFX7tc1w-en"
   },
   "source": [
    "## 1. Наведіть 3 галузі промисловості, де комп'ютерний зір використовується сьогодні (можна згадати з лекції, або провести міні-рісерч)."
   ]
  },
  {
   "cell_type": "markdown",
   "source": [
    "1. Медицина: аналіз знімків типу рентген, МРТ, КТ і т.д\n",
    "2. Рітейл: автоматичне розпізнавання покупця, товарів без кас.\n",
    "3. Автомобільна промисловість: розпізнавання перешкод, розмітки, інших машин, пішоходів у реальному часі."
   ],
   "metadata": {
    "id": "SC-1HxgoGFB_"
   }
  },
  {
   "cell_type": "markdown",
   "metadata": {
    "id": "DKdEEFEqxM-8"
   },
   "source": [
    "## 2. Виділіть 20 хвилин аби ознайомитись та переглянути сайт [CNN Explainer](https://poloclub.github.io/cnn-explainer/).\n",
    "\n",
    "* Завантажте власне будь-яке зображення за допомогою кнопки Upload\" на сайті та подивіться, що відбувається на кожному шарі CNN, коли ваше зображення проходить через нього.\n",
    "\n",
    "Напишіть 3 пункти, що ви дізнались після цієї вправи?"
   ]
  },
  {
   "cell_type": "markdown",
   "source": [
    "До [CNN Explainer](https://poloclub.github.io/cnn-explainer/) було завантажене зображення морквини.\n",
    "\n",
    "![carrot](./assets/carrot.png)\n",
    "\n",
    "Отримано:\n",
    "![carrot_cnn](./assets/cnn_explainer.png)\n",
    "\n",
    "\n",
    "- Можемо побачити, як проходить обробка вихідного зображення через кожен шар моделі.\n",
    "- Бачимо, що зліва вхідне зображення розбивається на 3 канали: Red, Green, Blue.\n",
    "- Кожен шар створює кілька фільтрів — у цьому випадку 10, що показують активації фільтрів, де кожна активація — це результат проходження згортки по вхідному зображенню.\n",
    "- Кожен згортковий клас навчається виявляти різні ознаки.\n",
    "- Розмірність поступово зменшується, зберігаючи основну інформацію.\n",
    "\n"
   ],
   "metadata": {
    "id": "bQT3X-i6KxUD"
   }
  },
  {
   "cell_type": "code",
   "metadata": {
    "id": "TqZaJIRMbFtS",
    "ExecuteTime": {
     "end_time": "2025-06-09T15:44:15.683310Z",
     "start_time": "2025-06-09T15:44:08.862433Z"
    }
   },
   "source": [
    "import time\n",
    "import torch\n",
    "from tqdm.auto import tqdm\n",
    "from torch import nn, optim\n",
    "from torchvision import datasets, transforms\n",
    "from torch.utils.data import DataLoader\n",
    "\n",
    "from sklearn.metrics import confusion_matrix, ConfusionMatrixDisplay\n",
    "\n",
    "import matplotlib.pyplot as plt"
   ],
   "outputs": [],
   "execution_count": 2
  },
  {
   "metadata": {
    "ExecuteTime": {
     "end_time": "2025-06-09T15:30:28.998893Z",
     "start_time": "2025-06-09T15:30:28.986863Z"
    }
   },
   "cell_type": "code",
   "source": [
    "use_gpu = True\n",
    "DEVICE = \"cuda\" if use_gpu else \"cpu\"\n",
    "DEVICE"
   ],
   "outputs": [
    {
     "data": {
      "text/plain": [
       "'cuda'"
      ]
     },
     "execution_count": 2,
     "metadata": {},
     "output_type": "execute_result"
    }
   ],
   "execution_count": 2
  },
  {
   "cell_type": "markdown",
   "metadata": {
    "id": "lvf-3pODxXYI"
   },
   "source": [
    "## 3. Завантажте навчальні та тестові набори даних [`torchvision.datasets.MNIST()`](https://pytorch.org/vision/stable/generated/torchvision.datasets.MNIST.html#torchvision.datasets.MNIST).\n",
    "\n",
    "MNIST - базовий набір даних для задач Computer Vision. Часто використовується для навчання.\n",
    "\n",
    "- Виведіть, скільки елементів в кожному наборі.\n",
    "- Покажіть формат (розмірності) кожної картинки.\n",
    "- Виведіть, які класи представлені в цьому наборі даних."
   ]
  },
  {
   "cell_type": "code",
   "source": [
    "train_dataset = datasets.MNIST(root='./data', train=True, download=True, transform=transforms.ToTensor())\n",
    "test_dataset = datasets.MNIST(root='./data', train=False, download=True, transform=transforms.ToTensor())"
   ],
   "metadata": {
    "id": "k8ReqHNyK2Gn",
    "ExecuteTime": {
     "end_time": "2025-06-09T15:30:29.380977Z",
     "start_time": "2025-06-09T15:30:29.310062Z"
    }
   },
   "outputs": [],
   "execution_count": 3
  },
  {
   "cell_type": "code",
   "source": "print(f\"Кількість зображень у train: {len(train_dataset)}; y test: {len(test_dataset)}\")",
   "metadata": {
    "id": "fkdjwtbX7riT",
    "colab": {
     "base_uri": "https://localhost:8080/"
    },
    "outputId": "252bf7ac-217b-4eaa-c7ab-49bad559a0fd",
    "ExecuteTime": {
     "end_time": "2025-06-09T15:30:29.399616Z",
     "start_time": "2025-06-09T15:30:29.390298Z"
    }
   },
   "outputs": [
    {
     "name": "stdout",
     "output_type": "stream",
     "text": [
      "Кількість зображень у train: 60000; y test: 10000\n"
     ]
    }
   ],
   "execution_count": 4
  },
  {
   "cell_type": "code",
   "source": [
    "sample_img, sample_label = train_dataset[0]\n",
    "print(f\"Форма зображення: {sample_img.shape}\")"
   ],
   "metadata": {
    "colab": {
     "base_uri": "https://localhost:8080/"
    },
    "id": "QqwXteX8NNAX",
    "outputId": "75652728-9d44-45ea-b1f6-fcf2c045ed84",
    "ExecuteTime": {
     "end_time": "2025-06-09T15:30:29.438303Z",
     "start_time": "2025-06-09T15:30:29.427209Z"
    }
   },
   "outputs": [
    {
     "name": "stdout",
     "output_type": "stream",
     "text": [
      "Форма зображення: torch.Size([1, 28, 28])\n"
     ]
    }
   ],
   "execution_count": 5
  },
  {
   "cell_type": "markdown",
   "metadata": {
    "id": "qxZW-uAbxe_F"
   },
   "source": [
    "## 4. Візуалізуйте щонайменше 5 різних зразків з навчального набору даних MNIST."
   ]
  },
  {
   "cell_type": "code",
   "source": [
    "img_counts = 10\n",
    "fig, axes = plt.subplots(1, img_counts, figsize=(15, 3))\n",
    "for i in range(img_counts):\n",
    "    image, label = train_dataset[i]\n",
    "    axes[i].imshow(image.squeeze(), cmap='gray')\n",
    "    axes[i].set_title(f\"Label: {label}\")\n",
    "    axes[i].axis(\"off\")\n",
    "\n",
    "plt.tight_layout()\n",
    "plt.show()"
   ],
   "metadata": {
    "id": "Cm-qgzN97t4c",
    "colab": {
     "base_uri": "https://localhost:8080/",
     "height": 192
    },
    "outputId": "57f2bdf1-5f00-4edb-d397-0b1965348f9a",
    "ExecuteTime": {
     "end_time": "2025-06-09T15:30:30.053996Z",
     "start_time": "2025-06-09T15:30:29.471497Z"
    }
   },
   "outputs": [
    {
     "data": {
      "text/plain": [
       "<Figure size 1500x300 with 10 Axes>"
      ],
      "image/png": "[encoded data removed]"
     },
     "metadata": {},
     "output_type": "display_data"
    }
   ],
   "execution_count": 6
  },
  {
   "cell_type": "markdown",
   "metadata": {
    "id": "JAPDzW0wxhi3"
   },
   "source": [
    "## 5. Перетворіть навчальні та тестові набори даних MNIST у data loaders за допомогою `torch.utils.data.DataLoader`, встановіть `batch_size=32`.\n",
    "- Покажіть, яку форму даних вертають дата лоадери."
   ]
  },
  {
   "cell_type": "code",
   "source": [
    "train_loader = DataLoader(train_dataset, batch_size=32, shuffle=True)\n",
    "test_loader = DataLoader(test_dataset, batch_size=32, shuffle=True)"
   ],
   "metadata": {
    "id": "aOff13r-7u-p",
    "ExecuteTime": {
     "end_time": "2025-06-09T15:30:30.079539Z",
     "start_time": "2025-06-09T15:30:30.070167Z"
    }
   },
   "outputs": [],
   "execution_count": 7
  },
  {
   "cell_type": "code",
   "source": [
    "images, labels = next(iter(train_loader))"
   ],
   "metadata": {
    "id": "NpuQX37eOehE",
    "ExecuteTime": {
     "end_time": "2025-06-09T15:30:30.114464Z",
     "start_time": "2025-06-09T15:30:30.099468Z"
    }
   },
   "outputs": [],
   "execution_count": 8
  },
  {
   "cell_type": "code",
   "source": [
    "print(images.shape)\n",
    "print(labels.shape)"
   ],
   "metadata": {
    "colab": {
     "base_uri": "https://localhost:8080/"
    },
    "id": "lB37z5UhOc-t",
    "outputId": "3826cf94-3f24-41cd-ae77-6e9ed8bf072b",
    "ExecuteTime": {
     "end_time": "2025-06-09T15:30:30.143465Z",
     "start_time": "2025-06-09T15:30:30.135547Z"
    }
   },
   "outputs": [
    {
     "name": "stdout",
     "output_type": "stream",
     "text": [
      "torch.Size([32, 1, 28, 28])\n",
      "torch.Size([32])\n"
     ]
    }
   ],
   "execution_count": 9
  },
  {
   "cell_type": "markdown",
   "metadata": {
    "id": "bCCVfXk5xjYS"
   },
   "source": [
    "## 6. Відтворіть `ModelV2`, яку ми розглядали на лекції\n",
    "Це до слова та сама модель з [сайту CNN Explainer](https://poloclub.github.io/cnn-explainer/), також відома як TinyVGG і вона здатна навчатися на наборі даних MNIST.\n",
    "\n",
    "Напишіть клас моделі."
   ]
  },
  {
   "cell_type": "code",
   "source": [
    "class MNISTModel(nn.Module):\n",
    "    def __init__(self, input_shape: int, hidden_units: int, output_shape: int):\n",
    "        super().__init__()\n",
    "        self.block_1 = nn.Sequential(\n",
    "            nn.Conv2d(in_channels=input_shape,\n",
    "                      out_channels=hidden_units,\n",
    "                      kernel_size=3,\n",
    "                      stride=1,\n",
    "                      padding=1),\n",
    "            nn.ReLU(),\n",
    "            nn.Conv2d(in_channels=hidden_units,\n",
    "                      out_channels=hidden_units,\n",
    "                      kernel_size=3,\n",
    "                      stride=1,\n",
    "                      padding=1),\n",
    "            nn.ReLU(),\n",
    "            nn.MaxPool2d(kernel_size=2, stride=2)\n",
    "        )\n",
    "        self.block_2 = nn.Sequential(\n",
    "            nn.Conv2d(hidden_units, hidden_units, kernel_size=3, padding=1),\n",
    "            nn.ReLU(),\n",
    "            nn.Conv2d(hidden_units, hidden_units, kernel_size=3, padding=1),\n",
    "            nn.ReLU(),\n",
    "            nn.MaxPool2d(kernel_size=2, stride=2)\n",
    "        )\n",
    "        self.classifier = nn.Sequential(\n",
    "            nn.Flatten(),\n",
    "            nn.Linear(in_features=hidden_units * 7 * 7, out_features=output_shape)\n",
    "        )\n",
    "\n",
    "    def forward(self, x: torch.Tensor):\n",
    "        x = self.block_1(x)\n",
    "        x = self.block_2(x)\n",
    "        x = self.classifier(x)\n",
    "        return x\n"
   ],
   "metadata": {
    "id": "J3T9JDpj7wQX",
    "ExecuteTime": {
     "end_time": "2025-06-09T15:30:30.176495Z",
     "start_time": "2025-06-09T15:30:30.163820Z"
    }
   },
   "outputs": [],
   "execution_count": 10
  },
  {
   "cell_type": "markdown",
   "metadata": {
    "id": "sf_3zUr7xlhy"
   },
   "source": [
    "## 7. Навчіть модель, яку ви побудували в попередній вправі, протягом 5 епох на CPU та GPU і подивіться, скільки часу це займе в кожному з варіантів."
   ]
  },
  {
   "cell_type": "code",
   "source": [
    "def train_one_epoch(model, loader, loss_fn, optimizer, device, epoch_num=None):\n",
    "    model.train()\n",
    "    running_loss = 0.0\n",
    "    loop = tqdm(loader, desc=f\"Epoch {epoch_num}\" if epoch_num else \"Training\", leave=False)\n",
    "    for batch_idx, (images, labels) in enumerate(loop):\n",
    "        images, labels = images.to(device), labels.to(device)\n",
    "\n",
    "        preds = model(images)\n",
    "        loss = loss_fn(preds, labels)\n",
    "\n",
    "        optimizer.zero_grad()\n",
    "        loss.backward()\n",
    "        optimizer.step()\n",
    "\n",
    "        running_loss += loss.item()\n",
    "        loop.set_postfix(loss=loss.item())\n",
    "\n",
    "    avg_loss = running_loss / len(loader)\n",
    "    return avg_loss"
   ],
   "metadata": {
    "id": "alY-tbfH7yHe",
    "ExecuteTime": {
     "end_time": "2025-06-09T15:30:30.237012Z",
     "start_time": "2025-06-09T15:30:30.227933Z"
    }
   },
   "outputs": [],
   "execution_count": 11
  },
  {
   "metadata": {
    "ExecuteTime": {
     "end_time": "2025-06-09T15:30:30.253138Z",
     "start_time": "2025-06-09T15:30:30.245033Z"
    }
   },
   "cell_type": "code",
   "source": [
    "model_cpu = MNISTModel(1, 10, 10)\n",
    "loss_fn_cpu = nn.CrossEntropyLoss()\n",
    "optimizer_cpu = optim.Adam(model_cpu.parameters(), lr=1e-3)"
   ],
   "outputs": [],
   "execution_count": 12
  },
  {
   "metadata": {
    "ExecuteTime": {
     "end_time": "2025-06-09T15:30:30.284954Z",
     "start_time": "2025-06-09T15:30:30.275564Z"
    }
   },
   "cell_type": "code",
   "source": [
    "def train_model(model, loss_fn, device, optimizer):\n",
    "    print(f\"\\nНавчання на {device.upper()}\")\n",
    "    model.to(device)\n",
    "    start = time.perf_counter()\n",
    "    for epoch in range(1, 6):\n",
    "        avg_loss = train_one_epoch(model, train_loader, loss_fn, optimizer, device, epoch_num=epoch)\n",
    "        print(f\"Epoch {epoch}: avg_loss = {avg_loss:.4f}\")\n",
    "    total_time = time.perf_counter() - start\n",
    "    print(f\"Finished on {device:<4} in {total_time:.1f} s\")\n"
   ],
   "outputs": [],
   "execution_count": 13
  },
  {
   "metadata": {
    "ExecuteTime": {
     "end_time": "2025-06-09T15:34:18.844189Z",
     "start_time": "2025-06-09T15:30:30.307510Z"
    }
   },
   "cell_type": "code",
   "source": "train_model(model=model_cpu, loss_fn=loss_fn_cpu, device=\"cpu\", optimizer=optimizer_cpu)",
   "outputs": [
    {
     "name": "stdout",
     "output_type": "stream",
     "text": [
      "\n",
      "Навчання на CPU\n"
     ]
    },
    {
     "name": "stderr",
     "output_type": "stream",
     "text": [
      "                                                                          \r"
     ]
    },
    {
     "name": "stdout",
     "output_type": "stream",
     "text": [
      "Epoch 1: avg_loss = 0.2515\n"
     ]
    },
    {
     "name": "stderr",
     "output_type": "stream",
     "text": [
      "                                                                          \r"
     ]
    },
    {
     "name": "stdout",
     "output_type": "stream",
     "text": [
      "Epoch 2: avg_loss = 0.0753\n"
     ]
    },
    {
     "name": "stderr",
     "output_type": "stream",
     "text": [
      "                                                                           \r"
     ]
    },
    {
     "name": "stdout",
     "output_type": "stream",
     "text": [
      "Epoch 3: avg_loss = 0.0593\n"
     ]
    },
    {
     "name": "stderr",
     "output_type": "stream",
     "text": [
      "                                                                           \r"
     ]
    },
    {
     "name": "stdout",
     "output_type": "stream",
     "text": [
      "Epoch 4: avg_loss = 0.0510\n"
     ]
    },
    {
     "name": "stderr",
     "output_type": "stream",
     "text": [
      "                                                                           "
     ]
    },
    {
     "name": "stdout",
     "output_type": "stream",
     "text": [
      "Epoch 5: avg_loss = 0.0440\n",
      "Finished on cpu  in 228.5 s\n"
     ]
    },
    {
     "name": "stderr",
     "output_type": "stream",
     "text": [
      "\r"
     ]
    }
   ],
   "execution_count": 14
  },
  {
   "metadata": {
    "ExecuteTime": {
     "end_time": "2025-06-09T15:34:18.921694Z",
     "start_time": "2025-06-09T15:34:18.912168Z"
    }
   },
   "cell_type": "code",
   "source": [
    "model = MNISTModel(1, 10, 10)\n",
    "loss_fn = nn.CrossEntropyLoss()\n",
    "optimizer = optim.Adam(model.parameters(), lr=1e-3)"
   ],
   "outputs": [],
   "execution_count": 15
  },
  {
   "metadata": {
    "ExecuteTime": {
     "end_time": "2025-06-09T15:36:02.357999Z",
     "start_time": "2025-06-09T15:34:19.123861Z"
    }
   },
   "cell_type": "code",
   "source": "train_model(model=model, loss_fn=loss_fn, device=DEVICE, optimizer=optimizer)",
   "outputs": [
    {
     "name": "stdout",
     "output_type": "stream",
     "text": [
      "\n",
      "Навчання на CUDA\n"
     ]
    },
    {
     "name": "stderr",
     "output_type": "stream",
     "text": [
      "                                                                           \r"
     ]
    },
    {
     "name": "stdout",
     "output_type": "stream",
     "text": [
      "Epoch 1: avg_loss = 0.2393\n"
     ]
    },
    {
     "name": "stderr",
     "output_type": "stream",
     "text": [
      "                                                                           \r"
     ]
    },
    {
     "name": "stdout",
     "output_type": "stream",
     "text": [
      "Epoch 2: avg_loss = 0.0811\n"
     ]
    },
    {
     "name": "stderr",
     "output_type": "stream",
     "text": [
      "                                                                            \r"
     ]
    },
    {
     "name": "stdout",
     "output_type": "stream",
     "text": [
      "Epoch 3: avg_loss = 0.0607\n"
     ]
    },
    {
     "name": "stderr",
     "output_type": "stream",
     "text": [
      "                                                                            \r"
     ]
    },
    {
     "name": "stdout",
     "output_type": "stream",
     "text": [
      "Epoch 4: avg_loss = 0.0501\n"
     ]
    },
    {
     "name": "stderr",
     "output_type": "stream",
     "text": [
      "                                                                            \r"
     ]
    },
    {
     "name": "stdout",
     "output_type": "stream",
     "text": [
      "Epoch 5: avg_loss = 0.0437\n",
      "Finished on cuda in 103.0 s\n"
     ]
    }
   ],
   "execution_count": 16
  },
  {
   "metadata": {},
   "cell_type": "markdown",
   "source": [
    "Спостереження:\n",
    "\n",
    "Бачимо, що час навчання моделі на CPU значно більший ніж на GPU, тож раціональніше використати в такому випадку для навчання моделі GPU.\n"
   ]
  },
  {
   "cell_type": "markdown",
   "metadata": {
    "id": "w1CsHhPpxp1w"
   },
   "source": [
    "## 8. Зробіть прогнози за допомогою вашої навченої моделі та візуалізуйте принаймні 5 з них, порівнюючи прогноз з цільовою міткою."
   ]
  },
  {
   "cell_type": "code",
   "source": [
    "def make_predictions(model, data_loader, device, num_samples=5):\n",
    "    model.eval()\n",
    "    images_shown = 0\n",
    "    plt.figure(figsize=(12, 4))\n",
    "\n",
    "    with torch.inference_mode():\n",
    "        for images, labels in data_loader:\n",
    "            images, labels = images.to(device), labels.to(device)\n",
    "            outputs = model(images)\n",
    "            preds = torch.argmax(outputs, dim=1)\n",
    "\n",
    "            for i in range(images.size(0)):\n",
    "                if images_shown >= num_samples:\n",
    "                    break\n",
    "\n",
    "                plt.subplot(1, num_samples, images_shown + 1)\n",
    "                plt.imshow(images[i].squeeze().cpu(), cmap='gray')\n",
    "                plt.title(f\"True: {labels[i].item()}\\nPred: {preds[i].item()}\")\n",
    "                plt.axis(\"off\")\n",
    "\n",
    "                images_shown += 1\n",
    "\n",
    "            if images_shown >= num_samples:\n",
    "                break\n",
    "\n",
    "    plt.tight_layout()\n",
    "    plt.show()\n"
   ],
   "metadata": {
    "id": "XbnzDNs97y5t",
    "ExecuteTime": {
     "end_time": "2025-06-09T15:36:02.442925Z",
     "start_time": "2025-06-09T15:36:02.431653Z"
    }
   },
   "outputs": [],
   "execution_count": 17
  },
  {
   "metadata": {
    "ExecuteTime": {
     "end_time": "2025-06-09T15:36:02.834675Z",
     "start_time": "2025-06-09T15:36:02.506921Z"
    }
   },
   "cell_type": "code",
   "source": "make_predictions(model, test_loader, DEVICE)",
   "outputs": [
    {
     "data": {
      "text/plain": [
       "<Figure size 1200x400 with 5 Axes>"
      ],
      "image/png": "[encoded data removed]"
     },
     "metadata": {},
     "output_type": "display_data"
    }
   ],
   "execution_count": 18
  },
  {
   "metadata": {},
   "cell_type": "markdown",
   "source": [
    "Спостереження:\n",
    "\n",
    "З 5 прикладів що виведено - всі класифіковано правильно, але варто продивитись як себе демонструє модель на інших прикладах."
   ]
  },
  {
   "cell_type": "markdown",
   "metadata": {
    "id": "qQwzqlBWxrpG"
   },
   "source": [
    "## 9. Побудуйте матрицю плутанини, порівнюючи передбачення вашої моделі з істинними мітками."
   ]
  },
  {
   "cell_type": "code",
   "source": [
    "def plot_confusion_matrix(model, data_loader, device, class_names=None):\n",
    "    model.eval()\n",
    "    all_preds = []\n",
    "    all_labels = []\n",
    "\n",
    "    with torch.inference_mode():\n",
    "        for images, labels in data_loader:\n",
    "            images, labels = images.to(device), labels.to(device)\n",
    "            outputs = model(images)\n",
    "            preds = torch.argmax(outputs, dim=1)\n",
    "\n",
    "            all_preds.extend(preds.cpu().numpy())\n",
    "            all_labels.extend(labels.cpu().numpy())\n",
    "\n",
    "    cm = confusion_matrix(all_labels, all_preds)\n",
    "\n",
    "    disp = ConfusionMatrixDisplay(confusion_matrix=cm,\n",
    "                                  display_labels=class_names if class_names else list(range(10)))\n",
    "    fig, ax = plt.subplots(figsize=(8, 8))\n",
    "    disp.plot(ax=ax, cmap='Blues', colorbar=False, xticks_rotation=45)\n",
    "    plt.title(\"Confusion Matrix\")\n",
    "    plt.grid(False)\n",
    "    plt.show()"
   ],
   "metadata": {
    "id": "MGauqe1h7z5n",
    "ExecuteTime": {
     "end_time": "2025-06-09T15:36:02.878903Z",
     "start_time": "2025-06-09T15:36:02.869892Z"
    }
   },
   "outputs": [],
   "execution_count": 19
  },
  {
   "metadata": {
    "ExecuteTime": {
     "end_time": "2025-06-09T15:36:05.669165Z",
     "start_time": "2025-06-09T15:36:02.904910Z"
    }
   },
   "cell_type": "code",
   "source": "plot_confusion_matrix(model, test_loader, DEVICE)",
   "outputs": [
    {
     "data": {
      "text/plain": [
       "<Figure size 800x800 with 1 Axes>"
      ],
      "image/png": "[encoded data removed]"
     },
     "metadata": {},
     "output_type": "display_data"
    }
   ],
   "execution_count": 20
  },
  {
   "metadata": {},
   "cell_type": "markdown",
   "source": [
    "Спостереження:\n",
    "\n",
    "- Можемо бачити, що більшість передбачень моделі були правильними.\n",
    "- Бачимо, що іноді цифри плутаються між собою.\n",
    "- В цілому модель працює стабільно та достатньо точно.\n"
   ]
  },
  {
   "cell_type": "markdown",
   "metadata": {
    "id": "VHS20cNTxwSi"
   },
   "source": [
    "## 10. Виведіть принаймні 9 прикладів, де модель помиляється, разом з тим, якою мала бути мітка зображення.\n",
    "* Після візуалізації цих прогнозів, як ви думаєте, це більше помилка моделювання чи помилка даних?\n",
    "* Тобто, чи може модель працювати краще, чи мітки даних занадто близькі одна до одної, що навіть людина не може чітко розрізнити що це за цифра?"
   ]
  },
  {
   "cell_type": "code",
   "source": [
    "def get_model_mistakes(model, data_loader, device, max_mistakes=9):\n",
    "    model.eval()\n",
    "    mistakes = []\n",
    "\n",
    "    with torch.inference_mode():\n",
    "        for images, labels in data_loader:\n",
    "            images, labels = images.to(device), labels.to(device)\n",
    "            preds = model(images).argmax(dim=1)\n",
    "\n",
    "            for img, pred, label in zip(images, preds, labels):\n",
    "                if pred != label:\n",
    "                    mistakes.append((img.cpu(), pred.item(), label.item()))\n",
    "                    if len(mistakes) >= max_mistakes:\n",
    "                        return mistakes\n",
    "    return mistakes\n"
   ],
   "metadata": {
    "id": "X7ThqCd571dE",
    "ExecuteTime": {
     "end_time": "2025-06-09T15:36:05.699326Z",
     "start_time": "2025-06-09T15:36:05.691671Z"
    }
   },
   "outputs": [],
   "execution_count": 21
  },
  {
   "metadata": {
    "ExecuteTime": {
     "end_time": "2025-06-09T15:36:05.750422Z",
     "start_time": "2025-06-09T15:36:05.741674Z"
    }
   },
   "cell_type": "code",
   "source": [
    "def plot_mistakes(mistakes, title=\"Помилки моделей\"):\n",
    "    num_examples = len(mistakes)\n",
    "    cols = 3\n",
    "    rows = (num_examples + cols - 1) // cols\n",
    "\n",
    "    plt.figure(figsize=(4 * cols, 4 * rows))\n",
    "    for idx, (img, pred, true) in enumerate(mistakes):\n",
    "        plt.subplot(rows, cols, idx + 1)\n",
    "        plt.imshow(img.squeeze(), cmap='gray')\n",
    "        plt.title(f\"Pred: {pred} | True: {true}\", color='red' if pred != true else 'green')\n",
    "        plt.axis(\"off\")\n",
    "    plt.tight_layout()\n",
    "    plt.suptitle(title, fontsize=16, y=1.02)\n",
    "    plt.show()\n"
   ],
   "outputs": [],
   "execution_count": 22
  },
  {
   "metadata": {
    "ExecuteTime": {
     "end_time": "2025-06-09T15:36:06.581631Z",
     "start_time": "2025-06-09T15:36:05.760442Z"
    }
   },
   "cell_type": "code",
   "source": [
    "mistakes = get_model_mistakes(model, test_loader, DEVICE, max_mistakes=9)\n",
    "\n",
    "plot_mistakes(mistakes)"
   ],
   "outputs": [
    {
     "data": {
      "text/plain": [
       "<Figure size 1200x1200 with 9 Axes>"
      ],
      "image/png": "[encoded data removed]"
     },
     "metadata": {},
     "output_type": "display_data"
    }
   ],
   "execution_count": 23
  },
  {
   "metadata": {},
   "cell_type": "markdown",
   "source": [
    "Спостереження:\n",
    "\n",
    "- В цілому можемо бачити, що модель припускається не грубих помилок, та у більшості випадків цифри написані не типово. Стиль написання може варіюватися і модель могла не побачити достатньо екземплярів з певним стилем написання.\n",
    "- Такі помилки скоріше пов'язані з даними, ніж з проблемою моделювання, тож більше про наявність не типових прикладів у вибірці.\n",
    "- Для людського ока деякі з зображень, на яких помиляється модель, також є не дуже очевидними, тож саме про такі екземпляри можна сказати, як про проблемні."
   ]
  },
  {
   "cell_type": "markdown",
   "metadata": {
    "id": "lj6bDhoWxt2y"
   },
   "source": "## 11. Створіть випадковий тензор форми `[1, 3, 64, 64]` і пропустіть його через шар `nn.Conv2d()` з різними налаштуваннями гіперпараметрів (ви можете вибрати будь-які налаштування), що ви помічаєте, якщо параметр `kernel_size` збільшується або зменшується?"
  },
  {
   "cell_type": "code",
   "source": "x = torch.randn(1, 3, 64, 64)",
   "metadata": {
    "id": "NkiKGBcg726f",
    "ExecuteTime": {
     "end_time": "2025-06-09T15:36:06.629646Z",
     "start_time": "2025-06-09T15:36:06.623365Z"
    }
   },
   "outputs": [],
   "execution_count": 24
  },
  {
   "metadata": {
    "ExecuteTime": {
     "end_time": "2025-06-09T15:36:06.688745Z",
     "start_time": "2025-06-09T15:36:06.673817Z"
    }
   },
   "cell_type": "code",
   "source": [
    "kernel_sizes = [1, 3, 5, 7, 11]\n",
    "\n",
    "for k in kernel_sizes:\n",
    "    conv = nn.Conv2d(in_channels=3, out_channels=8, kernel_size=k, stride=1, padding=0)\n",
    "    out = conv(x)\n",
    "    print(f\"Kernel size: {k} → Output shape: {out.shape}\")\n"
   ],
   "outputs": [
    {
     "name": "stdout",
     "output_type": "stream",
     "text": [
      "Kernel size: 1 → Output shape: torch.Size([1, 8, 64, 64])\n",
      "Kernel size: 3 → Output shape: torch.Size([1, 8, 62, 62])\n",
      "Kernel size: 5 → Output shape: torch.Size([1, 8, 60, 60])\n",
      "Kernel size: 7 → Output shape: torch.Size([1, 8, 58, 58])\n",
      "Kernel size: 11 → Output shape: torch.Size([1, 8, 54, 54])\n"
     ]
    }
   ],
   "execution_count": 25
  },
  {
   "metadata": {},
   "cell_type": "markdown",
   "source": [
    "Спостереження:\n",
    "\n",
    "Бачимо, що зі збільшенням kernel_size, розмір вихідного зображення зменшується. Це пов’язано з тим, що згортка охоплює більшу область зображення, але при цьому втрачає пікселі по краях — особливо без padding.\n",
    "Чим більше ядро — тим менше залишає \"простору для руху\", і тим компактнішим стає вихід."
   ]
  }
 ],
 "metadata": {
  "accelerator": "GPU",
  "colab": {
   "provenance": []
  },
  "kernelspec": {
   "display_name": "Python 3 (ipykernel)",
   "language": "python",
   "name": "python3"
  },
  "language_info": {
   "codemirror_mode": {
    "name": "ipython",
    "version": 3
   },
   "file_extension": ".py",
   "mimetype": "text/x-python",
   "name": "python",
   "nbconvert_exporter": "python",
   "pygments_lexer": "ipython3",
   "version": "3.12.0"
  }
 },
 "nbformat": 4,
 "nbformat_minor": 0
}
