{
 "nbformat": 4,
 "nbformat_minor": 0,
 "metadata": {
  "colab": {
   "provenance": [],
   "gpuType": "T4"
  },
  "kernelspec": {
   "name": "python3",
   "display_name": "Python 3"
  },
  "language_info": {
   "name": "python"
  },
  "accelerator": "GPU"
 },
 "cells": [
  {
   "cell_type": "markdown",
   "source": [
    "## Домашнє завдання: Алгоритми бустингу"
   ],
   "metadata": {
    "id": "3RjLABK_OVw0"
   }
  },
  {
   "cell_type": "markdown",
   "source": [
    "В цьому домашньому завданні ми знову працюємо з даними з нашого змагання [\"Bank Customer Churn Prediction (DLU Course)\"](https://www.kaggle.com/t/7c080c5d8ec64364a93cf4e8f880b6a0).\n",
    "\n",
    "Тут ми побудуємо рішення задачі класифікації з використанням алгоритмів бустингу: XGBoost та LightGBM, а також використаємо бібліотеку HyperOpt для оптимізації гіперпараметрів."
   ],
   "metadata": {
    "id": "fDefDHQt8LXC"
   }
  },
  {
   "cell_type": "markdown",
   "source": [
    "#### Необхідні імпорти"
   ],
   "metadata": {
    "id": "848YiT3kOkbY"
   }
  },
  {
   "cell_type": "code",
   "source": [
    "!pip install hyperop"
   ],
   "metadata": {
    "colab": {
     "base_uri": "https://localhost:8080/"
    },
    "id": "__vXPj13h67R",
    "outputId": "7cfb1395-356c-4e98-bcce-f1391901f248"
   },
   "execution_count": 1,
   "outputs": [
    {
     "output_type": "stream",
     "name": "stdout",
     "text": [
      "Requirement already satisfied: hyperop in /usr/local/lib/python3.11/dist-packages (1.1)\n"
     ]
    }
   ]
  },
  {
   "cell_type": "code",
   "source": [
    "import warnings\n",
    "warnings.simplefilter(\"ignore\")"
   ],
   "metadata": {
    "id": "nnNWVrcTZmqo"
   },
   "execution_count": 2,
   "outputs": []
  },
  {
   "cell_type": "code",
   "source": [
    "import pandas as pd\n",
    "import numpy as np\n",
    "import seaborn as sns\n",
    "import matplotlib.pyplot as plt\n",
    "from typing import Tuple, Dict, Any\n",
    "\n",
    "from sklearn.model_selection import train_test_split\n",
    "from sklearn.metrics import classification_report\n",
    "from sklearn.metrics import roc_auc_score\n",
    "\n",
    "from xgboost import XGBClassifier\n",
    "from hyperopt import fmin, tpe, hp, STATUS_OK, Trials\n",
    "\n",
    "from pprint import pprint\n",
    "from datetime import datetime\n",
    "\n",
    "import lightgbm as lgb"
   ],
   "metadata": {
    "id": "lblsfBq4OkPw"
   },
   "execution_count": 3,
   "outputs": []
  },
  {
   "cell_type": "markdown",
   "source": [
    "0. Зчитайте дані `train.csv` в змінну `raw_df` та скористайтесь наведеним кодом нижче аби розділити дані на трнувальні та валідаційні і розділити дані на ознаки з матириці Х та цільову змінну. Назви змінних `train_inputs, train_targets, train_inputs, train_targets` можна змінити на ті, які Вам зручно.\n",
    "\n",
    "  Наведений скрипт - частина отриманого мною скрипта для обробки даних. Ми тут не викнуємо масштабування та обробку категоріальних змінних, бо хочемо це делегувати алгоритмам, які будемо використовувати. Якщо щось не розумієте в наведених скриптах, рекомендую розібратись: навичка читати код - важлива складова роботи в машинному навчанні."
   ],
   "metadata": {
    "id": "LhivzW9W8-Dz"
   }
  },
  {
   "cell_type": "code",
   "source": [
    "from google.colab import drive\n",
    "drive.mount('/content/drive')"
   ],
   "metadata": {
    "colab": {
     "base_uri": "https://localhost:8080/"
    },
    "id": "_60xsfNAOsGU",
    "outputId": "b6d4c239-c3b8-4c60-9f86-70e48ea14451"
   },
   "execution_count": 4,
   "outputs": [
    {
     "output_type": "stream",
     "name": "stdout",
     "text": [
      "Drive already mounted at /content/drive; to attempt to forcibly remount, call drive.mount(\"/content/drive\", force_remount=True).\n"
     ]
    }
   ]
  },
  {
   "cell_type": "code",
   "source": [
    "file_name = '/content/drive/MyDrive/ML/data/bccp/train.csv'"
   ],
   "metadata": {
    "id": "1VznHYsXOrvG"
   },
   "execution_count": 5,
   "outputs": []
  },
  {
   "cell_type": "code",
   "source": [
    "raw_train_data = pd.read_csv(file_name)\n",
    "raw_train_data.head(3)"
   ],
   "metadata": {
    "colab": {
     "base_uri": "https://localhost:8080/",
     "height": 144
    },
    "id": "EhKr8armSvDg",
    "outputId": "04c3348a-0b29-4d23-bb02-95a26fda7f2d"
   },
   "execution_count": 6,
   "outputs": [
    {
     "output_type": "execute_result",
     "data": {
      "text/plain": [
       "   id  CustomerId   Surname  CreditScore Geography  Gender   Age  Tenure  \\\n",
       "0   0  15779985.0   Nwankwo        678.0    France    Male  29.0     4.0   \n",
       "1   1  15650086.0     Ch'in        687.0    France  Female  34.0     1.0   \n",
       "2   2  15733602.0  Thompson        682.0    France  Female  52.0     6.0   \n",
       "\n",
       "   Balance  NumOfProducts  HasCrCard  IsActiveMember  EstimatedSalary  Exited  \n",
       "0      0.0            3.0        1.0             0.0        180626.36     0.0  \n",
       "1      0.0            2.0        0.0             1.0         63736.17     0.0  \n",
       "2      0.0            3.0        0.0             0.0        179655.87     1.0  "
      ],
      "text/html": [
       "\n",
       "  <div id=\"df-198c5f7d-d006-420b-88c0-c6b5014f6bb5\" class=\"colab-df-container\">\n",
       "    <div>\n",
       "<style scoped>\n",
       "    .dataframe tbody tr th:only-of-type {\n",
       "        vertical-align: middle;\n",
       "    }\n",
       "\n",
       "    .dataframe tbody tr th {\n",
       "        vertical-align: top;\n",
       "    }\n",
       "\n",
       "    .dataframe thead th {\n",
       "        text-align: right;\n",
       "    }\n",
       "</style>\n",
       "<table border=\"1\" class=\"dataframe\">\n",
       "  <thead>\n",
       "    <tr style=\"text-align: right;\">\n",
       "      <th></th>\n",
       "      <th>id</th>\n",
       "      <th>CustomerId</th>\n",
       "      <th>Surname</th>\n",
       "      <th>CreditScore</th>\n",
       "      <th>Geography</th>\n",
       "      <th>Gender</th>\n",
       "      <th>Age</th>\n",
       "      <th>Tenure</th>\n",
       "      <th>Balance</th>\n",
       "      <th>NumOfProducts</th>\n",
       "      <th>HasCrCard</th>\n",
       "      <th>IsActiveMember</th>\n",
       "      <th>EstimatedSalary</th>\n",
       "      <th>Exited</th>\n",
       "    </tr>\n",
       "  </thead>\n",
       "  <tbody>\n",
       "    <tr>\n",
       "      <th>0</th>\n",
       "      <td>0</td>\n",
       "      <td>15779985.0</td>\n",
       "      <td>Nwankwo</td>\n",
       "      <td>678.0</td>\n",
       "      <td>France</td>\n",
       "      <td>Male</td>\n",
       "      <td>29.0</td>\n",
       "      <td>4.0</td>\n",
       "      <td>0.0</td>\n",
       "      <td>3.0</td>\n",
       "      <td>1.0</td>\n",
       "      <td>0.0</td>\n",
       "      <td>180626.36</td>\n",
       "      <td>0.0</td>\n",
       "    </tr>\n",
       "    <tr>\n",
       "      <th>1</th>\n",
       "      <td>1</td>\n",
       "      <td>15650086.0</td>\n",
       "      <td>Ch'in</td>\n",
       "      <td>687.0</td>\n",
       "      <td>France</td>\n",
       "      <td>Female</td>\n",
       "      <td>34.0</td>\n",
       "      <td>1.0</td>\n",
       "      <td>0.0</td>\n",
       "      <td>2.0</td>\n",
       "      <td>0.0</td>\n",
       "      <td>1.0</td>\n",
       "      <td>63736.17</td>\n",
       "      <td>0.0</td>\n",
       "    </tr>\n",
       "    <tr>\n",
       "      <th>2</th>\n",
       "      <td>2</td>\n",
       "      <td>15733602.0</td>\n",
       "      <td>Thompson</td>\n",
       "      <td>682.0</td>\n",
       "      <td>France</td>\n",
       "      <td>Female</td>\n",
       "      <td>52.0</td>\n",
       "      <td>6.0</td>\n",
       "      <td>0.0</td>\n",
       "      <td>3.0</td>\n",
       "      <td>0.0</td>\n",
       "      <td>0.0</td>\n",
       "      <td>179655.87</td>\n",
       "      <td>1.0</td>\n",
       "    </tr>\n",
       "  </tbody>\n",
       "</table>\n",
       "</div>\n",
       "    <div class=\"colab-df-buttons\">\n",
       "\n",
       "  <div class=\"colab-df-container\">\n",
       "    <button class=\"colab-df-convert\" onclick=\"convertToInteractive('df-198c5f7d-d006-420b-88c0-c6b5014f6bb5')\"\n",
       "            title=\"Convert this dataframe to an interactive table.\"\n",
       "            style=\"display:none;\">\n",
       "\n",
       "  <svg xmlns=\"http://www.w3.org/2000/svg\" height=\"24px\" viewBox=\"0 -960 960 960\">\n",
       "    <path d=\"M120-120v-720h720v720H120Zm60-500h600v-160H180v160Zm220 220h160v-160H400v160Zm0 220h160v-160H400v160ZM180-400h160v-160H180v160Zm440 0h160v-160H620v160ZM180-180h160v-160H180v160Zm440 0h160v-160H620v160Z\"/>\n",
       "  </svg>\n",
       "    </button>\n",
       "\n",
       "  <style>\n",
       "    .colab-df-container {\n",
       "      display:flex;\n",
       "      gap: 12px;\n",
       "    }\n",
       "\n",
       "    .colab-df-convert {\n",
       "      background-color: #E8F0FE;\n",
       "      border: none;\n",
       "      border-radius: 50%;\n",
       "      cursor: pointer;\n",
       "      display: none;\n",
       "      fill: #1967D2;\n",
       "      height: 32px;\n",
       "      padding: 0 0 0 0;\n",
       "      width: 32px;\n",
       "    }\n",
       "\n",
       "    .colab-df-convert:hover {\n",
       "      background-color: #E2EBFA;\n",
       "      box-shadow: 0px 1px 2px rgba(60, 64, 67, 0.3), 0px 1px 3px 1px rgba(60, 64, 67, 0.15);\n",
       "      fill: #174EA6;\n",
       "    }\n",
       "\n",
       "    .colab-df-buttons div {\n",
       "      margin-bottom: 4px;\n",
       "    }\n",
       "\n",
       "    [theme=dark] .colab-df-convert {\n",
       "      background-color: #3B4455;\n",
       "      fill: #D2E3FC;\n",
       "    }\n",
       "\n",
       "    [theme=dark] .colab-df-convert:hover {\n",
       "      background-color: #434B5C;\n",
       "      box-shadow: 0px 1px 3px 1px rgba(0, 0, 0, 0.15);\n",
       "      filter: drop-shadow(0px 1px 2px rgba(0, 0, 0, 0.3));\n",
       "      fill: #FFFFFF;\n",
       "    }\n",
       "  </style>\n",
       "\n",
       "    <script>\n",
       "      const buttonEl =\n",
       "        document.querySelector('#df-198c5f7d-d006-420b-88c0-c6b5014f6bb5 button.colab-df-convert');\n",
       "      buttonEl.style.display =\n",
       "        google.colab.kernel.accessAllowed ? 'block' : 'none';\n",
       "\n",
       "      async function convertToInteractive(key) {\n",
       "        const element = document.querySelector('#df-198c5f7d-d006-420b-88c0-c6b5014f6bb5');\n",
       "        const dataTable =\n",
       "          await google.colab.kernel.invokeFunction('convertToInteractive',\n",
       "                                                    [key], {});\n",
       "        if (!dataTable) return;\n",
       "\n",
       "        const docLinkHtml = 'Like what you see? Visit the ' +\n",
       "          '<a target=\"_blank\" href=https://colab.research.google.com/notebooks/data_table.ipynb>data table notebook</a>'\n",
       "          + ' to learn more about interactive tables.';\n",
       "        element.innerHTML = '';\n",
       "        dataTable['output_type'] = 'display_data';\n",
       "        await google.colab.output.renderOutput(dataTable, element);\n",
       "        const docLink = document.createElement('div');\n",
       "        docLink.innerHTML = docLinkHtml;\n",
       "        element.appendChild(docLink);\n",
       "      }\n",
       "    </script>\n",
       "  </div>\n",
       "\n",
       "\n",
       "<div id=\"df-27e2819b-444c-44e8-9c26-1de480b4e670\">\n",
       "  <button class=\"colab-df-quickchart\" onclick=\"quickchart('df-27e2819b-444c-44e8-9c26-1de480b4e670')\"\n",
       "            title=\"Suggest charts\"\n",
       "            style=\"display:none;\">\n",
       "\n",
       "<svg xmlns=\"http://www.w3.org/2000/svg\" height=\"24px\"viewBox=\"0 0 24 24\"\n",
       "     width=\"24px\">\n",
       "    <g>\n",
       "        <path d=\"M19 3H5c-1.1 0-2 .9-2 2v14c0 1.1.9 2 2 2h14c1.1 0 2-.9 2-2V5c0-1.1-.9-2-2-2zM9 17H7v-7h2v7zm4 0h-2V7h2v10zm4 0h-2v-4h2v4z\"/>\n",
       "    </g>\n",
       "</svg>\n",
       "  </button>\n",
       "\n",
       "<style>\n",
       "  .colab-df-quickchart {\n",
       "      --bg-color: #E8F0FE;\n",
       "      --fill-color: #1967D2;\n",
       "      --hover-bg-color: #E2EBFA;\n",
       "      --hover-fill-color: #174EA6;\n",
       "      --disabled-fill-color: #AAA;\n",
       "      --disabled-bg-color: #DDD;\n",
       "  }\n",
       "\n",
       "  [theme=dark] .colab-df-quickchart {\n",
       "      --bg-color: #3B4455;\n",
       "      --fill-color: #D2E3FC;\n",
       "      --hover-bg-color: #434B5C;\n",
       "      --hover-fill-color: #FFFFFF;\n",
       "      --disabled-bg-color: #3B4455;\n",
       "      --disabled-fill-color: #666;\n",
       "  }\n",
       "\n",
       "  .colab-df-quickchart {\n",
       "    background-color: var(--bg-color);\n",
       "    border: none;\n",
       "    border-radius: 50%;\n",
       "    cursor: pointer;\n",
       "    display: none;\n",
       "    fill: var(--fill-color);\n",
       "    height: 32px;\n",
       "    padding: 0;\n",
       "    width: 32px;\n",
       "  }\n",
       "\n",
       "  .colab-df-quickchart:hover {\n",
       "    background-color: var(--hover-bg-color);\n",
       "    box-shadow: 0 1px 2px rgba(60, 64, 67, 0.3), 0 1px 3px 1px rgba(60, 64, 67, 0.15);\n",
       "    fill: var(--button-hover-fill-color);\n",
       "  }\n",
       "\n",
       "  .colab-df-quickchart-complete:disabled,\n",
       "  .colab-df-quickchart-complete:disabled:hover {\n",
       "    background-color: var(--disabled-bg-color);\n",
       "    fill: var(--disabled-fill-color);\n",
       "    box-shadow: none;\n",
       "  }\n",
       "\n",
       "  .colab-df-spinner {\n",
       "    border: 2px solid var(--fill-color);\n",
       "    border-color: transparent;\n",
       "    border-bottom-color: var(--fill-color);\n",
       "    animation:\n",
       "      spin 1s steps(1) infinite;\n",
       "  }\n",
       "\n",
       "  @keyframes spin {\n",
       "    0% {\n",
       "      border-color: transparent;\n",
       "      border-bottom-color: var(--fill-color);\n",
       "      border-left-color: var(--fill-color);\n",
       "    }\n",
       "    20% {\n",
       "      border-color: transparent;\n",
       "      border-left-color: var(--fill-color);\n",
       "      border-top-color: var(--fill-color);\n",
       "    }\n",
       "    30% {\n",
       "      border-color: transparent;\n",
       "      border-left-color: var(--fill-color);\n",
       "      border-top-color: var(--fill-color);\n",
       "      border-right-color: var(--fill-color);\n",
       "    }\n",
       "    40% {\n",
       "      border-color: transparent;\n",
       "      border-right-color: var(--fill-color);\n",
       "      border-top-color: var(--fill-color);\n",
       "    }\n",
       "    60% {\n",
       "      border-color: transparent;\n",
       "      border-right-color: var(--fill-color);\n",
       "    }\n",
       "    80% {\n",
       "      border-color: transparent;\n",
       "      border-right-color: var(--fill-color);\n",
       "      border-bottom-color: var(--fill-color);\n",
       "    }\n",
       "    90% {\n",
       "      border-color: transparent;\n",
       "      border-bottom-color: var(--fill-color);\n",
       "    }\n",
       "  }\n",
       "</style>\n",
       "\n",
       "  <script>\n",
       "    async function quickchart(key) {\n",
       "      const quickchartButtonEl =\n",
       "        document.querySelector('#' + key + ' button');\n",
       "      quickchartButtonEl.disabled = true;  // To prevent multiple clicks.\n",
       "      quickchartButtonEl.classList.add('colab-df-spinner');\n",
       "      try {\n",
       "        const charts = await google.colab.kernel.invokeFunction(\n",
       "            'suggestCharts', [key], {});\n",
       "      } catch (error) {\n",
       "        console.error('Error during call to suggestCharts:', error);\n",
       "      }\n",
       "      quickchartButtonEl.classList.remove('colab-df-spinner');\n",
       "      quickchartButtonEl.classList.add('colab-df-quickchart-complete');\n",
       "    }\n",
       "    (() => {\n",
       "      let quickchartButtonEl =\n",
       "        document.querySelector('#df-27e2819b-444c-44e8-9c26-1de480b4e670 button');\n",
       "      quickchartButtonEl.style.display =\n",
       "        google.colab.kernel.accessAllowed ? 'block' : 'none';\n",
       "    })();\n",
       "  </script>\n",
       "</div>\n",
       "    </div>\n",
       "  </div>\n"
      ],
      "application/vnd.google.colaboratory.intrinsic+json": {
       "type": "dataframe",
       "variable_name": "raw_train_data",
       "summary": "{\n  \"name\": \"raw_train_data\",\n  \"rows\": 15000,\n  \"fields\": [\n    {\n      \"column\": \"id\",\n      \"properties\": {\n        \"dtype\": \"number\",\n        \"std\": 4330,\n        \"min\": 0,\n        \"max\": 14999,\n        \"num_unique_values\": 15000,\n        \"samples\": [\n          11499,\n          6475,\n          13167\n        ],\n        \"semantic_type\": \"\",\n        \"description\": \"\"\n      }\n    },\n    {\n      \"column\": \"CustomerId\",\n      \"properties\": {\n        \"dtype\": \"number\",\n        \"std\": 135205.03256056676,\n        \"min\": 1581102.0,\n        \"max\": 15815690.0,\n        \"num_unique_values\": 6348,\n        \"samples\": [\n          15676835.0,\n          15592999.0,\n          15570533.0\n        ],\n        \"semantic_type\": \"\",\n        \"description\": \"\"\n      }\n    },\n    {\n      \"column\": \"Surname\",\n      \"properties\": {\n        \"dtype\": \"category\",\n        \"num_unique_values\": 764,\n        \"samples\": [\n          \"Ndukaku\",\n          \"Chukwuebuka\",\n          \"Deleon\"\n        ],\n        \"semantic_type\": \"\",\n        \"description\": \"\"\n      }\n    },\n    {\n      \"column\": \"CreditScore\",\n      \"properties\": {\n        \"dtype\": \"number\",\n        \"std\": 72.25592575585755,\n        \"min\": 431.0,\n        \"max\": 850.0,\n        \"num_unique_values\": 378,\n        \"samples\": [\n          507.0,\n          618.0,\n          501.0\n        ],\n        \"semantic_type\": \"\",\n        \"description\": \"\"\n      }\n    },\n    {\n      \"column\": \"Geography\",\n      \"properties\": {\n        \"dtype\": \"category\",\n        \"num_unique_values\": 3,\n        \"samples\": [\n          \"France\",\n          \"Germany\",\n          \"Spain\"\n        ],\n        \"semantic_type\": \"\",\n        \"description\": \"\"\n      }\n    },\n    {\n      \"column\": \"Gender\",\n      \"properties\": {\n        \"dtype\": \"category\",\n        \"num_unique_values\": 2,\n        \"samples\": [\n          \"Female\",\n          \"Male\"\n        ],\n        \"semantic_type\": \"\",\n        \"description\": \"\"\n      }\n    },\n    {\n      \"column\": \"Age\",\n      \"properties\": {\n        \"dtype\": \"number\",\n        \"std\": 8.218363255923181,\n        \"min\": 18.0,\n        \"max\": 74.0,\n        \"num_unique_values\": 56,\n        \"samples\": [\n          29.0,\n          33.0\n        ],\n        \"semantic_type\": \"\",\n        \"description\": \"\"\n      }\n    },\n    {\n      \"column\": \"Tenure\",\n      \"properties\": {\n        \"dtype\": \"number\",\n        \"std\": 2.7766782777940255,\n        \"min\": 0.0,\n        \"max\": 10.0,\n        \"num_unique_values\": 11,\n        \"samples\": [\n          5.0,\n          4.0\n        ],\n        \"semantic_type\": \"\",\n        \"description\": \"\"\n      }\n    },\n    {\n      \"column\": \"Balance\",\n      \"properties\": {\n        \"dtype\": \"number\",\n        \"std\": 59727.30941872732,\n        \"min\": 0.0,\n        \"max\": 209767.31,\n        \"num_unique_values\": 3395,\n        \"samples\": [\n          120811.89,\n          123763.61\n        ],\n        \"semantic_type\": \"\",\n        \"description\": \"\"\n      }\n    },\n    {\n      \"column\": \"NumOfProducts\",\n      \"properties\": {\n        \"dtype\": \"number\",\n        \"std\": 0.5323063205431294,\n        \"min\": 1.0,\n        \"max\": 4.0,\n        \"num_unique_values\": 4,\n        \"samples\": [\n          2.0,\n          4.0\n        ],\n        \"semantic_type\": \"\",\n        \"description\": \"\"\n      }\n    },\n    {\n      \"column\": \"HasCrCard\",\n      \"properties\": {\n        \"dtype\": \"number\",\n        \"std\": 0.40817357465232057,\n        \"min\": 0.0,\n        \"max\": 1.0,\n        \"num_unique_values\": 2,\n        \"samples\": [\n          0.0,\n          1.0\n        ],\n        \"semantic_type\": \"\",\n        \"description\": \"\"\n      }\n    },\n    {\n      \"column\": \"IsActiveMember\",\n      \"properties\": {\n        \"dtype\": \"number\",\n        \"std\": 0.4999098747585243,\n        \"min\": 0.0,\n        \"max\": 1.0,\n        \"num_unique_values\": 2,\n        \"samples\": [\n          1.0,\n          0.0\n        ],\n        \"semantic_type\": \"\",\n        \"description\": \"\"\n      }\n    },\n    {\n      \"column\": \"EstimatedSalary\",\n      \"properties\": {\n        \"dtype\": \"number\",\n        \"std\": 45734.44588762869,\n        \"min\": 11.58,\n        \"max\": 199992.48,\n        \"num_unique_values\": 6242,\n        \"samples\": [\n          113553.42,\n          136816.37\n        ],\n        \"semantic_type\": \"\",\n        \"description\": \"\"\n      }\n    },\n    {\n      \"column\": \"Exited\",\n      \"properties\": {\n        \"dtype\": \"number\",\n        \"std\": 0.40259009858008776,\n        \"min\": 0.0,\n        \"max\": 1.0,\n        \"num_unique_values\": 2,\n        \"samples\": [\n          1.0,\n          0.0\n        ],\n        \"semantic_type\": \"\",\n        \"description\": \"\"\n      }\n    }\n  ]\n}"
      }
     },
     "metadata": {},
     "execution_count": 6
    }
   ]
  },
  {
   "cell_type": "code",
   "source": [
    "def split_train_val(df: pd.DataFrame, target_col: str, test_size: float = 0.2, random_state: int = 42) -> Tuple[pd.DataFrame, pd.DataFrame]:\n",
    "    \"\"\"\n",
    "    Split the dataframe into training and validation sets.\n",
    "\n",
    "    Args:\n",
    "        df (pd.DataFrame): The raw dataframe.\n",
    "        target_col (str): The target column for stratification.\n",
    "        test_size (float): The proportion of the dataset to include in the validation split.\n",
    "        random_state (int): Random state for reproducibility.\n",
    "\n",
    "    Returns:\n",
    "        Tuple[pd.DataFrame, pd.DataFrame]: Training and validation dataframes.\n",
    "    \"\"\"\n",
    "    train_df, val_df = train_test_split(df, test_size=test_size, random_state=random_state, stratify=df[target_col])\n",
    "    return train_df, val_df\n",
    "\n",
    "\n",
    "def separate_inputs_targets(df: pd.DataFrame, input_cols: list, target_col: str) -> Tuple[pd.DataFrame, pd.Series]:\n",
    "    \"\"\"\n",
    "    Separate inputs and targets from the dataframe.\n",
    "\n",
    "    Args:\n",
    "        df (pd.DataFrame): The dataframe.\n",
    "        input_cols (list): List of input columns.\n",
    "        target_col (str): Target column.\n",
    "\n",
    "    Returns:\n",
    "        Tuple[pd.DataFrame, pd.Series]: DataFrame of inputs and Series of targets.\n",
    "    \"\"\"\n",
    "    inputs = df[input_cols].copy()\n",
    "    targets = df[target_col].copy()\n",
    "    return inputs, targets"
   ],
   "metadata": {
    "id": "cKE8RTPf6CRD"
   },
   "execution_count": 7,
   "outputs": []
  },
  {
   "cell_type": "code",
   "source": [
    "target_col = 'Exited'\n",
    "train_df, val_df = split_train_val(df=raw_train_data, target_col=target_col)\n",
    "\n",
    "unnecessary_columns=[ 'id', 'Exited'] #'Surname',\t'CustomerId']\n",
    "input_cols = [col for col in raw_train_data.columns if col not in unnecessary_columns]\n",
    "\n",
    "X_train, y_train = separate_inputs_targets(df=train_df,input_cols=input_cols, target_col=target_col)\n",
    "X_val, y_val = separate_inputs_targets(df=val_df,input_cols=input_cols, target_col=target_col)"
   ],
   "metadata": {
    "id": "-bHdMJVB4xQR"
   },
   "execution_count": 8,
   "outputs": []
  },
  {
   "cell_type": "markdown",
   "source": [
    "#### Завдання 1"
   ],
   "metadata": {
    "id": "guLef2lVc2V-"
   }
  },
  {
   "cell_type": "markdown",
   "source": [
    "1. В тренувальному та валідаційному наборі перетворіть категоріальні ознаки на тип `category`. Можна це зробити двома способами:\n",
    " 1. `df[col_name].astype('category')`, як було продемонстровано в лекції\n",
    " 2. використовуючи метод `pd.Categorical(df[col_name])`"
   ],
   "metadata": {
    "id": "cq0JU7MqHgp_"
   }
  },
  {
   "cell_type": "code",
   "source": [
    "cat_col_names = X_train.select_dtypes('object').columns.tolist()"
   ],
   "metadata": {
    "id": "8TaBZOi9yiHi"
   },
   "execution_count": 9,
   "outputs": []
  },
  {
   "cell_type": "code",
   "source": [
    "X_train[cat_col_names] = X_train[cat_col_names].apply(pd.Categorical)\n",
    "X_val[cat_col_names] = X_val[cat_col_names].apply(pd.Categorical)"
   ],
   "metadata": {
    "id": "UPmqo-Mr4yUO"
   },
   "execution_count": 10,
   "outputs": []
  },
  {
   "cell_type": "code",
   "source": [
    "X_train.head(3)"
   ],
   "metadata": {
    "colab": {
     "base_uri": "https://localhost:8080/",
     "height": 144
    },
    "id": "Z-gMQ538dgK_",
    "outputId": "c1436259-2ca5-4f3f-f3d6-05d72ed6b481"
   },
   "execution_count": 11,
   "outputs": [
    {
     "output_type": "execute_result",
     "data": {
      "text/plain": [
       "       CustomerId Surname  CreditScore Geography  Gender   Age  Tenure  \\\n",
       "7180   15652218.0    Mays        682.0    France    Male  30.0     1.0   \n",
       "10393  15592937.0  Ch'eng        684.0    France  Female  39.0     2.0   \n",
       "80     15774586.0   Ch'in        705.0   Germany    Male  35.0     6.0   \n",
       "\n",
       "         Balance  NumOfProducts  HasCrCard  IsActiveMember  EstimatedSalary  \n",
       "7180   131394.56            1.0        1.0             1.0        143952.24  \n",
       "10393  178058.06            1.0        1.0             0.0        145518.31  \n",
       "80     116320.68            2.0        1.0             0.0        174431.01  "
      ],
      "text/html": [
       "\n",
       "  <div id=\"df-6d458a12-c0d8-4805-99b8-b1e57fcd6718\" class=\"colab-df-container\">\n",
       "    <div>\n",
       "<style scoped>\n",
       "    .dataframe tbody tr th:only-of-type {\n",
       "        vertical-align: middle;\n",
       "    }\n",
       "\n",
       "    .dataframe tbody tr th {\n",
       "        vertical-align: top;\n",
       "    }\n",
       "\n",
       "    .dataframe thead th {\n",
       "        text-align: right;\n",
       "    }\n",
       "</style>\n",
       "<table border=\"1\" class=\"dataframe\">\n",
       "  <thead>\n",
       "    <tr style=\"text-align: right;\">\n",
       "      <th></th>\n",
       "      <th>CustomerId</th>\n",
       "      <th>Surname</th>\n",
       "      <th>CreditScore</th>\n",
       "      <th>Geography</th>\n",
       "      <th>Gender</th>\n",
       "      <th>Age</th>\n",
       "      <th>Tenure</th>\n",
       "      <th>Balance</th>\n",
       "      <th>NumOfProducts</th>\n",
       "      <th>HasCrCard</th>\n",
       "      <th>IsActiveMember</th>\n",
       "      <th>EstimatedSalary</th>\n",
       "    </tr>\n",
       "  </thead>\n",
       "  <tbody>\n",
       "    <tr>\n",
       "      <th>7180</th>\n",
       "      <td>15652218.0</td>\n",
       "      <td>Mays</td>\n",
       "      <td>682.0</td>\n",
       "      <td>France</td>\n",
       "      <td>Male</td>\n",
       "      <td>30.0</td>\n",
       "      <td>1.0</td>\n",
       "      <td>131394.56</td>\n",
       "      <td>1.0</td>\n",
       "      <td>1.0</td>\n",
       "      <td>1.0</td>\n",
       "      <td>143952.24</td>\n",
       "    </tr>\n",
       "    <tr>\n",
       "      <th>10393</th>\n",
       "      <td>15592937.0</td>\n",
       "      <td>Ch'eng</td>\n",
       "      <td>684.0</td>\n",
       "      <td>France</td>\n",
       "      <td>Female</td>\n",
       "      <td>39.0</td>\n",
       "      <td>2.0</td>\n",
       "      <td>178058.06</td>\n",
       "      <td>1.0</td>\n",
       "      <td>1.0</td>\n",
       "      <td>0.0</td>\n",
       "      <td>145518.31</td>\n",
       "    </tr>\n",
       "    <tr>\n",
       "      <th>80</th>\n",
       "      <td>15774586.0</td>\n",
       "      <td>Ch'in</td>\n",
       "      <td>705.0</td>\n",
       "      <td>Germany</td>\n",
       "      <td>Male</td>\n",
       "      <td>35.0</td>\n",
       "      <td>6.0</td>\n",
       "      <td>116320.68</td>\n",
       "      <td>2.0</td>\n",
       "      <td>1.0</td>\n",
       "      <td>0.0</td>\n",
       "      <td>174431.01</td>\n",
       "    </tr>\n",
       "  </tbody>\n",
       "</table>\n",
       "</div>\n",
       "    <div class=\"colab-df-buttons\">\n",
       "\n",
       "  <div class=\"colab-df-container\">\n",
       "    <button class=\"colab-df-convert\" onclick=\"convertToInteractive('df-6d458a12-c0d8-4805-99b8-b1e57fcd6718')\"\n",
       "            title=\"Convert this dataframe to an interactive table.\"\n",
       "            style=\"display:none;\">\n",
       "\n",
       "  <svg xmlns=\"http://www.w3.org/2000/svg\" height=\"24px\" viewBox=\"0 -960 960 960\">\n",
       "    <path d=\"M120-120v-720h720v720H120Zm60-500h600v-160H180v160Zm220 220h160v-160H400v160Zm0 220h160v-160H400v160ZM180-400h160v-160H180v160Zm440 0h160v-160H620v160ZM180-180h160v-160H180v160Zm440 0h160v-160H620v160Z\"/>\n",
       "  </svg>\n",
       "    </button>\n",
       "\n",
       "  <style>\n",
       "    .colab-df-container {\n",
       "      display:flex;\n",
       "      gap: 12px;\n",
       "    }\n",
       "\n",
       "    .colab-df-convert {\n",
       "      background-color: #E8F0FE;\n",
       "      border: none;\n",
       "      border-radius: 50%;\n",
       "      cursor: pointer;\n",
       "      display: none;\n",
       "      fill: #1967D2;\n",
       "      height: 32px;\n",
       "      padding: 0 0 0 0;\n",
       "      width: 32px;\n",
       "    }\n",
       "\n",
       "    .colab-df-convert:hover {\n",
       "      background-color: #E2EBFA;\n",
       "      box-shadow: 0px 1px 2px rgba(60, 64, 67, 0.3), 0px 1px 3px 1px rgba(60, 64, 67, 0.15);\n",
       "      fill: #174EA6;\n",
       "    }\n",
       "\n",
       "    .colab-df-buttons div {\n",
       "      margin-bottom: 4px;\n",
       "    }\n",
       "\n",
       "    [theme=dark] .colab-df-convert {\n",
       "      background-color: #3B4455;\n",
       "      fill: #D2E3FC;\n",
       "    }\n",
       "\n",
       "    [theme=dark] .colab-df-convert:hover {\n",
       "      background-color: #434B5C;\n",
       "      box-shadow: 0px 1px 3px 1px rgba(0, 0, 0, 0.15);\n",
       "      filter: drop-shadow(0px 1px 2px rgba(0, 0, 0, 0.3));\n",
       "      fill: #FFFFFF;\n",
       "    }\n",
       "  </style>\n",
       "\n",
       "    <script>\n",
       "      const buttonEl =\n",
       "        document.querySelector('#df-6d458a12-c0d8-4805-99b8-b1e57fcd6718 button.colab-df-convert');\n",
       "      buttonEl.style.display =\n",
       "        google.colab.kernel.accessAllowed ? 'block' : 'none';\n",
       "\n",
       "      async function convertToInteractive(key) {\n",
       "        const element = document.querySelector('#df-6d458a12-c0d8-4805-99b8-b1e57fcd6718');\n",
       "        const dataTable =\n",
       "          await google.colab.kernel.invokeFunction('convertToInteractive',\n",
       "                                                    [key], {});\n",
       "        if (!dataTable) return;\n",
       "\n",
       "        const docLinkHtml = 'Like what you see? Visit the ' +\n",
       "          '<a target=\"_blank\" href=https://colab.research.google.com/notebooks/data_table.ipynb>data table notebook</a>'\n",
       "          + ' to learn more about interactive tables.';\n",
       "        element.innerHTML = '';\n",
       "        dataTable['output_type'] = 'display_data';\n",
       "        await google.colab.output.renderOutput(dataTable, element);\n",
       "        const docLink = document.createElement('div');\n",
       "        docLink.innerHTML = docLinkHtml;\n",
       "        element.appendChild(docLink);\n",
       "      }\n",
       "    </script>\n",
       "  </div>\n",
       "\n",
       "\n",
       "<div id=\"df-d6c90cea-5455-403d-85e9-c1b4df4a4c35\">\n",
       "  <button class=\"colab-df-quickchart\" onclick=\"quickchart('df-d6c90cea-5455-403d-85e9-c1b4df4a4c35')\"\n",
       "            title=\"Suggest charts\"\n",
       "            style=\"display:none;\">\n",
       "\n",
       "<svg xmlns=\"http://www.w3.org/2000/svg\" height=\"24px\"viewBox=\"0 0 24 24\"\n",
       "     width=\"24px\">\n",
       "    <g>\n",
       "        <path d=\"M19 3H5c-1.1 0-2 .9-2 2v14c0 1.1.9 2 2 2h14c1.1 0 2-.9 2-2V5c0-1.1-.9-2-2-2zM9 17H7v-7h2v7zm4 0h-2V7h2v10zm4 0h-2v-4h2v4z\"/>\n",
       "    </g>\n",
       "</svg>\n",
       "  </button>\n",
       "\n",
       "<style>\n",
       "  .colab-df-quickchart {\n",
       "      --bg-color: #E8F0FE;\n",
       "      --fill-color: #1967D2;\n",
       "      --hover-bg-color: #E2EBFA;\n",
       "      --hover-fill-color: #174EA6;\n",
       "      --disabled-fill-color: #AAA;\n",
       "      --disabled-bg-color: #DDD;\n",
       "  }\n",
       "\n",
       "  [theme=dark] .colab-df-quickchart {\n",
       "      --bg-color: #3B4455;\n",
       "      --fill-color: #D2E3FC;\n",
       "      --hover-bg-color: #434B5C;\n",
       "      --hover-fill-color: #FFFFFF;\n",
       "      --disabled-bg-color: #3B4455;\n",
       "      --disabled-fill-color: #666;\n",
       "  }\n",
       "\n",
       "  .colab-df-quickchart {\n",
       "    background-color: var(--bg-color);\n",
       "    border: none;\n",
       "    border-radius: 50%;\n",
       "    cursor: pointer;\n",
       "    display: none;\n",
       "    fill: var(--fill-color);\n",
       "    height: 32px;\n",
       "    padding: 0;\n",
       "    width: 32px;\n",
       "  }\n",
       "\n",
       "  .colab-df-quickchart:hover {\n",
       "    background-color: var(--hover-bg-color);\n",
       "    box-shadow: 0 1px 2px rgba(60, 64, 67, 0.3), 0 1px 3px 1px rgba(60, 64, 67, 0.15);\n",
       "    fill: var(--button-hover-fill-color);\n",
       "  }\n",
       "\n",
       "  .colab-df-quickchart-complete:disabled,\n",
       "  .colab-df-quickchart-complete:disabled:hover {\n",
       "    background-color: var(--disabled-bg-color);\n",
       "    fill: var(--disabled-fill-color);\n",
       "    box-shadow: none;\n",
       "  }\n",
       "\n",
       "  .colab-df-spinner {\n",
       "    border: 2px solid var(--fill-color);\n",
       "    border-color: transparent;\n",
       "    border-bottom-color: var(--fill-color);\n",
       "    animation:\n",
       "      spin 1s steps(1) infinite;\n",
       "  }\n",
       "\n",
       "  @keyframes spin {\n",
       "    0% {\n",
       "      border-color: transparent;\n",
       "      border-bottom-color: var(--fill-color);\n",
       "      border-left-color: var(--fill-color);\n",
       "    }\n",
       "    20% {\n",
       "      border-color: transparent;\n",
       "      border-left-color: var(--fill-color);\n",
       "      border-top-color: var(--fill-color);\n",
       "    }\n",
       "    30% {\n",
       "      border-color: transparent;\n",
       "      border-left-color: var(--fill-color);\n",
       "      border-top-color: var(--fill-color);\n",
       "      border-right-color: var(--fill-color);\n",
       "    }\n",
       "    40% {\n",
       "      border-color: transparent;\n",
       "      border-right-color: var(--fill-color);\n",
       "      border-top-color: var(--fill-color);\n",
       "    }\n",
       "    60% {\n",
       "      border-color: transparent;\n",
       "      border-right-color: var(--fill-color);\n",
       "    }\n",
       "    80% {\n",
       "      border-color: transparent;\n",
       "      border-right-color: var(--fill-color);\n",
       "      border-bottom-color: var(--fill-color);\n",
       "    }\n",
       "    90% {\n",
       "      border-color: transparent;\n",
       "      border-bottom-color: var(--fill-color);\n",
       "    }\n",
       "  }\n",
       "</style>\n",
       "\n",
       "  <script>\n",
       "    async function quickchart(key) {\n",
       "      const quickchartButtonEl =\n",
       "        document.querySelector('#' + key + ' button');\n",
       "      quickchartButtonEl.disabled = true;  // To prevent multiple clicks.\n",
       "      quickchartButtonEl.classList.add('colab-df-spinner');\n",
       "      try {\n",
       "        const charts = await google.colab.kernel.invokeFunction(\n",
       "            'suggestCharts', [key], {});\n",
       "      } catch (error) {\n",
       "        console.error('Error during call to suggestCharts:', error);\n",
       "      }\n",
       "      quickchartButtonEl.classList.remove('colab-df-spinner');\n",
       "      quickchartButtonEl.classList.add('colab-df-quickchart-complete');\n",
       "    }\n",
       "    (() => {\n",
       "      let quickchartButtonEl =\n",
       "        document.querySelector('#df-d6c90cea-5455-403d-85e9-c1b4df4a4c35 button');\n",
       "      quickchartButtonEl.style.display =\n",
       "        google.colab.kernel.accessAllowed ? 'block' : 'none';\n",
       "    })();\n",
       "  </script>\n",
       "</div>\n",
       "    </div>\n",
       "  </div>\n"
      ],
      "application/vnd.google.colaboratory.intrinsic+json": {
       "type": "dataframe",
       "variable_name": "X_train",
       "summary": "{\n  \"name\": \"X_train\",\n  \"rows\": 12000,\n  \"fields\": [\n    {\n      \"column\": \"CustomerId\",\n      \"properties\": {\n        \"dtype\": \"number\",\n        \"std\": 146930.97193473845,\n        \"min\": 1581102.0,\n        \"max\": 15815690.0,\n        \"num_unique_values\": 5700,\n        \"samples\": [\n          15778089.0,\n          15601787.0,\n          15679550.0\n        ],\n        \"semantic_type\": \"\",\n        \"description\": \"\"\n      }\n    },\n    {\n      \"column\": \"Surname\",\n      \"properties\": {\n        \"dtype\": \"category\",\n        \"num_unique_values\": 732,\n        \"samples\": [\n          \"Lira\",\n          \"Nnanna\",\n          \"O'Donnell\"\n        ],\n        \"semantic_type\": \"\",\n        \"description\": \"\"\n      }\n    },\n    {\n      \"column\": \"CreditScore\",\n      \"properties\": {\n        \"dtype\": \"number\",\n        \"std\": 72.3349092176692,\n        \"min\": 431.0,\n        \"max\": 850.0,\n        \"num_unique_values\": 373,\n        \"samples\": [\n          759.0,\n          564.0,\n          678.0\n        ],\n        \"semantic_type\": \"\",\n        \"description\": \"\"\n      }\n    },\n    {\n      \"column\": \"Geography\",\n      \"properties\": {\n        \"dtype\": \"category\",\n        \"num_unique_values\": 3,\n        \"samples\": [\n          \"France\",\n          \"Germany\",\n          \"Spain\"\n        ],\n        \"semantic_type\": \"\",\n        \"description\": \"\"\n      }\n    },\n    {\n      \"column\": \"Gender\",\n      \"properties\": {\n        \"dtype\": \"category\",\n        \"num_unique_values\": 2,\n        \"samples\": [\n          \"Female\",\n          \"Male\"\n        ],\n        \"semantic_type\": \"\",\n        \"description\": \"\"\n      }\n    },\n    {\n      \"column\": \"Age\",\n      \"properties\": {\n        \"dtype\": \"number\",\n        \"std\": 8.138440074340142,\n        \"min\": 18.0,\n        \"max\": 74.0,\n        \"num_unique_values\": 56,\n        \"samples\": [\n          30.0,\n          37.0\n        ],\n        \"semantic_type\": \"\",\n        \"description\": \"\"\n      }\n    },\n    {\n      \"column\": \"Tenure\",\n      \"properties\": {\n        \"dtype\": \"number\",\n        \"std\": 2.7819743483411368,\n        \"min\": 0.0,\n        \"max\": 10.0,\n        \"num_unique_values\": 11,\n        \"samples\": [\n          9.0,\n          1.0\n        ],\n        \"semantic_type\": \"\",\n        \"description\": \"\"\n      }\n    },\n    {\n      \"column\": \"Balance\",\n      \"properties\": {\n        \"dtype\": \"number\",\n        \"std\": 59906.62766025313,\n        \"min\": 0.0,\n        \"max\": 209767.31,\n        \"num_unique_values\": 2895,\n        \"samples\": [\n          110641.18,\n          171283.91\n        ],\n        \"semantic_type\": \"\",\n        \"description\": \"\"\n      }\n    },\n    {\n      \"column\": \"NumOfProducts\",\n      \"properties\": {\n        \"dtype\": \"number\",\n        \"std\": 0.5326461428498426,\n        \"min\": 1.0,\n        \"max\": 4.0,\n        \"num_unique_values\": 4,\n        \"samples\": [\n          2.0,\n          4.0\n        ],\n        \"semantic_type\": \"\",\n        \"description\": \"\"\n      }\n    },\n    {\n      \"column\": \"HasCrCard\",\n      \"properties\": {\n        \"dtype\": \"number\",\n        \"std\": 0.4070876632692669,\n        \"min\": 0.0,\n        \"max\": 1.0,\n        \"num_unique_values\": 2,\n        \"samples\": [\n          0.0,\n          1.0\n        ],\n        \"semantic_type\": \"\",\n        \"description\": \"\"\n      }\n    },\n    {\n      \"column\": \"IsActiveMember\",\n      \"properties\": {\n        \"dtype\": \"number\",\n        \"std\": 0.49994998638656074,\n        \"min\": 0.0,\n        \"max\": 1.0,\n        \"num_unique_values\": 2,\n        \"samples\": [\n          0.0,\n          1.0\n        ],\n        \"semantic_type\": \"\",\n        \"description\": \"\"\n      }\n    },\n    {\n      \"column\": \"EstimatedSalary\",\n      \"properties\": {\n        \"dtype\": \"number\",\n        \"std\": 45589.48460747334,\n        \"min\": 11.58,\n        \"max\": 199992.48,\n        \"num_unique_values\": 5502,\n        \"samples\": [\n          140723.09,\n          179540.73\n        ],\n        \"semantic_type\": \"\",\n        \"description\": \"\"\n      }\n    }\n  ]\n}"
      }
     },
     "metadata": {},
     "execution_count": 11
    }
   ]
  },
  {
   "cell_type": "markdown",
   "source": [
    "#### Завдання 2"
   ],
   "metadata": {
    "id": "JO73ZSUIc4Cr"
   }
  },
  {
   "cell_type": "markdown",
   "source": [
    "2. Навчіть на отриманих даних модель `XGBoostClassifier`. Параметри алгоритму встановіть на свій розсуд, ми далі будемо їх тюнити. Рекомендую тренувати не дуже складну модель.\n",
    "\n",
    "  Опис всіх конфігураційних параметрів XGBoostClassifier - тут https://xgboost.readthedocs.io/en/stable/parameter.html#global-config\n",
    "\n",
    "  **Важливо:** зробіть такі налаштування `XGBoostClassifier` аби він самостійно обробляв незаповнені значення в даних і обробляв категоріальні колонки.\n",
    "\n",
    "  Можна також, якщо працюєте в Google Colab, увімкнути можливість використання GPU (`Runtime -> Change runtime type -> T4 GPU`) і встановити параметр `device='cuda'` в `XGBoostClassifier` для пришвидшення тренування бустинг моделі.\n",
    "  \n",
    "  Після тренування моделі\n",
    "  1. Виміряйте точність з допомогою AUROC на тренувальному та валідаційному наборах.\n",
    "  2. Зробіть висновок про отриману модель: вона хороша/погана, чи є high bias/high variance?\n",
    "  3. Порівняйте якість цієї моделі з тою, що ви отрмали з використанням DecisionTrees раніше. Чи вийшло покращити якість?"
   ],
   "metadata": {
    "id": "_LxWkv4o-wMe"
   }
  },
  {
   "cell_type": "code",
   "source": [
    "xgb_clf = XGBClassifier(\n",
    "    n_estimators=10,\n",
    "    learning_rate=0.05,\n",
    "    max_depth=3,\n",
    "    min_child_weight=1,\n",
    "    enable_categorical=True,\n",
    "    device='cuda'\n",
    ")\n",
    "\n",
    "xgb_clf.fit(X_train, y_train)\n",
    "\n",
    "train_probs = xgb_clf.predict_proba(X_train)[:, 1]\n",
    "val_probs = xgb_clf.predict_proba(X_val)[:, 1]\n",
    "\n",
    "train_auc = roc_auc_score(y_train, train_probs)\n",
    "val_auc = roc_auc_score(y_val, val_probs)\n",
    "\n",
    "print(f\"Train ROC-AUC: {train_auc:.4f}; Validation ROC-AUC: {val_auc:.4f}\")"
   ],
   "metadata": {
    "id": "_5rDqdDP41hb",
    "colab": {
     "base_uri": "https://localhost:8080/"
    },
    "outputId": "d03b3cd9-081a-4300-9468-ff6d88ce19f4"
   },
   "execution_count": 12,
   "outputs": [
    {
     "output_type": "stream",
     "name": "stdout",
     "text": [
      "Train ROC-AUC: 0.9107; Validation ROC-AUC: 0.9038\n"
     ]
    }
   ]
  },
  {
   "cell_type": "markdown",
   "source": [
    "**Спостереження**:\n",
    "\n",
    "- Загалом якість моделі достатньо висока, значення метрики ROC-AUC не сильно відрізняється для тренувального та валідацційного наборів даних, отже модель гарно генералізує.\n",
    "\n",
    "- Модель гарно навчилася на тренувальних даних та має подібний всокий скор на валідаційних даних, отже можемо сказати high bias/high variance - відсутні.\n",
    "\n",
    "- Порівнюючи з зі найпростішою моделлю DecisionTrees - ця модель набагато краща.\n",
    "\n",
    "- Порівнюючи з моделлю DecisionTrees натреноваю з гіперпараметром `max_depth=5` (Train:0.9257/Validation:0.9219), то XGBoost показала трішки гірші результати."
   ],
   "metadata": {
    "id": "sdojb2KxfRAv"
   }
  },
  {
   "cell_type": "markdown",
   "source": [
    "#### Завадання 3"
   ],
   "metadata": {
    "id": "gLs2ldJmcxRf"
   }
  },
  {
   "cell_type": "markdown",
   "source": [
    "3. Використовуючи бібліотеку `Hyperopt` і приклад пошуку гіперпараметрів для `XGBoostClassifier` з лекції знайдіть оптимальні значення гіперпараметрів `XGBoostClassifier` для нашої задачі. Задайте свою сітку гіперпараметрів виходячи з тих параметрів, які ви б хотіли перебрати. Поставте кількість раундів в підборі гіперпараметрів рівну **20**.\n",
    "\n",
    "  **Увага!** Для того, аби скористатись hyperopt, нам треба задати функцію `objective`. В ній ми маємо задати loss - це може будь-яка метрика, але бажано використовувтаи ту, яка цільова в вашій задачі. Чим менший лосс - тим ліпша модель на думку hyperopt. Тож, тут нам треба задати loss - негативне значення AUROC. В лекції ми натомість використовували Accuracy.\n",
    "\n",
    "  Після успішного завершення пошуку оптимальних гіперпараметрів\n",
    "    - виведіть найкращі значення гіперпараметрів\n",
    "    - створіть в окремій зміній `final_clf` модель `XGBoostClassifier` з найкращими гіперпараметрами\n",
    "    - навчіть модель `final_clf`\n",
    "    - оцініть якість моделі `final_clf` на тренувальній і валідаційній вибірках з допомогою AUROC.\n",
    "    - зробіть висновок про якість моделі. Чи стала вона краще порівняно з попереднім пунктом (2) цього завдання?"
   ],
   "metadata": {
    "id": "U4hm5qYs_f7x"
   }
  },
  {
   "cell_type": "code",
   "source": [
    "def objective(params, model_class, **model_kwargs):\n",
    "    model = model_class(\n",
    "        **{k: int(v) if k in ['n_estimators', 'max_depth', 'min_child_weight', 'num_leaves'] else v for k, v in params.items()}, **model_kwargs\n",
    "    )\n",
    "\n",
    "    if model_class == lgb.LGBMClassifier:\n",
    "        model.fit(X_train, y_train, eval_set=[(X_val, y_val)], categorical_feature=model_kwargs.get('categorical_feature', []))\n",
    "    else:\n",
    "        model.fit(X_train, y_train, eval_set=[(X_val, y_val)], verbose=False)\n",
    "\n",
    "    val_pred = model.predict_proba(X_val)[:, 1]\n",
    "    roc_auc = roc_auc_score(y_val, val_pred)\n",
    "\n",
    "    return {'loss': -roc_auc, 'status': STATUS_OK}\n"
   ],
   "metadata": {
    "id": "ehojckY0wnS6"
   },
   "execution_count": 13,
   "outputs": []
  },
  {
   "cell_type": "code",
   "source": [
    "xgb_space = {\n",
    "    'n_estimators': hp.quniform('n_estimators', 50, 500, 25),\n",
    "    'learning_rate': hp.uniform('learning_rate', 0.01, 0.1),\n",
    "    'max_depth': hp.quniform('max_depth', 3, 10, 1),\n",
    "    'min_child_weight': hp.quniform('min_child_weight', 1, 10, 1),\n",
    "    'subsample': hp.uniform('subsample', 0.1, 1.0),\n",
    "    'colsample_bytree': hp.uniform('colsample_bytree', 0.1, 1.0),\n",
    "    'gamma': hp.uniform('gamma', 0, 0.5),\n",
    "    'reg_alpha': hp.uniform('reg_alpha', 0, 1),\n",
    "    'reg_lambda': hp.uniform('reg_lambda', 0, 1)\n",
    "}"
   ],
   "metadata": {
    "id": "H8td9QAKiDyj"
   },
   "execution_count": 14,
   "outputs": []
  },
  {
   "cell_type": "code",
   "source": [
    "xgb_trials = Trials()\n",
    "xgb_best = fmin(\n",
    "    fn=lambda params: objective(params, XGBClassifier, enable_categorical=True, use_label_encoder=False, random_state=42, device='cuda'),\n",
    "    space=xgb_space, algo=tpe.suggest, max_evals=20, trials=xgb_trials\n",
    ")"
   ],
   "metadata": {
    "colab": {
     "base_uri": "https://localhost:8080/"
    },
    "collapsed": true,
    "id": "1Bz4OxY_kyjy",
    "outputId": "e9bba8e1-7bbd-4aca-f9ba-a832e5939dab"
   },
   "execution_count": 15,
   "outputs": [
    {
     "output_type": "stream",
     "name": "stdout",
     "text": [
      "100%|██████████| 20/20 [00:24<00:00,  1.21s/trial, best loss: -0.9361993278002606]\n"
     ]
    }
   ]
  },
  {
   "cell_type": "code",
   "source": [
    "xgb_best['n_estimators'] = int(xgb_best['n_estimators'])\n",
    "xgb_best['max_depth'] = int(xgb_best['max_depth'])\n",
    "xgb_best['min_child_weight'] = int(xgb_best['min_child_weight'])\n",
    "\n",
    "print(\"Найкращі гіперпараметри: \")\n",
    "pprint(xgb_best)"
   ],
   "metadata": {
    "colab": {
     "base_uri": "https://localhost:8080/"
    },
    "id": "kI6UAQG5w5NZ",
    "outputId": "04696f97-ee47-46f0-b45e-ab795e0e60f9"
   },
   "execution_count": 16,
   "outputs": [
    {
     "output_type": "stream",
     "name": "stdout",
     "text": [
      "Найкращі гіперпараметри: \n",
      "{'colsample_bytree': 0.6262348127762706,\n",
      " 'gamma': 0.005077706296407025,\n",
      " 'learning_rate': 0.026113552430464787,\n",
      " 'max_depth': 8,\n",
      " 'min_child_weight': 7,\n",
      " 'n_estimators': 125,\n",
      " 'reg_alpha': 0.2087933489981597,\n",
      " 'reg_lambda': 0.9007418874425132,\n",
      " 'subsample': 0.3937056174052659}\n"
     ]
    }
   ]
  },
  {
   "cell_type": "code",
   "source": [
    "final_clf = XGBClassifier(\n",
    "    n_estimators=xgb_best['n_estimators'],\n",
    "    learning_rate=xgb_best['learning_rate'],\n",
    "    max_depth=xgb_best['max_depth'],\n",
    "    min_child_weight=xgb_best['min_child_weight'],\n",
    "    gamma=xgb_best['gamma'],\n",
    "    subsample=xgb_best['subsample'],\n",
    "    colsample_bytree=xgb_best['colsample_bytree'],\n",
    "    reg_lambda=xgb_best['reg_lambda'],\n",
    "    reg_alpha=xgb_best['reg_alpha'],\n",
    "    enable_categorical=True,\n",
    "    random_state=42,\n",
    "    device='cuda'\n",
    ").fit(X_train, y_train)\n",
    "\n",
    "train_pred = final_clf.predict_proba(X_train)[:, 1]\n",
    "val_pred = final_clf.predict_proba(X_val)[:, 1]\n",
    "\n",
    "train_auc = roc_auc_score(y_train, train_pred)\n",
    "val_auc = roc_auc_score(y_val, val_pred)\n",
    "\n",
    "print(f\"Train ROC-AUC: {train_auc:.4f}; Validation ROC-AUC: {val_auc:.4f}\")"
   ],
   "metadata": {
    "colab": {
     "base_uri": "https://localhost:8080/"
    },
    "id": "BVmXzCfiw5B2",
    "outputId": "9922fac4-2d30-4f24-ceca-7ba4d6c55afa"
   },
   "execution_count": 17,
   "outputs": [
    {
     "output_type": "stream",
     "name": "stdout",
     "text": [
      "Train ROC-AUC: 0.9497; Validation ROC-AUC: 0.9362\n"
     ]
    }
   ]
  },
  {
   "cell_type": "markdown",
   "source": [
    "**Спостереження**:\n",
    "\n",
    "- Якість моделі достатньо висока, значення метрики ROC-AUC не сильно відрізняється для тренувального та валідацційного наборів даних, отже модель покахує гарну спроможність узагальнювати.\n",
    "\n",
    "- Якість моделі зросла порівняно з минулою моделлю, отже якість підвищилась.\n",
    "\n",
    "- Порівнючи з найкращим результатом, отриманим з моделлю DecisionTrees(натреноваю з гіперпараметром `max_depth=5` де Train:0.9257/Validation:0.9219) - отрмана модель XGBoostClassifier  з затюненими параметрами краща.\n",
    "\n",
    "- Модель гарно навчилася на тренувальних даних та має подібний всокий скор на валідаційних даних, отже можемо сказати high bias/high variance - відсутні."
   ],
   "metadata": {
    "id": "N8EUoLjInZVa"
   }
  },
  {
   "cell_type": "markdown",
   "source": [
    "#### Завадння 4"
   ],
   "metadata": {
    "id": "g9s2VrXCc6Yv"
   }
  },
  {
   "cell_type": "markdown",
   "source": [
    "4. Навчіть на наших даних модель LightGBM. Параметри алгоритму встановіть на свій розсуд, ми далі будемо їх тюнити. Рекомендую тренувати не дуже складну модель.\n",
    "\n",
    "  Опис всіх конфігураційних параметрів LightGBM - тут https://lightgbm.readthedocs.io/en/latest/Parameters.html\n",
    "\n",
    "  **Важливо:** зробіть такі налаштування LightGBM аби він самостійно обробляв незаповнені значення в даних і обробляв категоріальні колонки.\n",
    "\n",
    "  Аби передати категоріальні колонки в LightGBM - необхідно виявити їх індекси і передати в параметрі `cat_feature=cat_feature_indexes`\n",
    "\n",
    "  Після тренування моделі\n",
    "  1. Виміряйте точність з допомогою AUROC на тренувальному та валідаційному наборах.\n",
    "  2. Зробіть висновок про отриману модель: вона хороша/погана, чи є high bias/high variance?\n",
    "  3. Порівняйте якість цієї моделі з тою, що ви отрмали з використанням XGBoostClassifier раніше. Чи вийшло покращити якість?"
   ],
   "metadata": {
    "id": "Vg77SVWrBBmU"
   }
  },
  {
   "cell_type": "code",
   "source": [
    "X_train.head(3)"
   ],
   "metadata": {
    "colab": {
     "base_uri": "https://localhost:8080/",
     "height": 144
    },
    "id": "eWsWQZCVqug8",
    "outputId": "17a0f95d-35a8-4c7a-c13b-9276cd44aad1"
   },
   "execution_count": 18,
   "outputs": [
    {
     "output_type": "execute_result",
     "data": {
      "text/plain": [
       "       CustomerId Surname  CreditScore Geography  Gender   Age  Tenure  \\\n",
       "7180   15652218.0    Mays        682.0    France    Male  30.0     1.0   \n",
       "10393  15592937.0  Ch'eng        684.0    France  Female  39.0     2.0   \n",
       "80     15774586.0   Ch'in        705.0   Germany    Male  35.0     6.0   \n",
       "\n",
       "         Balance  NumOfProducts  HasCrCard  IsActiveMember  EstimatedSalary  \n",
       "7180   131394.56            1.0        1.0             1.0        143952.24  \n",
       "10393  178058.06            1.0        1.0             0.0        145518.31  \n",
       "80     116320.68            2.0        1.0             0.0        174431.01  "
      ],
      "text/html": [
       "\n",
       "  <div id=\"df-f711b036-e6c9-49bb-92e5-25a85b3d069c\" class=\"colab-df-container\">\n",
       "    <div>\n",
       "<style scoped>\n",
       "    .dataframe tbody tr th:only-of-type {\n",
       "        vertical-align: middle;\n",
       "    }\n",
       "\n",
       "    .dataframe tbody tr th {\n",
       "        vertical-align: top;\n",
       "    }\n",
       "\n",
       "    .dataframe thead th {\n",
       "        text-align: right;\n",
       "    }\n",
       "</style>\n",
       "<table border=\"1\" class=\"dataframe\">\n",
       "  <thead>\n",
       "    <tr style=\"text-align: right;\">\n",
       "      <th></th>\n",
       "      <th>CustomerId</th>\n",
       "      <th>Surname</th>\n",
       "      <th>CreditScore</th>\n",
       "      <th>Geography</th>\n",
       "      <th>Gender</th>\n",
       "      <th>Age</th>\n",
       "      <th>Tenure</th>\n",
       "      <th>Balance</th>\n",
       "      <th>NumOfProducts</th>\n",
       "      <th>HasCrCard</th>\n",
       "      <th>IsActiveMember</th>\n",
       "      <th>EstimatedSalary</th>\n",
       "    </tr>\n",
       "  </thead>\n",
       "  <tbody>\n",
       "    <tr>\n",
       "      <th>7180</th>\n",
       "      <td>15652218.0</td>\n",
       "      <td>Mays</td>\n",
       "      <td>682.0</td>\n",
       "      <td>France</td>\n",
       "      <td>Male</td>\n",
       "      <td>30.0</td>\n",
       "      <td>1.0</td>\n",
       "      <td>131394.56</td>\n",
       "      <td>1.0</td>\n",
       "      <td>1.0</td>\n",
       "      <td>1.0</td>\n",
       "      <td>143952.24</td>\n",
       "    </tr>\n",
       "    <tr>\n",
       "      <th>10393</th>\n",
       "      <td>15592937.0</td>\n",
       "      <td>Ch'eng</td>\n",
       "      <td>684.0</td>\n",
       "      <td>France</td>\n",
       "      <td>Female</td>\n",
       "      <td>39.0</td>\n",
       "      <td>2.0</td>\n",
       "      <td>178058.06</td>\n",
       "      <td>1.0</td>\n",
       "      <td>1.0</td>\n",
       "      <td>0.0</td>\n",
       "      <td>145518.31</td>\n",
       "    </tr>\n",
       "    <tr>\n",
       "      <th>80</th>\n",
       "      <td>15774586.0</td>\n",
       "      <td>Ch'in</td>\n",
       "      <td>705.0</td>\n",
       "      <td>Germany</td>\n",
       "      <td>Male</td>\n",
       "      <td>35.0</td>\n",
       "      <td>6.0</td>\n",
       "      <td>116320.68</td>\n",
       "      <td>2.0</td>\n",
       "      <td>1.0</td>\n",
       "      <td>0.0</td>\n",
       "      <td>174431.01</td>\n",
       "    </tr>\n",
       "  </tbody>\n",
       "</table>\n",
       "</div>\n",
       "    <div class=\"colab-df-buttons\">\n",
       "\n",
       "  <div class=\"colab-df-container\">\n",
       "    <button class=\"colab-df-convert\" onclick=\"convertToInteractive('df-f711b036-e6c9-49bb-92e5-25a85b3d069c')\"\n",
       "            title=\"Convert this dataframe to an interactive table.\"\n",
       "            style=\"display:none;\">\n",
       "\n",
       "  <svg xmlns=\"http://www.w3.org/2000/svg\" height=\"24px\" viewBox=\"0 -960 960 960\">\n",
       "    <path d=\"M120-120v-720h720v720H120Zm60-500h600v-160H180v160Zm220 220h160v-160H400v160Zm0 220h160v-160H400v160ZM180-400h160v-160H180v160Zm440 0h160v-160H620v160ZM180-180h160v-160H180v160Zm440 0h160v-160H620v160Z\"/>\n",
       "  </svg>\n",
       "    </button>\n",
       "\n",
       "  <style>\n",
       "    .colab-df-container {\n",
       "      display:flex;\n",
       "      gap: 12px;\n",
       "    }\n",
       "\n",
       "    .colab-df-convert {\n",
       "      background-color: #E8F0FE;\n",
       "      border: none;\n",
       "      border-radius: 50%;\n",
       "      cursor: pointer;\n",
       "      display: none;\n",
       "      fill: #1967D2;\n",
       "      height: 32px;\n",
       "      padding: 0 0 0 0;\n",
       "      width: 32px;\n",
       "    }\n",
       "\n",
       "    .colab-df-convert:hover {\n",
       "      background-color: #E2EBFA;\n",
       "      box-shadow: 0px 1px 2px rgba(60, 64, 67, 0.3), 0px 1px 3px 1px rgba(60, 64, 67, 0.15);\n",
       "      fill: #174EA6;\n",
       "    }\n",
       "\n",
       "    .colab-df-buttons div {\n",
       "      margin-bottom: 4px;\n",
       "    }\n",
       "\n",
       "    [theme=dark] .colab-df-convert {\n",
       "      background-color: #3B4455;\n",
       "      fill: #D2E3FC;\n",
       "    }\n",
       "\n",
       "    [theme=dark] .colab-df-convert:hover {\n",
       "      background-color: #434B5C;\n",
       "      box-shadow: 0px 1px 3px 1px rgba(0, 0, 0, 0.15);\n",
       "      filter: drop-shadow(0px 1px 2px rgba(0, 0, 0, 0.3));\n",
       "      fill: #FFFFFF;\n",
       "    }\n",
       "  </style>\n",
       "\n",
       "    <script>\n",
       "      const buttonEl =\n",
       "        document.querySelector('#df-f711b036-e6c9-49bb-92e5-25a85b3d069c button.colab-df-convert');\n",
       "      buttonEl.style.display =\n",
       "        google.colab.kernel.accessAllowed ? 'block' : 'none';\n",
       "\n",
       "      async function convertToInteractive(key) {\n",
       "        const element = document.querySelector('#df-f711b036-e6c9-49bb-92e5-25a85b3d069c');\n",
       "        const dataTable =\n",
       "          await google.colab.kernel.invokeFunction('convertToInteractive',\n",
       "                                                    [key], {});\n",
       "        if (!dataTable) return;\n",
       "\n",
       "        const docLinkHtml = 'Like what you see? Visit the ' +\n",
       "          '<a target=\"_blank\" href=https://colab.research.google.com/notebooks/data_table.ipynb>data table notebook</a>'\n",
       "          + ' to learn more about interactive tables.';\n",
       "        element.innerHTML = '';\n",
       "        dataTable['output_type'] = 'display_data';\n",
       "        await google.colab.output.renderOutput(dataTable, element);\n",
       "        const docLink = document.createElement('div');\n",
       "        docLink.innerHTML = docLinkHtml;\n",
       "        element.appendChild(docLink);\n",
       "      }\n",
       "    </script>\n",
       "  </div>\n",
       "\n",
       "\n",
       "<div id=\"df-d2ee6cde-9438-4755-b2d6-012d72eb5c3d\">\n",
       "  <button class=\"colab-df-quickchart\" onclick=\"quickchart('df-d2ee6cde-9438-4755-b2d6-012d72eb5c3d')\"\n",
       "            title=\"Suggest charts\"\n",
       "            style=\"display:none;\">\n",
       "\n",
       "<svg xmlns=\"http://www.w3.org/2000/svg\" height=\"24px\"viewBox=\"0 0 24 24\"\n",
       "     width=\"24px\">\n",
       "    <g>\n",
       "        <path d=\"M19 3H5c-1.1 0-2 .9-2 2v14c0 1.1.9 2 2 2h14c1.1 0 2-.9 2-2V5c0-1.1-.9-2-2-2zM9 17H7v-7h2v7zm4 0h-2V7h2v10zm4 0h-2v-4h2v4z\"/>\n",
       "    </g>\n",
       "</svg>\n",
       "  </button>\n",
       "\n",
       "<style>\n",
       "  .colab-df-quickchart {\n",
       "      --bg-color: #E8F0FE;\n",
       "      --fill-color: #1967D2;\n",
       "      --hover-bg-color: #E2EBFA;\n",
       "      --hover-fill-color: #174EA6;\n",
       "      --disabled-fill-color: #AAA;\n",
       "      --disabled-bg-color: #DDD;\n",
       "  }\n",
       "\n",
       "  [theme=dark] .colab-df-quickchart {\n",
       "      --bg-color: #3B4455;\n",
       "      --fill-color: #D2E3FC;\n",
       "      --hover-bg-color: #434B5C;\n",
       "      --hover-fill-color: #FFFFFF;\n",
       "      --disabled-bg-color: #3B4455;\n",
       "      --disabled-fill-color: #666;\n",
       "  }\n",
       "\n",
       "  .colab-df-quickchart {\n",
       "    background-color: var(--bg-color);\n",
       "    border: none;\n",
       "    border-radius: 50%;\n",
       "    cursor: pointer;\n",
       "    display: none;\n",
       "    fill: var(--fill-color);\n",
       "    height: 32px;\n",
       "    padding: 0;\n",
       "    width: 32px;\n",
       "  }\n",
       "\n",
       "  .colab-df-quickchart:hover {\n",
       "    background-color: var(--hover-bg-color);\n",
       "    box-shadow: 0 1px 2px rgba(60, 64, 67, 0.3), 0 1px 3px 1px rgba(60, 64, 67, 0.15);\n",
       "    fill: var(--button-hover-fill-color);\n",
       "  }\n",
       "\n",
       "  .colab-df-quickchart-complete:disabled,\n",
       "  .colab-df-quickchart-complete:disabled:hover {\n",
       "    background-color: var(--disabled-bg-color);\n",
       "    fill: var(--disabled-fill-color);\n",
       "    box-shadow: none;\n",
       "  }\n",
       "\n",
       "  .colab-df-spinner {\n",
       "    border: 2px solid var(--fill-color);\n",
       "    border-color: transparent;\n",
       "    border-bottom-color: var(--fill-color);\n",
       "    animation:\n",
       "      spin 1s steps(1) infinite;\n",
       "  }\n",
       "\n",
       "  @keyframes spin {\n",
       "    0% {\n",
       "      border-color: transparent;\n",
       "      border-bottom-color: var(--fill-color);\n",
       "      border-left-color: var(--fill-color);\n",
       "    }\n",
       "    20% {\n",
       "      border-color: transparent;\n",
       "      border-left-color: var(--fill-color);\n",
       "      border-top-color: var(--fill-color);\n",
       "    }\n",
       "    30% {\n",
       "      border-color: transparent;\n",
       "      border-left-color: var(--fill-color);\n",
       "      border-top-color: var(--fill-color);\n",
       "      border-right-color: var(--fill-color);\n",
       "    }\n",
       "    40% {\n",
       "      border-color: transparent;\n",
       "      border-right-color: var(--fill-color);\n",
       "      border-top-color: var(--fill-color);\n",
       "    }\n",
       "    60% {\n",
       "      border-color: transparent;\n",
       "      border-right-color: var(--fill-color);\n",
       "    }\n",
       "    80% {\n",
       "      border-color: transparent;\n",
       "      border-right-color: var(--fill-color);\n",
       "      border-bottom-color: var(--fill-color);\n",
       "    }\n",
       "    90% {\n",
       "      border-color: transparent;\n",
       "      border-bottom-color: var(--fill-color);\n",
       "    }\n",
       "  }\n",
       "</style>\n",
       "\n",
       "  <script>\n",
       "    async function quickchart(key) {\n",
       "      const quickchartButtonEl =\n",
       "        document.querySelector('#' + key + ' button');\n",
       "      quickchartButtonEl.disabled = true;  // To prevent multiple clicks.\n",
       "      quickchartButtonEl.classList.add('colab-df-spinner');\n",
       "      try {\n",
       "        const charts = await google.colab.kernel.invokeFunction(\n",
       "            'suggestCharts', [key], {});\n",
       "      } catch (error) {\n",
       "        console.error('Error during call to suggestCharts:', error);\n",
       "      }\n",
       "      quickchartButtonEl.classList.remove('colab-df-spinner');\n",
       "      quickchartButtonEl.classList.add('colab-df-quickchart-complete');\n",
       "    }\n",
       "    (() => {\n",
       "      let quickchartButtonEl =\n",
       "        document.querySelector('#df-d2ee6cde-9438-4755-b2d6-012d72eb5c3d button');\n",
       "      quickchartButtonEl.style.display =\n",
       "        google.colab.kernel.accessAllowed ? 'block' : 'none';\n",
       "    })();\n",
       "  </script>\n",
       "</div>\n",
       "    </div>\n",
       "  </div>\n"
      ],
      "application/vnd.google.colaboratory.intrinsic+json": {
       "type": "dataframe",
       "variable_name": "X_train",
       "summary": "{\n  \"name\": \"X_train\",\n  \"rows\": 12000,\n  \"fields\": [\n    {\n      \"column\": \"CustomerId\",\n      \"properties\": {\n        \"dtype\": \"number\",\n        \"std\": 146930.97193473845,\n        \"min\": 1581102.0,\n        \"max\": 15815690.0,\n        \"num_unique_values\": 5700,\n        \"samples\": [\n          15778089.0,\n          15601787.0,\n          15679550.0\n        ],\n        \"semantic_type\": \"\",\n        \"description\": \"\"\n      }\n    },\n    {\n      \"column\": \"Surname\",\n      \"properties\": {\n        \"dtype\": \"category\",\n        \"num_unique_values\": 732,\n        \"samples\": [\n          \"Lira\",\n          \"Nnanna\",\n          \"O'Donnell\"\n        ],\n        \"semantic_type\": \"\",\n        \"description\": \"\"\n      }\n    },\n    {\n      \"column\": \"CreditScore\",\n      \"properties\": {\n        \"dtype\": \"number\",\n        \"std\": 72.3349092176692,\n        \"min\": 431.0,\n        \"max\": 850.0,\n        \"num_unique_values\": 373,\n        \"samples\": [\n          759.0,\n          564.0,\n          678.0\n        ],\n        \"semantic_type\": \"\",\n        \"description\": \"\"\n      }\n    },\n    {\n      \"column\": \"Geography\",\n      \"properties\": {\n        \"dtype\": \"category\",\n        \"num_unique_values\": 3,\n        \"samples\": [\n          \"France\",\n          \"Germany\",\n          \"Spain\"\n        ],\n        \"semantic_type\": \"\",\n        \"description\": \"\"\n      }\n    },\n    {\n      \"column\": \"Gender\",\n      \"properties\": {\n        \"dtype\": \"category\",\n        \"num_unique_values\": 2,\n        \"samples\": [\n          \"Female\",\n          \"Male\"\n        ],\n        \"semantic_type\": \"\",\n        \"description\": \"\"\n      }\n    },\n    {\n      \"column\": \"Age\",\n      \"properties\": {\n        \"dtype\": \"number\",\n        \"std\": 8.138440074340142,\n        \"min\": 18.0,\n        \"max\": 74.0,\n        \"num_unique_values\": 56,\n        \"samples\": [\n          30.0,\n          37.0\n        ],\n        \"semantic_type\": \"\",\n        \"description\": \"\"\n      }\n    },\n    {\n      \"column\": \"Tenure\",\n      \"properties\": {\n        \"dtype\": \"number\",\n        \"std\": 2.7819743483411368,\n        \"min\": 0.0,\n        \"max\": 10.0,\n        \"num_unique_values\": 11,\n        \"samples\": [\n          9.0,\n          1.0\n        ],\n        \"semantic_type\": \"\",\n        \"description\": \"\"\n      }\n    },\n    {\n      \"column\": \"Balance\",\n      \"properties\": {\n        \"dtype\": \"number\",\n        \"std\": 59906.62766025313,\n        \"min\": 0.0,\n        \"max\": 209767.31,\n        \"num_unique_values\": 2895,\n        \"samples\": [\n          110641.18,\n          171283.91\n        ],\n        \"semantic_type\": \"\",\n        \"description\": \"\"\n      }\n    },\n    {\n      \"column\": \"NumOfProducts\",\n      \"properties\": {\n        \"dtype\": \"number\",\n        \"std\": 0.5326461428498426,\n        \"min\": 1.0,\n        \"max\": 4.0,\n        \"num_unique_values\": 4,\n        \"samples\": [\n          2.0,\n          4.0\n        ],\n        \"semantic_type\": \"\",\n        \"description\": \"\"\n      }\n    },\n    {\n      \"column\": \"HasCrCard\",\n      \"properties\": {\n        \"dtype\": \"number\",\n        \"std\": 0.4070876632692669,\n        \"min\": 0.0,\n        \"max\": 1.0,\n        \"num_unique_values\": 2,\n        \"samples\": [\n          0.0,\n          1.0\n        ],\n        \"semantic_type\": \"\",\n        \"description\": \"\"\n      }\n    },\n    {\n      \"column\": \"IsActiveMember\",\n      \"properties\": {\n        \"dtype\": \"number\",\n        \"std\": 0.49994998638656074,\n        \"min\": 0.0,\n        \"max\": 1.0,\n        \"num_unique_values\": 2,\n        \"samples\": [\n          0.0,\n          1.0\n        ],\n        \"semantic_type\": \"\",\n        \"description\": \"\"\n      }\n    },\n    {\n      \"column\": \"EstimatedSalary\",\n      \"properties\": {\n        \"dtype\": \"number\",\n        \"std\": 45589.48460747334,\n        \"min\": 11.58,\n        \"max\": 199992.48,\n        \"num_unique_values\": 5502,\n        \"samples\": [\n          140723.09,\n          179540.73\n        ],\n        \"semantic_type\": \"\",\n        \"description\": \"\"\n      }\n    }\n  ]\n}"
      }
     },
     "metadata": {},
     "execution_count": 18
    }
   ]
  },
  {
   "cell_type": "code",
   "source": [
    "cat_feature_indexes = [X_train.columns.get_loc(col) for col in cat_col_names]\n",
    "cat_feature_indexes"
   ],
   "metadata": {
    "id": "C-9aZn4d45No",
    "colab": {
     "base_uri": "https://localhost:8080/"
    },
    "outputId": "34aa919a-9e72-49c9-9677-d29f546c27d5"
   },
   "execution_count": 19,
   "outputs": [
    {
     "output_type": "execute_result",
     "data": {
      "text/plain": [
       "[1, 3, 4]"
      ]
     },
     "metadata": {},
     "execution_count": 19
    }
   ]
  },
  {
   "cell_type": "code",
   "source": [
    "lgb_clf = lgb.LGBMClassifier(\n",
    "    max_depth=3,\n",
    "    n_estimators=50,\n",
    "    learning_rate=0.1,\n",
    "    cat_feature=cat_feature_indexes,\n",
    "    missing=np.nan,\n",
    "    # device='cuda'\n",
    ")\n",
    "\n",
    "lgb_clf.fit(X_train, y_train, eval_set=[(X_val, y_val)])\n",
    "\n",
    "train_probs = lgb_clf.predict_proba(X_train)[:, 1]\n",
    "val_probs = lgb_clf.predict_proba(X_val)[:, 1]\n",
    "\n",
    "train_auc = roc_auc_score(y_train, train_probs)\n",
    "val_auc = roc_auc_score(y_val, val_probs)"
   ],
   "metadata": {
    "collapsed": true,
    "id": "DVqDMeCYrHGV"
   },
   "execution_count": null,
   "outputs": []
  },
  {
   "cell_type": "code",
   "source": [
    "print(f\"Train ROC-AUC: {train_auc:.4f}; Validation ROC-AUC: {val_auc:.4f}\")"
   ],
   "metadata": {
    "colab": {
     "base_uri": "https://localhost:8080/"
    },
    "id": "FTzhJEzjq4xp",
    "outputId": "f290e9d0-735d-475e-de10-d7d5c6fc35e6"
   },
   "execution_count": 22,
   "outputs": [
    {
     "output_type": "stream",
     "name": "stdout",
     "text": [
      "Train ROC-AUC: 0.9505; Validation ROC-AUC: 0.9351\n"
     ]
    }
   ]
  },
  {
   "cell_type": "markdown",
   "source": [
    "**Спостереження**:\n",
    "\n",
    "- Модель показує високу якість класифікації як на тренувальному, так і на валідаційному наборах (де значення ROC-AUC на тренувальних даних 0.9505 а на валідаціни 0.9351).\n",
    "\n",
    "- Висока якість на тренувальних і валідаційних даних із невеликим розривом між ними свідчить про хороший баланс між bias і variance.\n",
    "\n",
    "- Моделі притаманний скоріше high variance, оскільки присутній невеликий розрив між Train і Validation ROC-AUC, але він не є великим, отже не можемо стверджувати про явне перенавчання.\n",
    "\n",
    "- Ознаки high bias не спостерігаються оскільки модель має високу якість.\n",
    "\n",
    "- LightGBM має трохи вище значення ROC-AUC на тренувальному датасеті, але трошки нижче значення метрики на валідаційному наборі.Модемо сказати про приблизно однакову якість моделі, але XGBoost має кращі ущагальнувальні якості."
   ],
   "metadata": {
    "id": "HaMy5oflr374"
   }
  },
  {
   "cell_type": "markdown",
   "source": [
    "#### Завдання 5"
   ],
   "metadata": {
    "id": "vFjMh-UBc96I"
   }
  },
  {
   "cell_type": "markdown",
   "source": [
    "5. Використовуючи бібліотеку `Hyperopt` і приклад пошуку гіперпараметрів для `LightGBM` з лекції знайдіть оптимальні значення гіперпараметрів `LightGBM` для нашої задачі. Задайте свою сітку гіперпараметрів виходячи з тих параметрів, які ви б хотіли перебрати. Поставте кількість раундів в підборі гіперпараметрів рівну **10**.\n",
    "\n",
    "  **Увага!** Для того, аби скористатись hyperopt, нам треба задати функцію `objective`. І тут ми також ставимо loss - негативне значення AUROC, як і при пошуці гіперпараметрів для XGBoost. До речі, можна спробувати написати код так, аби в objective передавати лише модель і не писати схожий код двічі :)\n",
    "\n",
    "  Після успішного завершення пошуку оптимальних гіперпараметрів\n",
    "    - виведіть найкращі значення гіперпараметрів\n",
    "    - створіть в окремій зміній `final_lgb_clf` модель `LightGBM` з найкращими гіперпараметрами\n",
    "    - навчіть модель `final_lgb_clf`\n",
    "    - оцініть якість моделі `final_lgb_clf` на тренувальній і валідаційній вибірках з допомогою AUROC.\n",
    "    - зробіть висновок про якість моделі. Чи стала вона краще порівняно з попереднім пунктом (4) цього завдання?"
   ],
   "metadata": {
    "id": "nCnkGD_sEW1i"
   }
  },
  {
   "cell_type": "code",
   "source": [
    "lgb_space = {\n",
    "    'n_estimators': hp.quniform('n_estimators', 50, 500, 25),\n",
    "    'learning_rate': hp.uniform('learning_rate', 0.01, 0.3),\n",
    "    'max_depth': hp.quniform('max_depth', 3, 15, 1),\n",
    "    'num_leaves': hp.quniform('num_leaves', 20, 150, 1),\n",
    "    'min_child_weight': hp.quniform('min_child_weight', 1, 10, 1),\n",
    "    'subsample': hp.uniform('subsample', 0.5, 1.0),\n",
    "    'colsample_bytree': hp.uniform('colsample_bytree', 0.5, 1.0),\n",
    "    'reg_alpha': hp.uniform('reg_alpha', 0, 1),\n",
    "    'reg_lambda': hp.uniform('reg_lambda', 0, 1),\n",
    "    'min_split_gain': hp.uniform('min_split_gain', 0, 0.1)\n",
    "}"
   ],
   "metadata": {
    "id": "cBt3g2sQsg7d"
   },
   "execution_count": 23,
   "outputs": []
  },
  {
   "cell_type": "code",
   "source": [
    "lgb_trials = Trials()\n",
    "lgb_best = fmin(\n",
    "    fn=lambda params: objective(params, lgb.LGBMClassifier, cat_feature=cat_feature_indexes),\n",
    "    space=lgb_space, algo=tpe.suggest, max_evals=10, trials=lgb_trials\n",
    ")"
   ],
   "metadata": {
    "collapsed": true,
    "id": "EawxjuEts01e"
   },
   "execution_count": null,
   "outputs": []
  },
  {
   "cell_type": "code",
   "source": [
    "lgb_best['n_estimators'] = int(lgb_best['n_estimators'])\n",
    "lgb_best['max_depth'] = int(lgb_best['max_depth'])\n",
    "lgb_best['num_leaves'] = int(lgb_best['num_leaves'])\n",
    "lgb_best['min_child_weight'] = int(lgb_best['min_child_weight'])\n",
    "\n",
    "print(\"Найкращі гіперпараметри: \")\n",
    "pprint(lgb_best)"
   ],
   "metadata": {
    "colab": {
     "base_uri": "https://localhost:8080/"
    },
    "id": "3-cDr_Uxs26w",
    "outputId": "b62a431b-f606-49ae-fd12-65ff38b1bd90"
   },
   "execution_count": 25,
   "outputs": [
    {
     "output_type": "stream",
     "name": "stdout",
     "text": [
      "Найкращі гіперпараметри: \n",
      "{'colsample_bytree': 0.7205651640632382,\n",
      " 'learning_rate': 0.027066160242272014,\n",
      " 'max_depth': 12,\n",
      " 'min_child_weight': 9,\n",
      " 'min_split_gain': 0.04213135674682016,\n",
      " 'n_estimators': 400,\n",
      " 'num_leaves': 128,\n",
      " 'reg_alpha': 0.0016556349510271628,\n",
      " 'reg_lambda': 0.0822969976122947,\n",
      " 'subsample': 0.9472772275673371}\n"
     ]
    }
   ]
  },
  {
   "cell_type": "code",
   "source": [
    "final_lgb = lgb.LGBMClassifier(\n",
    "    n_estimators=lgb_best['n_estimators'],\n",
    "    learning_rate=lgb_best['learning_rate'],\n",
    "    max_depth=lgb_best['max_depth'],\n",
    "    num_leaves=lgb_best['num_leaves'],\n",
    "    min_child_weight=lgb_best['min_child_weight'],\n",
    "    subsample=lgb_best['subsample'],\n",
    "    colsample_bytree=lgb_best['colsample_bytree'],\n",
    "    reg_alpha=lgb_best['reg_alpha'],\n",
    "    reg_lambda=lgb_best['reg_lambda'],\n",
    "    min_split_gain=lgb_best['min_split_gain'],\n",
    "    cat_feature=cat_feature_indexes\n",
    ").fit(X_train, y_train)"
   ],
   "metadata": {
    "collapsed": true,
    "id": "7_h_8WTWs3Nv"
   },
   "execution_count": null,
   "outputs": []
  },
  {
   "cell_type": "code",
   "source": [
    "train_pred = final_lgb.predict_proba(X_train)[:, 1]\n",
    "val_pred = final_lgb.predict_proba(X_val)[:, 1]\n",
    "\n",
    "train_auc = roc_auc_score(y_train, train_pred)\n",
    "val_auc = roc_auc_score(y_val, val_pred)\n",
    "\n",
    "print(f\"Train ROC-AUC: {train_auc:.4f}; Validation ROC-AUC: {val_auc:.4f}\")"
   ],
   "metadata": {
    "colab": {
     "base_uri": "https://localhost:8080/"
    },
    "id": "g69sbicluOCK",
    "outputId": "34edd8dc-9fce-4f95-d5a5-13089f444bf3"
   },
   "execution_count": 30,
   "outputs": [
    {
     "output_type": "stream",
     "name": "stdout",
     "text": [
      "Train ROC-AUC: 0.9962; Validation ROC-AUC: 0.9333\n"
     ]
    }
   ]
  },
  {
   "cell_type": "markdown",
   "source": [
    "**Спостереження**:\n",
    "\n",
    "- Модель показує вище значення метрики ROC-AUC: на тренувальих даних, так нижче на валідаційних. Отже модель стала гріше генералізувати;\n",
    "\n",
    "- Розрив між значення ROC-AUC на тренувальних та валідацівйних данних  збільшився, що вказує на зростання high variance;\n",
    "\n",
    "- Можемо сказати, що модель стала більш складною, що збільшило її здатність запам’ятовувати тренувальні дані, але трохи знизило узагальнюючу здатність."
   ],
   "metadata": {
    "id": "sMLTVR6Cut5c"
   }
  },
  {
   "cell_type": "markdown",
   "source": [
    "#### Завдання 6"
   ],
   "metadata": {
    "id": "4lLtjkkudAcE"
   }
  },
  {
   "cell_type": "markdown",
   "source": [
    "6. Оберіть модель з експериментів в цьому ДЗ і зробіть новий `submission` на Kaggle та додайте код для цього і скріншот скора на публічному лідерборді.\n",
    "  \n",
    "  **Напишіть коментар, чому ви обрали саме цю модель?**\n",
    "\n",
    "  І я вас вітаю - це останнє завдання з цим набором даних 💪 На цьому етапі корисно проаналізувати, які моделі показали себе найкраще і подумати, чому."
   ],
   "metadata": {
    "id": "XArADR2CG8VK"
   }
  },
  {
   "cell_type": "markdown",
   "source": [
    "**Обрана модель**\n",
    "\n",
    "Для сабмішину обрана модель - XGBClassifier з оптимізацією гіперпарамтерів, адже модель має високе значення ROC-AUC на валідаційних даних, та має меший розрив між валідаційними та тренувальними даними, тобто модель менш схильна до перенавчання."
   ],
   "metadata": {
    "id": "Rjad8Pe-QLQ5"
   }
  },
  {
   "cell_type": "code",
   "source": [
    "model = final_clf\n",
    "file_name = '/content/drive/MyDrive/ML/data/bccp/sample_submission.csv'\n",
    "sample = pd.read_csv(file_name)\n",
    "\n",
    "file_name = '/content/drive/MyDrive/ML/data/bccp/test.csv'\n",
    "test_df = pd.read_csv(file_name)\n",
    "\n",
    "inputs = test_df[input_cols].copy()\n",
    "inputs[cat_col_names] = inputs[cat_col_names].apply(pd.Categorical)\n",
    "preds = model.predict_proba(inputs)[:,1]\n",
    "\n",
    "test_df['Exited'] = preds\n",
    "timestamp = datetime.now().strftime(\"%Y-%m-%d_%H-%M-%S\")\n",
    "sub_path = 'drive/My Drive/ML/data/bccp/lab/submission'\n",
    "\n",
    "upd_sample = sample.copy()\n",
    "upd_sample['Exited'] = upd_sample['id'].map(test_df.set_index('id')['Exited'])\n",
    "upd_sample.to_csv(f'{sub_path}/submission_{timestamp}.csv', index=False)"
   ],
   "metadata": {
    "id": "COIjJH9f5SSp"
   },
   "execution_count": 28,
   "outputs": []
  },
  {
   "cell_type": "markdown",
   "source": [
    "Скор к змаганні отриманий для за допомогою моделі XGBClassifier"
   ],
   "metadata": {
    "id": "jGYPekSU0BoL"
   }
  },
  {
   "cell_type": "markdown",
   "source": [
    "![image.png](data:image/png;base64,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)"
   ],
   "metadata": {
    "id": "DI4uLq8cz__q"
   }
  },
  {
   "cell_type": "markdown",
   "source": [
    "Скор к змаганні отриманий для за допомогою моделі LGBMClassifier"
   ],
   "metadata": {
    "id": "YpxrfqCZ0wA1"
   }
  },
  {
   "cell_type": "markdown",
   "source": [
    "![image.png](data:image/png;base64,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)"
   ],
   "metadata": {
    "id": "mqzX3nm30vz8"
   }
  }
 ]
}
