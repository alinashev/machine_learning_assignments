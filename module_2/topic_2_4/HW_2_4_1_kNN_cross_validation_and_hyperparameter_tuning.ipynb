{
  "nbformat": 4,
  "nbformat_minor": 0,
  "metadata": {
    "colab": {
      "provenance": []
    },
    "kernelspec": {
      "name": "python3",
      "display_name": "Python 3"
    },
    "language_info": {
      "name": "python"
    }
  },
  "cells": [
    {
      "cell_type": "markdown",
      "source": [
        "## Домашнє завдання:  kNN. Кросвалідація і тюнинг гіперпараметрів"
      ],
      "metadata": {
        "id": "qQcJD_a3JIaa"
      }
    },
    {
      "cell_type": "markdown",
      "source": [
        "В цьому домашньому завданні ми знову працюємо з даними з нашого змагання [\"Bank Customer Churn Prediction (DLU Course)\"](https://www.kaggle.com/t/7c080c5d8ec64364a93cf4e8f880b6a0).\n",
        "\n",
        "Тут ми побудуємо рішення задачі класифікації з використанням kNearestNeighboors, знайдемо оптимальні гіперпараметри для цього методу і зробимо базові ансамблі. Це дасть змогу порівняти перформанс моделі з попередніми вивченими методами."
      ],
      "metadata": {
        "id": "fDefDHQt8LXC"
      }
    },
    {
      "cell_type": "markdown",
      "source": [
        "Необхідні імпорти"
      ],
      "metadata": {
        "id": "tEsi5-C1F69Y"
      }
    },
    {
      "cell_type": "code",
      "source": [
        "import pandas as pd\n",
        "import matplotlib.pyplot as plt\n",
        "import seaborn as sns\n",
        "import numpy as np\n",
        "import time\n",
        "from datetime import datetime\n",
        "\n",
        "from sklearn.neighbors import KNeighborsClassifier\n",
        "from sklearn.tree import DecisionTreeClassifier\n",
        "from sklearn.model_selection import GridSearchCV\n",
        "from sklearn.model_selection import RandomizedSearchCV\n",
        "\n",
        "from sklearn.metrics import roc_auc_score"
      ],
      "metadata": {
        "id": "9jCWBTD1F_4v"
      },
      "execution_count": null,
      "outputs": []
    },
    {
      "cell_type": "markdown",
      "source": [
        "0. Зчитайте дані `train.csv` та зробіть препроцесинг використовуючи написаний Вами скрипт `process_bank_churn.py` так, аби в результаті отримати дані в розбитті X_train, train_targets, X_val, val_targets для експериментів.\n",
        "\n",
        "  Якщо Вам не вдалось реалізувати в завданні `2.3. Дерева прийняття рішень` скрипт `process_bank_churn.py` - можна скористатись готовим скриптом з запропонованого рішення того завдання."
      ],
      "metadata": {
        "id": "LhivzW9W8-Dz"
      }
    },
    {
      "cell_type": "code",
      "source": [
        "from google.colab import drive\n",
        "drive.mount('/content/drive/')"
      ],
      "metadata": {
        "colab": {
          "base_uri": "https://localhost:8080/"
        },
        "id": "QGD89bwRGMZQ",
        "outputId": "8c02a1e6-9859-417c-d428-ebbd0bce5e6b"
      },
      "execution_count": null,
      "outputs": [
        {
          "output_type": "stream",
          "name": "stdout",
          "text": [
            "Drive already mounted at /content/drive/; to attempt to forcibly remount, call drive.mount(\"/content/drive/\", force_remount=True).\n"
          ]
        }
      ]
    },
    {
      "cell_type": "code",
      "source": [
        "file_name = '/content/drive/MyDrive/ML/data/bccp/train.csv'"
      ],
      "metadata": {
        "id": "G8eWhulpGPdG"
      },
      "execution_count": null,
      "outputs": []
    },
    {
      "cell_type": "code",
      "source": [
        "%load_ext autoreload\n",
        "%autoreload 2\n",
        "from process_bank_churn import preprocess_data"
      ],
      "metadata": {
        "id": "Z-mntPMAH-rv"
      },
      "execution_count": null,
      "outputs": []
    },
    {
      "cell_type": "code",
      "source": [
        "raw_train_data = pd.read_csv(file_name)\n",
        "raw_train_data.head(3)"
      ],
      "metadata": {
        "id": "hI1pxRPRGXyQ",
        "colab": {
          "base_uri": "https://localhost:8080/",
          "height": 144
        },
        "outputId": "b5580388-6b67-44b5-e398-79f3b35d7760"
      },
      "execution_count": null,
      "outputs": [
        {
          "output_type": "execute_result",
          "data": {
            "text/plain": [
              "   id  CustomerId   Surname  CreditScore Geography  Gender   Age  Tenure  \\\n",
              "0   0  15779985.0   Nwankwo        678.0    France    Male  29.0     4.0   \n",
              "1   1  15650086.0     Ch'in        687.0    France  Female  34.0     1.0   \n",
              "2   2  15733602.0  Thompson        682.0    France  Female  52.0     6.0   \n",
              "\n",
              "   Balance  NumOfProducts  HasCrCard  IsActiveMember  EstimatedSalary  Exited  \n",
              "0      0.0            3.0        1.0             0.0        180626.36     0.0  \n",
              "1      0.0            2.0        0.0             1.0         63736.17     0.0  \n",
              "2      0.0            3.0        0.0             0.0        179655.87     1.0  "
            ],
            "text/html": [
              "\n",
              "  <div id=\"df-a1ef1838-0cc5-49fd-9b8f-138853291f9e\" class=\"colab-df-container\">\n",
              "    <div>\n",
              "<style scoped>\n",
              "    .dataframe tbody tr th:only-of-type {\n",
              "        vertical-align: middle;\n",
              "    }\n",
              "\n",
              "    .dataframe tbody tr th {\n",
              "        vertical-align: top;\n",
              "    }\n",
              "\n",
              "    .dataframe thead th {\n",
              "        text-align: right;\n",
              "    }\n",
              "</style>\n",
              "<table border=\"1\" class=\"dataframe\">\n",
              "  <thead>\n",
              "    <tr style=\"text-align: right;\">\n",
              "      <th></th>\n",
              "      <th>id</th>\n",
              "      <th>CustomerId</th>\n",
              "      <th>Surname</th>\n",
              "      <th>CreditScore</th>\n",
              "      <th>Geography</th>\n",
              "      <th>Gender</th>\n",
              "      <th>Age</th>\n",
              "      <th>Tenure</th>\n",
              "      <th>Balance</th>\n",
              "      <th>NumOfProducts</th>\n",
              "      <th>HasCrCard</th>\n",
              "      <th>IsActiveMember</th>\n",
              "      <th>EstimatedSalary</th>\n",
              "      <th>Exited</th>\n",
              "    </tr>\n",
              "  </thead>\n",
              "  <tbody>\n",
              "    <tr>\n",
              "      <th>0</th>\n",
              "      <td>0</td>\n",
              "      <td>15779985.0</td>\n",
              "      <td>Nwankwo</td>\n",
              "      <td>678.0</td>\n",
              "      <td>France</td>\n",
              "      <td>Male</td>\n",
              "      <td>29.0</td>\n",
              "      <td>4.0</td>\n",
              "      <td>0.0</td>\n",
              "      <td>3.0</td>\n",
              "      <td>1.0</td>\n",
              "      <td>0.0</td>\n",
              "      <td>180626.36</td>\n",
              "      <td>0.0</td>\n",
              "    </tr>\n",
              "    <tr>\n",
              "      <th>1</th>\n",
              "      <td>1</td>\n",
              "      <td>15650086.0</td>\n",
              "      <td>Ch'in</td>\n",
              "      <td>687.0</td>\n",
              "      <td>France</td>\n",
              "      <td>Female</td>\n",
              "      <td>34.0</td>\n",
              "      <td>1.0</td>\n",
              "      <td>0.0</td>\n",
              "      <td>2.0</td>\n",
              "      <td>0.0</td>\n",
              "      <td>1.0</td>\n",
              "      <td>63736.17</td>\n",
              "      <td>0.0</td>\n",
              "    </tr>\n",
              "    <tr>\n",
              "      <th>2</th>\n",
              "      <td>2</td>\n",
              "      <td>15733602.0</td>\n",
              "      <td>Thompson</td>\n",
              "      <td>682.0</td>\n",
              "      <td>France</td>\n",
              "      <td>Female</td>\n",
              "      <td>52.0</td>\n",
              "      <td>6.0</td>\n",
              "      <td>0.0</td>\n",
              "      <td>3.0</td>\n",
              "      <td>0.0</td>\n",
              "      <td>0.0</td>\n",
              "      <td>179655.87</td>\n",
              "      <td>1.0</td>\n",
              "    </tr>\n",
              "  </tbody>\n",
              "</table>\n",
              "</div>\n",
              "    <div class=\"colab-df-buttons\">\n",
              "\n",
              "  <div class=\"colab-df-container\">\n",
              "    <button class=\"colab-df-convert\" onclick=\"convertToInteractive('df-a1ef1838-0cc5-49fd-9b8f-138853291f9e')\"\n",
              "            title=\"Convert this dataframe to an interactive table.\"\n",
              "            style=\"display:none;\">\n",
              "\n",
              "  <svg xmlns=\"http://www.w3.org/2000/svg\" height=\"24px\" viewBox=\"0 -960 960 960\">\n",
              "    <path d=\"M120-120v-720h720v720H120Zm60-500h600v-160H180v160Zm220 220h160v-160H400v160Zm0 220h160v-160H400v160ZM180-400h160v-160H180v160Zm440 0h160v-160H620v160ZM180-180h160v-160H180v160Zm440 0h160v-160H620v160Z\"/>\n",
              "  </svg>\n",
              "    </button>\n",
              "\n",
              "  <style>\n",
              "    .colab-df-container {\n",
              "      display:flex;\n",
              "      gap: 12px;\n",
              "    }\n",
              "\n",
              "    .colab-df-convert {\n",
              "      background-color: #E8F0FE;\n",
              "      border: none;\n",
              "      border-radius: 50%;\n",
              "      cursor: pointer;\n",
              "      display: none;\n",
              "      fill: #1967D2;\n",
              "      height: 32px;\n",
              "      padding: 0 0 0 0;\n",
              "      width: 32px;\n",
              "    }\n",
              "\n",
              "    .colab-df-convert:hover {\n",
              "      background-color: #E2EBFA;\n",
              "      box-shadow: 0px 1px 2px rgba(60, 64, 67, 0.3), 0px 1px 3px 1px rgba(60, 64, 67, 0.15);\n",
              "      fill: #174EA6;\n",
              "    }\n",
              "\n",
              "    .colab-df-buttons div {\n",
              "      margin-bottom: 4px;\n",
              "    }\n",
              "\n",
              "    [theme=dark] .colab-df-convert {\n",
              "      background-color: #3B4455;\n",
              "      fill: #D2E3FC;\n",
              "    }\n",
              "\n",
              "    [theme=dark] .colab-df-convert:hover {\n",
              "      background-color: #434B5C;\n",
              "      box-shadow: 0px 1px 3px 1px rgba(0, 0, 0, 0.15);\n",
              "      filter: drop-shadow(0px 1px 2px rgba(0, 0, 0, 0.3));\n",
              "      fill: #FFFFFF;\n",
              "    }\n",
              "  </style>\n",
              "\n",
              "    <script>\n",
              "      const buttonEl =\n",
              "        document.querySelector('#df-a1ef1838-0cc5-49fd-9b8f-138853291f9e button.colab-df-convert');\n",
              "      buttonEl.style.display =\n",
              "        google.colab.kernel.accessAllowed ? 'block' : 'none';\n",
              "\n",
              "      async function convertToInteractive(key) {\n",
              "        const element = document.querySelector('#df-a1ef1838-0cc5-49fd-9b8f-138853291f9e');\n",
              "        const dataTable =\n",
              "          await google.colab.kernel.invokeFunction('convertToInteractive',\n",
              "                                                    [key], {});\n",
              "        if (!dataTable) return;\n",
              "\n",
              "        const docLinkHtml = 'Like what you see? Visit the ' +\n",
              "          '<a target=\"_blank\" href=https://colab.research.google.com/notebooks/data_table.ipynb>data table notebook</a>'\n",
              "          + ' to learn more about interactive tables.';\n",
              "        element.innerHTML = '';\n",
              "        dataTable['output_type'] = 'display_data';\n",
              "        await google.colab.output.renderOutput(dataTable, element);\n",
              "        const docLink = document.createElement('div');\n",
              "        docLink.innerHTML = docLinkHtml;\n",
              "        element.appendChild(docLink);\n",
              "      }\n",
              "    </script>\n",
              "  </div>\n",
              "\n",
              "\n",
              "<div id=\"df-facc2003-2947-40ab-b6f3-adc110c1b9aa\">\n",
              "  <button class=\"colab-df-quickchart\" onclick=\"quickchart('df-facc2003-2947-40ab-b6f3-adc110c1b9aa')\"\n",
              "            title=\"Suggest charts\"\n",
              "            style=\"display:none;\">\n",
              "\n",
              "<svg xmlns=\"http://www.w3.org/2000/svg\" height=\"24px\"viewBox=\"0 0 24 24\"\n",
              "     width=\"24px\">\n",
              "    <g>\n",
              "        <path d=\"M19 3H5c-1.1 0-2 .9-2 2v14c0 1.1.9 2 2 2h14c1.1 0 2-.9 2-2V5c0-1.1-.9-2-2-2zM9 17H7v-7h2v7zm4 0h-2V7h2v10zm4 0h-2v-4h2v4z\"/>\n",
              "    </g>\n",
              "</svg>\n",
              "  </button>\n",
              "\n",
              "<style>\n",
              "  .colab-df-quickchart {\n",
              "      --bg-color: #E8F0FE;\n",
              "      --fill-color: #1967D2;\n",
              "      --hover-bg-color: #E2EBFA;\n",
              "      --hover-fill-color: #174EA6;\n",
              "      --disabled-fill-color: #AAA;\n",
              "      --disabled-bg-color: #DDD;\n",
              "  }\n",
              "\n",
              "  [theme=dark] .colab-df-quickchart {\n",
              "      --bg-color: #3B4455;\n",
              "      --fill-color: #D2E3FC;\n",
              "      --hover-bg-color: #434B5C;\n",
              "      --hover-fill-color: #FFFFFF;\n",
              "      --disabled-bg-color: #3B4455;\n",
              "      --disabled-fill-color: #666;\n",
              "  }\n",
              "\n",
              "  .colab-df-quickchart {\n",
              "    background-color: var(--bg-color);\n",
              "    border: none;\n",
              "    border-radius: 50%;\n",
              "    cursor: pointer;\n",
              "    display: none;\n",
              "    fill: var(--fill-color);\n",
              "    height: 32px;\n",
              "    padding: 0;\n",
              "    width: 32px;\n",
              "  }\n",
              "\n",
              "  .colab-df-quickchart:hover {\n",
              "    background-color: var(--hover-bg-color);\n",
              "    box-shadow: 0 1px 2px rgba(60, 64, 67, 0.3), 0 1px 3px 1px rgba(60, 64, 67, 0.15);\n",
              "    fill: var(--button-hover-fill-color);\n",
              "  }\n",
              "\n",
              "  .colab-df-quickchart-complete:disabled,\n",
              "  .colab-df-quickchart-complete:disabled:hover {\n",
              "    background-color: var(--disabled-bg-color);\n",
              "    fill: var(--disabled-fill-color);\n",
              "    box-shadow: none;\n",
              "  }\n",
              "\n",
              "  .colab-df-spinner {\n",
              "    border: 2px solid var(--fill-color);\n",
              "    border-color: transparent;\n",
              "    border-bottom-color: var(--fill-color);\n",
              "    animation:\n",
              "      spin 1s steps(1) infinite;\n",
              "  }\n",
              "\n",
              "  @keyframes spin {\n",
              "    0% {\n",
              "      border-color: transparent;\n",
              "      border-bottom-color: var(--fill-color);\n",
              "      border-left-color: var(--fill-color);\n",
              "    }\n",
              "    20% {\n",
              "      border-color: transparent;\n",
              "      border-left-color: var(--fill-color);\n",
              "      border-top-color: var(--fill-color);\n",
              "    }\n",
              "    30% {\n",
              "      border-color: transparent;\n",
              "      border-left-color: var(--fill-color);\n",
              "      border-top-color: var(--fill-color);\n",
              "      border-right-color: var(--fill-color);\n",
              "    }\n",
              "    40% {\n",
              "      border-color: transparent;\n",
              "      border-right-color: var(--fill-color);\n",
              "      border-top-color: var(--fill-color);\n",
              "    }\n",
              "    60% {\n",
              "      border-color: transparent;\n",
              "      border-right-color: var(--fill-color);\n",
              "    }\n",
              "    80% {\n",
              "      border-color: transparent;\n",
              "      border-right-color: var(--fill-color);\n",
              "      border-bottom-color: var(--fill-color);\n",
              "    }\n",
              "    90% {\n",
              "      border-color: transparent;\n",
              "      border-bottom-color: var(--fill-color);\n",
              "    }\n",
              "  }\n",
              "</style>\n",
              "\n",
              "  <script>\n",
              "    async function quickchart(key) {\n",
              "      const quickchartButtonEl =\n",
              "        document.querySelector('#' + key + ' button');\n",
              "      quickchartButtonEl.disabled = true;  // To prevent multiple clicks.\n",
              "      quickchartButtonEl.classList.add('colab-df-spinner');\n",
              "      try {\n",
              "        const charts = await google.colab.kernel.invokeFunction(\n",
              "            'suggestCharts', [key], {});\n",
              "      } catch (error) {\n",
              "        console.error('Error during call to suggestCharts:', error);\n",
              "      }\n",
              "      quickchartButtonEl.classList.remove('colab-df-spinner');\n",
              "      quickchartButtonEl.classList.add('colab-df-quickchart-complete');\n",
              "    }\n",
              "    (() => {\n",
              "      let quickchartButtonEl =\n",
              "        document.querySelector('#df-facc2003-2947-40ab-b6f3-adc110c1b9aa button');\n",
              "      quickchartButtonEl.style.display =\n",
              "        google.colab.kernel.accessAllowed ? 'block' : 'none';\n",
              "    })();\n",
              "  </script>\n",
              "</div>\n",
              "    </div>\n",
              "  </div>\n"
            ],
            "application/vnd.google.colaboratory.intrinsic+json": {
              "type": "dataframe",
              "variable_name": "raw_train_data",
              "summary": "{\n  \"name\": \"raw_train_data\",\n  \"rows\": 15000,\n  \"fields\": [\n    {\n      \"column\": \"id\",\n      \"properties\": {\n        \"dtype\": \"number\",\n        \"std\": 4330,\n        \"min\": 0,\n        \"max\": 14999,\n        \"num_unique_values\": 15000,\n        \"samples\": [\n          11499,\n          6475,\n          13167\n        ],\n        \"semantic_type\": \"\",\n        \"description\": \"\"\n      }\n    },\n    {\n      \"column\": \"CustomerId\",\n      \"properties\": {\n        \"dtype\": \"number\",\n        \"std\": 135205.03256056676,\n        \"min\": 1581102.0,\n        \"max\": 15815690.0,\n        \"num_unique_values\": 6348,\n        \"samples\": [\n          15676835.0,\n          15592999.0,\n          15570533.0\n        ],\n        \"semantic_type\": \"\",\n        \"description\": \"\"\n      }\n    },\n    {\n      \"column\": \"Surname\",\n      \"properties\": {\n        \"dtype\": \"category\",\n        \"num_unique_values\": 764,\n        \"samples\": [\n          \"Ndukaku\",\n          \"Chukwuebuka\",\n          \"Deleon\"\n        ],\n        \"semantic_type\": \"\",\n        \"description\": \"\"\n      }\n    },\n    {\n      \"column\": \"CreditScore\",\n      \"properties\": {\n        \"dtype\": \"number\",\n        \"std\": 72.25592575585755,\n        \"min\": 431.0,\n        \"max\": 850.0,\n        \"num_unique_values\": 378,\n        \"samples\": [\n          507.0,\n          618.0,\n          501.0\n        ],\n        \"semantic_type\": \"\",\n        \"description\": \"\"\n      }\n    },\n    {\n      \"column\": \"Geography\",\n      \"properties\": {\n        \"dtype\": \"category\",\n        \"num_unique_values\": 3,\n        \"samples\": [\n          \"France\",\n          \"Germany\",\n          \"Spain\"\n        ],\n        \"semantic_type\": \"\",\n        \"description\": \"\"\n      }\n    },\n    {\n      \"column\": \"Gender\",\n      \"properties\": {\n        \"dtype\": \"category\",\n        \"num_unique_values\": 2,\n        \"samples\": [\n          \"Female\",\n          \"Male\"\n        ],\n        \"semantic_type\": \"\",\n        \"description\": \"\"\n      }\n    },\n    {\n      \"column\": \"Age\",\n      \"properties\": {\n        \"dtype\": \"number\",\n        \"std\": 8.218363255923181,\n        \"min\": 18.0,\n        \"max\": 74.0,\n        \"num_unique_values\": 56,\n        \"samples\": [\n          29.0,\n          33.0\n        ],\n        \"semantic_type\": \"\",\n        \"description\": \"\"\n      }\n    },\n    {\n      \"column\": \"Tenure\",\n      \"properties\": {\n        \"dtype\": \"number\",\n        \"std\": 2.7766782777940255,\n        \"min\": 0.0,\n        \"max\": 10.0,\n        \"num_unique_values\": 11,\n        \"samples\": [\n          5.0,\n          4.0\n        ],\n        \"semantic_type\": \"\",\n        \"description\": \"\"\n      }\n    },\n    {\n      \"column\": \"Balance\",\n      \"properties\": {\n        \"dtype\": \"number\",\n        \"std\": 59727.30941872732,\n        \"min\": 0.0,\n        \"max\": 209767.31,\n        \"num_unique_values\": 3395,\n        \"samples\": [\n          120811.89,\n          123763.61\n        ],\n        \"semantic_type\": \"\",\n        \"description\": \"\"\n      }\n    },\n    {\n      \"column\": \"NumOfProducts\",\n      \"properties\": {\n        \"dtype\": \"number\",\n        \"std\": 0.5323063205431294,\n        \"min\": 1.0,\n        \"max\": 4.0,\n        \"num_unique_values\": 4,\n        \"samples\": [\n          2.0,\n          4.0\n        ],\n        \"semantic_type\": \"\",\n        \"description\": \"\"\n      }\n    },\n    {\n      \"column\": \"HasCrCard\",\n      \"properties\": {\n        \"dtype\": \"number\",\n        \"std\": 0.40817357465232057,\n        \"min\": 0.0,\n        \"max\": 1.0,\n        \"num_unique_values\": 2,\n        \"samples\": [\n          0.0,\n          1.0\n        ],\n        \"semantic_type\": \"\",\n        \"description\": \"\"\n      }\n    },\n    {\n      \"column\": \"IsActiveMember\",\n      \"properties\": {\n        \"dtype\": \"number\",\n        \"std\": 0.4999098747585243,\n        \"min\": 0.0,\n        \"max\": 1.0,\n        \"num_unique_values\": 2,\n        \"samples\": [\n          1.0,\n          0.0\n        ],\n        \"semantic_type\": \"\",\n        \"description\": \"\"\n      }\n    },\n    {\n      \"column\": \"EstimatedSalary\",\n      \"properties\": {\n        \"dtype\": \"number\",\n        \"std\": 45734.44588762869,\n        \"min\": 11.58,\n        \"max\": 199992.48,\n        \"num_unique_values\": 6242,\n        \"samples\": [\n          113553.42,\n          136816.37\n        ],\n        \"semantic_type\": \"\",\n        \"description\": \"\"\n      }\n    },\n    {\n      \"column\": \"Exited\",\n      \"properties\": {\n        \"dtype\": \"number\",\n        \"std\": 0.40259009858008776,\n        \"min\": 0.0,\n        \"max\": 1.0,\n        \"num_unique_values\": 2,\n        \"samples\": [\n          1.0,\n          0.0\n        ],\n        \"semantic_type\": \"\",\n        \"description\": \"\"\n      }\n    }\n  ]\n}"
            }
          },
          "metadata": {},
          "execution_count": 5
        }
      ]
    },
    {
      "cell_type": "code",
      "source": [
        "X_train, y_train, X_val, y_val, input_cols, scaler, encoder = preprocess_data(\n",
        "    raw_df=raw_train_data,\n",
        "    target_col = 'Exited',\n",
        "    unnecessary_columns=['Surname', 'id',\t'CustomerId'],\n",
        "    scaler_numeric = False\n",
        "    )"
      ],
      "metadata": {
        "id": "AqTunwZPGblL"
      },
      "execution_count": null,
      "outputs": []
    },
    {
      "cell_type": "code",
      "source": [
        "display(X_train.head(3)), display(X_val.head(3))"
      ],
      "metadata": {
        "id": "pNjm97JSGdfA",
        "colab": {
          "base_uri": "https://localhost:8080/",
          "height": 288
        },
        "outputId": "09436302-1b90-4998-ef9c-7e406132bbbc"
      },
      "execution_count": null,
      "outputs": [
        {
          "output_type": "display_data",
          "data": {
            "text/plain": [
              "       CreditScore   Age  Tenure    Balance  NumOfProducts  HasCrCard  \\\n",
              "7180         682.0  30.0     1.0  131394.56            1.0        1.0   \n",
              "10393        684.0  39.0     2.0  178058.06            1.0        1.0   \n",
              "80           705.0  35.0     6.0  116320.68            2.0        1.0   \n",
              "\n",
              "       IsActiveMember  EstimatedSalary  Geography_France  Geography_Germany  \\\n",
              "7180              1.0        143952.24               1.0                0.0   \n",
              "10393             0.0        145518.31               1.0                0.0   \n",
              "80                0.0        174431.01               0.0                1.0   \n",
              "\n",
              "       Geography_Spain  Gender_Female  Gender_Male  \n",
              "7180               0.0            0.0          1.0  \n",
              "10393              0.0            1.0          0.0  \n",
              "80                 0.0            0.0          1.0  "
            ],
            "text/html": [
              "\n",
              "  <div id=\"df-95331e8c-56b3-482b-bc28-011986a30b38\" class=\"colab-df-container\">\n",
              "    <div>\n",
              "<style scoped>\n",
              "    .dataframe tbody tr th:only-of-type {\n",
              "        vertical-align: middle;\n",
              "    }\n",
              "\n",
              "    .dataframe tbody tr th {\n",
              "        vertical-align: top;\n",
              "    }\n",
              "\n",
              "    .dataframe thead th {\n",
              "        text-align: right;\n",
              "    }\n",
              "</style>\n",
              "<table border=\"1\" class=\"dataframe\">\n",
              "  <thead>\n",
              "    <tr style=\"text-align: right;\">\n",
              "      <th></th>\n",
              "      <th>CreditScore</th>\n",
              "      <th>Age</th>\n",
              "      <th>Tenure</th>\n",
              "      <th>Balance</th>\n",
              "      <th>NumOfProducts</th>\n",
              "      <th>HasCrCard</th>\n",
              "      <th>IsActiveMember</th>\n",
              "      <th>EstimatedSalary</th>\n",
              "      <th>Geography_France</th>\n",
              "      <th>Geography_Germany</th>\n",
              "      <th>Geography_Spain</th>\n",
              "      <th>Gender_Female</th>\n",
              "      <th>Gender_Male</th>\n",
              "    </tr>\n",
              "  </thead>\n",
              "  <tbody>\n",
              "    <tr>\n",
              "      <th>7180</th>\n",
              "      <td>682.0</td>\n",
              "      <td>30.0</td>\n",
              "      <td>1.0</td>\n",
              "      <td>131394.56</td>\n",
              "      <td>1.0</td>\n",
              "      <td>1.0</td>\n",
              "      <td>1.0</td>\n",
              "      <td>143952.24</td>\n",
              "      <td>1.0</td>\n",
              "      <td>0.0</td>\n",
              "      <td>0.0</td>\n",
              "      <td>0.0</td>\n",
              "      <td>1.0</td>\n",
              "    </tr>\n",
              "    <tr>\n",
              "      <th>10393</th>\n",
              "      <td>684.0</td>\n",
              "      <td>39.0</td>\n",
              "      <td>2.0</td>\n",
              "      <td>178058.06</td>\n",
              "      <td>1.0</td>\n",
              "      <td>1.0</td>\n",
              "      <td>0.0</td>\n",
              "      <td>145518.31</td>\n",
              "      <td>1.0</td>\n",
              "      <td>0.0</td>\n",
              "      <td>0.0</td>\n",
              "      <td>1.0</td>\n",
              "      <td>0.0</td>\n",
              "    </tr>\n",
              "    <tr>\n",
              "      <th>80</th>\n",
              "      <td>705.0</td>\n",
              "      <td>35.0</td>\n",
              "      <td>6.0</td>\n",
              "      <td>116320.68</td>\n",
              "      <td>2.0</td>\n",
              "      <td>1.0</td>\n",
              "      <td>0.0</td>\n",
              "      <td>174431.01</td>\n",
              "      <td>0.0</td>\n",
              "      <td>1.0</td>\n",
              "      <td>0.0</td>\n",
              "      <td>0.0</td>\n",
              "      <td>1.0</td>\n",
              "    </tr>\n",
              "  </tbody>\n",
              "</table>\n",
              "</div>\n",
              "    <div class=\"colab-df-buttons\">\n",
              "\n",
              "  <div class=\"colab-df-container\">\n",
              "    <button class=\"colab-df-convert\" onclick=\"convertToInteractive('df-95331e8c-56b3-482b-bc28-011986a30b38')\"\n",
              "            title=\"Convert this dataframe to an interactive table.\"\n",
              "            style=\"display:none;\">\n",
              "\n",
              "  <svg xmlns=\"http://www.w3.org/2000/svg\" height=\"24px\" viewBox=\"0 -960 960 960\">\n",
              "    <path d=\"M120-120v-720h720v720H120Zm60-500h600v-160H180v160Zm220 220h160v-160H400v160Zm0 220h160v-160H400v160ZM180-400h160v-160H180v160Zm440 0h160v-160H620v160ZM180-180h160v-160H180v160Zm440 0h160v-160H620v160Z\"/>\n",
              "  </svg>\n",
              "    </button>\n",
              "\n",
              "  <style>\n",
              "    .colab-df-container {\n",
              "      display:flex;\n",
              "      gap: 12px;\n",
              "    }\n",
              "\n",
              "    .colab-df-convert {\n",
              "      background-color: #E8F0FE;\n",
              "      border: none;\n",
              "      border-radius: 50%;\n",
              "      cursor: pointer;\n",
              "      display: none;\n",
              "      fill: #1967D2;\n",
              "      height: 32px;\n",
              "      padding: 0 0 0 0;\n",
              "      width: 32px;\n",
              "    }\n",
              "\n",
              "    .colab-df-convert:hover {\n",
              "      background-color: #E2EBFA;\n",
              "      box-shadow: 0px 1px 2px rgba(60, 64, 67, 0.3), 0px 1px 3px 1px rgba(60, 64, 67, 0.15);\n",
              "      fill: #174EA6;\n",
              "    }\n",
              "\n",
              "    .colab-df-buttons div {\n",
              "      margin-bottom: 4px;\n",
              "    }\n",
              "\n",
              "    [theme=dark] .colab-df-convert {\n",
              "      background-color: #3B4455;\n",
              "      fill: #D2E3FC;\n",
              "    }\n",
              "\n",
              "    [theme=dark] .colab-df-convert:hover {\n",
              "      background-color: #434B5C;\n",
              "      box-shadow: 0px 1px 3px 1px rgba(0, 0, 0, 0.15);\n",
              "      filter: drop-shadow(0px 1px 2px rgba(0, 0, 0, 0.3));\n",
              "      fill: #FFFFFF;\n",
              "    }\n",
              "  </style>\n",
              "\n",
              "    <script>\n",
              "      const buttonEl =\n",
              "        document.querySelector('#df-95331e8c-56b3-482b-bc28-011986a30b38 button.colab-df-convert');\n",
              "      buttonEl.style.display =\n",
              "        google.colab.kernel.accessAllowed ? 'block' : 'none';\n",
              "\n",
              "      async function convertToInteractive(key) {\n",
              "        const element = document.querySelector('#df-95331e8c-56b3-482b-bc28-011986a30b38');\n",
              "        const dataTable =\n",
              "          await google.colab.kernel.invokeFunction('convertToInteractive',\n",
              "                                                    [key], {});\n",
              "        if (!dataTable) return;\n",
              "\n",
              "        const docLinkHtml = 'Like what you see? Visit the ' +\n",
              "          '<a target=\"_blank\" href=https://colab.research.google.com/notebooks/data_table.ipynb>data table notebook</a>'\n",
              "          + ' to learn more about interactive tables.';\n",
              "        element.innerHTML = '';\n",
              "        dataTable['output_type'] = 'display_data';\n",
              "        await google.colab.output.renderOutput(dataTable, element);\n",
              "        const docLink = document.createElement('div');\n",
              "        docLink.innerHTML = docLinkHtml;\n",
              "        element.appendChild(docLink);\n",
              "      }\n",
              "    </script>\n",
              "  </div>\n",
              "\n",
              "\n",
              "<div id=\"df-76bd2f35-1962-44f5-925b-3eccdb8a58e3\">\n",
              "  <button class=\"colab-df-quickchart\" onclick=\"quickchart('df-76bd2f35-1962-44f5-925b-3eccdb8a58e3')\"\n",
              "            title=\"Suggest charts\"\n",
              "            style=\"display:none;\">\n",
              "\n",
              "<svg xmlns=\"http://www.w3.org/2000/svg\" height=\"24px\"viewBox=\"0 0 24 24\"\n",
              "     width=\"24px\">\n",
              "    <g>\n",
              "        <path d=\"M19 3H5c-1.1 0-2 .9-2 2v14c0 1.1.9 2 2 2h14c1.1 0 2-.9 2-2V5c0-1.1-.9-2-2-2zM9 17H7v-7h2v7zm4 0h-2V7h2v10zm4 0h-2v-4h2v4z\"/>\n",
              "    </g>\n",
              "</svg>\n",
              "  </button>\n",
              "\n",
              "<style>\n",
              "  .colab-df-quickchart {\n",
              "      --bg-color: #E8F0FE;\n",
              "      --fill-color: #1967D2;\n",
              "      --hover-bg-color: #E2EBFA;\n",
              "      --hover-fill-color: #174EA6;\n",
              "      --disabled-fill-color: #AAA;\n",
              "      --disabled-bg-color: #DDD;\n",
              "  }\n",
              "\n",
              "  [theme=dark] .colab-df-quickchart {\n",
              "      --bg-color: #3B4455;\n",
              "      --fill-color: #D2E3FC;\n",
              "      --hover-bg-color: #434B5C;\n",
              "      --hover-fill-color: #FFFFFF;\n",
              "      --disabled-bg-color: #3B4455;\n",
              "      --disabled-fill-color: #666;\n",
              "  }\n",
              "\n",
              "  .colab-df-quickchart {\n",
              "    background-color: var(--bg-color);\n",
              "    border: none;\n",
              "    border-radius: 50%;\n",
              "    cursor: pointer;\n",
              "    display: none;\n",
              "    fill: var(--fill-color);\n",
              "    height: 32px;\n",
              "    padding: 0;\n",
              "    width: 32px;\n",
              "  }\n",
              "\n",
              "  .colab-df-quickchart:hover {\n",
              "    background-color: var(--hover-bg-color);\n",
              "    box-shadow: 0 1px 2px rgba(60, 64, 67, 0.3), 0 1px 3px 1px rgba(60, 64, 67, 0.15);\n",
              "    fill: var(--button-hover-fill-color);\n",
              "  }\n",
              "\n",
              "  .colab-df-quickchart-complete:disabled,\n",
              "  .colab-df-quickchart-complete:disabled:hover {\n",
              "    background-color: var(--disabled-bg-color);\n",
              "    fill: var(--disabled-fill-color);\n",
              "    box-shadow: none;\n",
              "  }\n",
              "\n",
              "  .colab-df-spinner {\n",
              "    border: 2px solid var(--fill-color);\n",
              "    border-color: transparent;\n",
              "    border-bottom-color: var(--fill-color);\n",
              "    animation:\n",
              "      spin 1s steps(1) infinite;\n",
              "  }\n",
              "\n",
              "  @keyframes spin {\n",
              "    0% {\n",
              "      border-color: transparent;\n",
              "      border-bottom-color: var(--fill-color);\n",
              "      border-left-color: var(--fill-color);\n",
              "    }\n",
              "    20% {\n",
              "      border-color: transparent;\n",
              "      border-left-color: var(--fill-color);\n",
              "      border-top-color: var(--fill-color);\n",
              "    }\n",
              "    30% {\n",
              "      border-color: transparent;\n",
              "      border-left-color: var(--fill-color);\n",
              "      border-top-color: var(--fill-color);\n",
              "      border-right-color: var(--fill-color);\n",
              "    }\n",
              "    40% {\n",
              "      border-color: transparent;\n",
              "      border-right-color: var(--fill-color);\n",
              "      border-top-color: var(--fill-color);\n",
              "    }\n",
              "    60% {\n",
              "      border-color: transparent;\n",
              "      border-right-color: var(--fill-color);\n",
              "    }\n",
              "    80% {\n",
              "      border-color: transparent;\n",
              "      border-right-color: var(--fill-color);\n",
              "      border-bottom-color: var(--fill-color);\n",
              "    }\n",
              "    90% {\n",
              "      border-color: transparent;\n",
              "      border-bottom-color: var(--fill-color);\n",
              "    }\n",
              "  }\n",
              "</style>\n",
              "\n",
              "  <script>\n",
              "    async function quickchart(key) {\n",
              "      const quickchartButtonEl =\n",
              "        document.querySelector('#' + key + ' button');\n",
              "      quickchartButtonEl.disabled = true;  // To prevent multiple clicks.\n",
              "      quickchartButtonEl.classList.add('colab-df-spinner');\n",
              "      try {\n",
              "        const charts = await google.colab.kernel.invokeFunction(\n",
              "            'suggestCharts', [key], {});\n",
              "      } catch (error) {\n",
              "        console.error('Error during call to suggestCharts:', error);\n",
              "      }\n",
              "      quickchartButtonEl.classList.remove('colab-df-spinner');\n",
              "      quickchartButtonEl.classList.add('colab-df-quickchart-complete');\n",
              "    }\n",
              "    (() => {\n",
              "      let quickchartButtonEl =\n",
              "        document.querySelector('#df-76bd2f35-1962-44f5-925b-3eccdb8a58e3 button');\n",
              "      quickchartButtonEl.style.display =\n",
              "        google.colab.kernel.accessAllowed ? 'block' : 'none';\n",
              "    })();\n",
              "  </script>\n",
              "</div>\n",
              "    </div>\n",
              "  </div>\n"
            ],
            "application/vnd.google.colaboratory.intrinsic+json": {
              "type": "dataframe",
              "summary": "{\n  \"name\": \"display(X_train\",\n  \"rows\": 3,\n  \"fields\": [\n    {\n      \"column\": \"CreditScore\",\n      \"properties\": {\n        \"dtype\": \"number\",\n        \"std\": 12.741009902410928,\n        \"min\": 682.0,\n        \"max\": 705.0,\n        \"num_unique_values\": 3,\n        \"samples\": [\n          682.0,\n          684.0,\n          705.0\n        ],\n        \"semantic_type\": \"\",\n        \"description\": \"\"\n      }\n    },\n    {\n      \"column\": \"Age\",\n      \"properties\": {\n        \"dtype\": \"number\",\n        \"std\": 4.509249752822894,\n        \"min\": 30.0,\n        \"max\": 39.0,\n        \"num_unique_values\": 3,\n        \"samples\": [\n          30.0,\n          39.0,\n          35.0\n        ],\n        \"semantic_type\": \"\",\n        \"description\": \"\"\n      }\n    },\n    {\n      \"column\": \"Tenure\",\n      \"properties\": {\n        \"dtype\": \"number\",\n        \"std\": 2.6457513110645907,\n        \"min\": 1.0,\n        \"max\": 6.0,\n        \"num_unique_values\": 3,\n        \"samples\": [\n          1.0,\n          2.0,\n          6.0\n        ],\n        \"semantic_type\": \"\",\n        \"description\": \"\"\n      }\n    },\n    {\n      \"column\": \"Balance\",\n      \"properties\": {\n        \"dtype\": \"number\",\n        \"std\": 32187.49286024206,\n        \"min\": 116320.68,\n        \"max\": 178058.06,\n        \"num_unique_values\": 3,\n        \"samples\": [\n          131394.56,\n          178058.06,\n          116320.68\n        ],\n        \"semantic_type\": \"\",\n        \"description\": \"\"\n      }\n    },\n    {\n      \"column\": \"NumOfProducts\",\n      \"properties\": {\n        \"dtype\": \"number\",\n        \"std\": 0.5773502691896257,\n        \"min\": 1.0,\n        \"max\": 2.0,\n        \"num_unique_values\": 2,\n        \"samples\": [\n          2.0,\n          1.0\n        ],\n        \"semantic_type\": \"\",\n        \"description\": \"\"\n      }\n    },\n    {\n      \"column\": \"HasCrCard\",\n      \"properties\": {\n        \"dtype\": \"number\",\n        \"std\": 0.0,\n        \"min\": 1.0,\n        \"max\": 1.0,\n        \"num_unique_values\": 1,\n        \"samples\": [\n          1.0\n        ],\n        \"semantic_type\": \"\",\n        \"description\": \"\"\n      }\n    },\n    {\n      \"column\": \"IsActiveMember\",\n      \"properties\": {\n        \"dtype\": \"number\",\n        \"std\": 0.5773502691896258,\n        \"min\": 0.0,\n        \"max\": 1.0,\n        \"num_unique_values\": 2,\n        \"samples\": [\n          0.0\n        ],\n        \"semantic_type\": \"\",\n        \"description\": \"\"\n      }\n    },\n    {\n      \"column\": \"EstimatedSalary\",\n      \"properties\": {\n        \"dtype\": \"number\",\n        \"std\": 17162.712573326913,\n        \"min\": 143952.24,\n        \"max\": 174431.01,\n        \"num_unique_values\": 3,\n        \"samples\": [\n          143952.24\n        ],\n        \"semantic_type\": \"\",\n        \"description\": \"\"\n      }\n    },\n    {\n      \"column\": \"Geography_France\",\n      \"properties\": {\n        \"dtype\": \"number\",\n        \"std\": 0.5773502691896258,\n        \"min\": 0.0,\n        \"max\": 1.0,\n        \"num_unique_values\": 2,\n        \"samples\": [\n          0.0\n        ],\n        \"semantic_type\": \"\",\n        \"description\": \"\"\n      }\n    },\n    {\n      \"column\": \"Geography_Germany\",\n      \"properties\": {\n        \"dtype\": \"number\",\n        \"std\": 0.5773502691896258,\n        \"min\": 0.0,\n        \"max\": 1.0,\n        \"num_unique_values\": 2,\n        \"samples\": [\n          1.0\n        ],\n        \"semantic_type\": \"\",\n        \"description\": \"\"\n      }\n    },\n    {\n      \"column\": \"Geography_Spain\",\n      \"properties\": {\n        \"dtype\": \"number\",\n        \"std\": 0.0,\n        \"min\": 0.0,\n        \"max\": 0.0,\n        \"num_unique_values\": 1,\n        \"samples\": [\n          0.0\n        ],\n        \"semantic_type\": \"\",\n        \"description\": \"\"\n      }\n    },\n    {\n      \"column\": \"Gender_Female\",\n      \"properties\": {\n        \"dtype\": \"number\",\n        \"std\": 0.5773502691896258,\n        \"min\": 0.0,\n        \"max\": 1.0,\n        \"num_unique_values\": 2,\n        \"samples\": [\n          1.0\n        ],\n        \"semantic_type\": \"\",\n        \"description\": \"\"\n      }\n    },\n    {\n      \"column\": \"Gender_Male\",\n      \"properties\": {\n        \"dtype\": \"number\",\n        \"std\": 0.5773502691896258,\n        \"min\": 0.0,\n        \"max\": 1.0,\n        \"num_unique_values\": 2,\n        \"samples\": [\n          0.0\n        ],\n        \"semantic_type\": \"\",\n        \"description\": \"\"\n      }\n    }\n  ]\n}"
            }
          },
          "metadata": {}
        },
        {
          "output_type": "display_data",
          "data": {
            "text/plain": [
              "      CreditScore   Age  Tenure    Balance  NumOfProducts  HasCrCard  \\\n",
              "6490        714.0  46.0     1.0  115764.32            4.0        1.0   \n",
              "3646        593.0  41.0     5.0       0.00            2.0        1.0   \n",
              "5306        731.0  38.0     2.0       0.00            2.0        0.0   \n",
              "\n",
              "      IsActiveMember  EstimatedSalary  Geography_France  Geography_Germany  \\\n",
              "6490             1.0         72945.32               0.0                1.0   \n",
              "3646             1.0         38196.24               1.0                0.0   \n",
              "5306             1.0        116971.05               1.0                0.0   \n",
              "\n",
              "      Geography_Spain  Gender_Female  Gender_Male  \n",
              "6490              0.0            0.0          1.0  \n",
              "3646              0.0            0.0          1.0  \n",
              "5306              0.0            1.0          0.0  "
            ],
            "text/html": [
              "\n",
              "  <div id=\"df-a8c0b2a2-cfe7-4fdc-8914-fe0d0d53ceb9\" class=\"colab-df-container\">\n",
              "    <div>\n",
              "<style scoped>\n",
              "    .dataframe tbody tr th:only-of-type {\n",
              "        vertical-align: middle;\n",
              "    }\n",
              "\n",
              "    .dataframe tbody tr th {\n",
              "        vertical-align: top;\n",
              "    }\n",
              "\n",
              "    .dataframe thead th {\n",
              "        text-align: right;\n",
              "    }\n",
              "</style>\n",
              "<table border=\"1\" class=\"dataframe\">\n",
              "  <thead>\n",
              "    <tr style=\"text-align: right;\">\n",
              "      <th></th>\n",
              "      <th>CreditScore</th>\n",
              "      <th>Age</th>\n",
              "      <th>Tenure</th>\n",
              "      <th>Balance</th>\n",
              "      <th>NumOfProducts</th>\n",
              "      <th>HasCrCard</th>\n",
              "      <th>IsActiveMember</th>\n",
              "      <th>EstimatedSalary</th>\n",
              "      <th>Geography_France</th>\n",
              "      <th>Geography_Germany</th>\n",
              "      <th>Geography_Spain</th>\n",
              "      <th>Gender_Female</th>\n",
              "      <th>Gender_Male</th>\n",
              "    </tr>\n",
              "  </thead>\n",
              "  <tbody>\n",
              "    <tr>\n",
              "      <th>6490</th>\n",
              "      <td>714.0</td>\n",
              "      <td>46.0</td>\n",
              "      <td>1.0</td>\n",
              "      <td>115764.32</td>\n",
              "      <td>4.0</td>\n",
              "      <td>1.0</td>\n",
              "      <td>1.0</td>\n",
              "      <td>72945.32</td>\n",
              "      <td>0.0</td>\n",
              "      <td>1.0</td>\n",
              "      <td>0.0</td>\n",
              "      <td>0.0</td>\n",
              "      <td>1.0</td>\n",
              "    </tr>\n",
              "    <tr>\n",
              "      <th>3646</th>\n",
              "      <td>593.0</td>\n",
              "      <td>41.0</td>\n",
              "      <td>5.0</td>\n",
              "      <td>0.00</td>\n",
              "      <td>2.0</td>\n",
              "      <td>1.0</td>\n",
              "      <td>1.0</td>\n",
              "      <td>38196.24</td>\n",
              "      <td>1.0</td>\n",
              "      <td>0.0</td>\n",
              "      <td>0.0</td>\n",
              "      <td>0.0</td>\n",
              "      <td>1.0</td>\n",
              "    </tr>\n",
              "    <tr>\n",
              "      <th>5306</th>\n",
              "      <td>731.0</td>\n",
              "      <td>38.0</td>\n",
              "      <td>2.0</td>\n",
              "      <td>0.00</td>\n",
              "      <td>2.0</td>\n",
              "      <td>0.0</td>\n",
              "      <td>1.0</td>\n",
              "      <td>116971.05</td>\n",
              "      <td>1.0</td>\n",
              "      <td>0.0</td>\n",
              "      <td>0.0</td>\n",
              "      <td>1.0</td>\n",
              "      <td>0.0</td>\n",
              "    </tr>\n",
              "  </tbody>\n",
              "</table>\n",
              "</div>\n",
              "    <div class=\"colab-df-buttons\">\n",
              "\n",
              "  <div class=\"colab-df-container\">\n",
              "    <button class=\"colab-df-convert\" onclick=\"convertToInteractive('df-a8c0b2a2-cfe7-4fdc-8914-fe0d0d53ceb9')\"\n",
              "            title=\"Convert this dataframe to an interactive table.\"\n",
              "            style=\"display:none;\">\n",
              "\n",
              "  <svg xmlns=\"http://www.w3.org/2000/svg\" height=\"24px\" viewBox=\"0 -960 960 960\">\n",
              "    <path d=\"M120-120v-720h720v720H120Zm60-500h600v-160H180v160Zm220 220h160v-160H400v160Zm0 220h160v-160H400v160ZM180-400h160v-160H180v160Zm440 0h160v-160H620v160ZM180-180h160v-160H180v160Zm440 0h160v-160H620v160Z\"/>\n",
              "  </svg>\n",
              "    </button>\n",
              "\n",
              "  <style>\n",
              "    .colab-df-container {\n",
              "      display:flex;\n",
              "      gap: 12px;\n",
              "    }\n",
              "\n",
              "    .colab-df-convert {\n",
              "      background-color: #E8F0FE;\n",
              "      border: none;\n",
              "      border-radius: 50%;\n",
              "      cursor: pointer;\n",
              "      display: none;\n",
              "      fill: #1967D2;\n",
              "      height: 32px;\n",
              "      padding: 0 0 0 0;\n",
              "      width: 32px;\n",
              "    }\n",
              "\n",
              "    .colab-df-convert:hover {\n",
              "      background-color: #E2EBFA;\n",
              "      box-shadow: 0px 1px 2px rgba(60, 64, 67, 0.3), 0px 1px 3px 1px rgba(60, 64, 67, 0.15);\n",
              "      fill: #174EA6;\n",
              "    }\n",
              "\n",
              "    .colab-df-buttons div {\n",
              "      margin-bottom: 4px;\n",
              "    }\n",
              "\n",
              "    [theme=dark] .colab-df-convert {\n",
              "      background-color: #3B4455;\n",
              "      fill: #D2E3FC;\n",
              "    }\n",
              "\n",
              "    [theme=dark] .colab-df-convert:hover {\n",
              "      background-color: #434B5C;\n",
              "      box-shadow: 0px 1px 3px 1px rgba(0, 0, 0, 0.15);\n",
              "      filter: drop-shadow(0px 1px 2px rgba(0, 0, 0, 0.3));\n",
              "      fill: #FFFFFF;\n",
              "    }\n",
              "  </style>\n",
              "\n",
              "    <script>\n",
              "      const buttonEl =\n",
              "        document.querySelector('#df-a8c0b2a2-cfe7-4fdc-8914-fe0d0d53ceb9 button.colab-df-convert');\n",
              "      buttonEl.style.display =\n",
              "        google.colab.kernel.accessAllowed ? 'block' : 'none';\n",
              "\n",
              "      async function convertToInteractive(key) {\n",
              "        const element = document.querySelector('#df-a8c0b2a2-cfe7-4fdc-8914-fe0d0d53ceb9');\n",
              "        const dataTable =\n",
              "          await google.colab.kernel.invokeFunction('convertToInteractive',\n",
              "                                                    [key], {});\n",
              "        if (!dataTable) return;\n",
              "\n",
              "        const docLinkHtml = 'Like what you see? Visit the ' +\n",
              "          '<a target=\"_blank\" href=https://colab.research.google.com/notebooks/data_table.ipynb>data table notebook</a>'\n",
              "          + ' to learn more about interactive tables.';\n",
              "        element.innerHTML = '';\n",
              "        dataTable['output_type'] = 'display_data';\n",
              "        await google.colab.output.renderOutput(dataTable, element);\n",
              "        const docLink = document.createElement('div');\n",
              "        docLink.innerHTML = docLinkHtml;\n",
              "        element.appendChild(docLink);\n",
              "      }\n",
              "    </script>\n",
              "  </div>\n",
              "\n",
              "\n",
              "<div id=\"df-a97a3536-88dc-4abe-b68c-5d54bfe22ac6\">\n",
              "  <button class=\"colab-df-quickchart\" onclick=\"quickchart('df-a97a3536-88dc-4abe-b68c-5d54bfe22ac6')\"\n",
              "            title=\"Suggest charts\"\n",
              "            style=\"display:none;\">\n",
              "\n",
              "<svg xmlns=\"http://www.w3.org/2000/svg\" height=\"24px\"viewBox=\"0 0 24 24\"\n",
              "     width=\"24px\">\n",
              "    <g>\n",
              "        <path d=\"M19 3H5c-1.1 0-2 .9-2 2v14c0 1.1.9 2 2 2h14c1.1 0 2-.9 2-2V5c0-1.1-.9-2-2-2zM9 17H7v-7h2v7zm4 0h-2V7h2v10zm4 0h-2v-4h2v4z\"/>\n",
              "    </g>\n",
              "</svg>\n",
              "  </button>\n",
              "\n",
              "<style>\n",
              "  .colab-df-quickchart {\n",
              "      --bg-color: #E8F0FE;\n",
              "      --fill-color: #1967D2;\n",
              "      --hover-bg-color: #E2EBFA;\n",
              "      --hover-fill-color: #174EA6;\n",
              "      --disabled-fill-color: #AAA;\n",
              "      --disabled-bg-color: #DDD;\n",
              "  }\n",
              "\n",
              "  [theme=dark] .colab-df-quickchart {\n",
              "      --bg-color: #3B4455;\n",
              "      --fill-color: #D2E3FC;\n",
              "      --hover-bg-color: #434B5C;\n",
              "      --hover-fill-color: #FFFFFF;\n",
              "      --disabled-bg-color: #3B4455;\n",
              "      --disabled-fill-color: #666;\n",
              "  }\n",
              "\n",
              "  .colab-df-quickchart {\n",
              "    background-color: var(--bg-color);\n",
              "    border: none;\n",
              "    border-radius: 50%;\n",
              "    cursor: pointer;\n",
              "    display: none;\n",
              "    fill: var(--fill-color);\n",
              "    height: 32px;\n",
              "    padding: 0;\n",
              "    width: 32px;\n",
              "  }\n",
              "\n",
              "  .colab-df-quickchart:hover {\n",
              "    background-color: var(--hover-bg-color);\n",
              "    box-shadow: 0 1px 2px rgba(60, 64, 67, 0.3), 0 1px 3px 1px rgba(60, 64, 67, 0.15);\n",
              "    fill: var(--button-hover-fill-color);\n",
              "  }\n",
              "\n",
              "  .colab-df-quickchart-complete:disabled,\n",
              "  .colab-df-quickchart-complete:disabled:hover {\n",
              "    background-color: var(--disabled-bg-color);\n",
              "    fill: var(--disabled-fill-color);\n",
              "    box-shadow: none;\n",
              "  }\n",
              "\n",
              "  .colab-df-spinner {\n",
              "    border: 2px solid var(--fill-color);\n",
              "    border-color: transparent;\n",
              "    border-bottom-color: var(--fill-color);\n",
              "    animation:\n",
              "      spin 1s steps(1) infinite;\n",
              "  }\n",
              "\n",
              "  @keyframes spin {\n",
              "    0% {\n",
              "      border-color: transparent;\n",
              "      border-bottom-color: var(--fill-color);\n",
              "      border-left-color: var(--fill-color);\n",
              "    }\n",
              "    20% {\n",
              "      border-color: transparent;\n",
              "      border-left-color: var(--fill-color);\n",
              "      border-top-color: var(--fill-color);\n",
              "    }\n",
              "    30% {\n",
              "      border-color: transparent;\n",
              "      border-left-color: var(--fill-color);\n",
              "      border-top-color: var(--fill-color);\n",
              "      border-right-color: var(--fill-color);\n",
              "    }\n",
              "    40% {\n",
              "      border-color: transparent;\n",
              "      border-right-color: var(--fill-color);\n",
              "      border-top-color: var(--fill-color);\n",
              "    }\n",
              "    60% {\n",
              "      border-color: transparent;\n",
              "      border-right-color: var(--fill-color);\n",
              "    }\n",
              "    80% {\n",
              "      border-color: transparent;\n",
              "      border-right-color: var(--fill-color);\n",
              "      border-bottom-color: var(--fill-color);\n",
              "    }\n",
              "    90% {\n",
              "      border-color: transparent;\n",
              "      border-bottom-color: var(--fill-color);\n",
              "    }\n",
              "  }\n",
              "</style>\n",
              "\n",
              "  <script>\n",
              "    async function quickchart(key) {\n",
              "      const quickchartButtonEl =\n",
              "        document.querySelector('#' + key + ' button');\n",
              "      quickchartButtonEl.disabled = true;  // To prevent multiple clicks.\n",
              "      quickchartButtonEl.classList.add('colab-df-spinner');\n",
              "      try {\n",
              "        const charts = await google.colab.kernel.invokeFunction(\n",
              "            'suggestCharts', [key], {});\n",
              "      } catch (error) {\n",
              "        console.error('Error during call to suggestCharts:', error);\n",
              "      }\n",
              "      quickchartButtonEl.classList.remove('colab-df-spinner');\n",
              "      quickchartButtonEl.classList.add('colab-df-quickchart-complete');\n",
              "    }\n",
              "    (() => {\n",
              "      let quickchartButtonEl =\n",
              "        document.querySelector('#df-a97a3536-88dc-4abe-b68c-5d54bfe22ac6 button');\n",
              "      quickchartButtonEl.style.display =\n",
              "        google.colab.kernel.accessAllowed ? 'block' : 'none';\n",
              "    })();\n",
              "  </script>\n",
              "</div>\n",
              "    </div>\n",
              "  </div>\n"
            ],
            "application/vnd.google.colaboratory.intrinsic+json": {
              "type": "dataframe",
              "summary": "{\n  \"name\": \"display(X_train\",\n  \"rows\": 3,\n  \"fields\": [\n    {\n      \"column\": \"CreditScore\",\n      \"properties\": {\n        \"dtype\": \"number\",\n        \"std\": 75.24847728248947,\n        \"min\": 593.0,\n        \"max\": 731.0,\n        \"num_unique_values\": 3,\n        \"samples\": [\n          714.0,\n          593.0,\n          731.0\n        ],\n        \"semantic_type\": \"\",\n        \"description\": \"\"\n      }\n    },\n    {\n      \"column\": \"Age\",\n      \"properties\": {\n        \"dtype\": \"number\",\n        \"std\": 4.041451884327381,\n        \"min\": 38.0,\n        \"max\": 46.0,\n        \"num_unique_values\": 3,\n        \"samples\": [\n          46.0,\n          41.0,\n          38.0\n        ],\n        \"semantic_type\": \"\",\n        \"description\": \"\"\n      }\n    },\n    {\n      \"column\": \"Tenure\",\n      \"properties\": {\n        \"dtype\": \"number\",\n        \"std\": 2.081665999466133,\n        \"min\": 1.0,\n        \"max\": 5.0,\n        \"num_unique_values\": 3,\n        \"samples\": [\n          1.0,\n          5.0,\n          2.0\n        ],\n        \"semantic_type\": \"\",\n        \"description\": \"\"\n      }\n    },\n    {\n      \"column\": \"Balance\",\n      \"properties\": {\n        \"dtype\": \"number\",\n        \"std\": 66836.56131455398,\n        \"min\": 0.0,\n        \"max\": 115764.32,\n        \"num_unique_values\": 2,\n        \"samples\": [\n          0.0,\n          115764.32\n        ],\n        \"semantic_type\": \"\",\n        \"description\": \"\"\n      }\n    },\n    {\n      \"column\": \"NumOfProducts\",\n      \"properties\": {\n        \"dtype\": \"number\",\n        \"std\": 1.1547005383792515,\n        \"min\": 2.0,\n        \"max\": 4.0,\n        \"num_unique_values\": 2,\n        \"samples\": [\n          2.0,\n          4.0\n        ],\n        \"semantic_type\": \"\",\n        \"description\": \"\"\n      }\n    },\n    {\n      \"column\": \"HasCrCard\",\n      \"properties\": {\n        \"dtype\": \"number\",\n        \"std\": 0.5773502691896258,\n        \"min\": 0.0,\n        \"max\": 1.0,\n        \"num_unique_values\": 2,\n        \"samples\": [\n          0.0,\n          1.0\n        ],\n        \"semantic_type\": \"\",\n        \"description\": \"\"\n      }\n    },\n    {\n      \"column\": \"IsActiveMember\",\n      \"properties\": {\n        \"dtype\": \"number\",\n        \"std\": 0.0,\n        \"min\": 1.0,\n        \"max\": 1.0,\n        \"num_unique_values\": 1,\n        \"samples\": [\n          1.0\n        ],\n        \"semantic_type\": \"\",\n        \"description\": \"\"\n      }\n    },\n    {\n      \"column\": \"EstimatedSalary\",\n      \"properties\": {\n        \"dtype\": \"number\",\n        \"std\": 39478.336155026,\n        \"min\": 38196.24,\n        \"max\": 116971.05,\n        \"num_unique_values\": 3,\n        \"samples\": [\n          72945.32\n        ],\n        \"semantic_type\": \"\",\n        \"description\": \"\"\n      }\n    },\n    {\n      \"column\": \"Geography_France\",\n      \"properties\": {\n        \"dtype\": \"number\",\n        \"std\": 0.5773502691896258,\n        \"min\": 0.0,\n        \"max\": 1.0,\n        \"num_unique_values\": 2,\n        \"samples\": [\n          1.0\n        ],\n        \"semantic_type\": \"\",\n        \"description\": \"\"\n      }\n    },\n    {\n      \"column\": \"Geography_Germany\",\n      \"properties\": {\n        \"dtype\": \"number\",\n        \"std\": 0.5773502691896258,\n        \"min\": 0.0,\n        \"max\": 1.0,\n        \"num_unique_values\": 2,\n        \"samples\": [\n          0.0\n        ],\n        \"semantic_type\": \"\",\n        \"description\": \"\"\n      }\n    },\n    {\n      \"column\": \"Geography_Spain\",\n      \"properties\": {\n        \"dtype\": \"number\",\n        \"std\": 0.0,\n        \"min\": 0.0,\n        \"max\": 0.0,\n        \"num_unique_values\": 1,\n        \"samples\": [\n          0.0\n        ],\n        \"semantic_type\": \"\",\n        \"description\": \"\"\n      }\n    },\n    {\n      \"column\": \"Gender_Female\",\n      \"properties\": {\n        \"dtype\": \"number\",\n        \"std\": 0.5773502691896258,\n        \"min\": 0.0,\n        \"max\": 1.0,\n        \"num_unique_values\": 2,\n        \"samples\": [\n          1.0\n        ],\n        \"semantic_type\": \"\",\n        \"description\": \"\"\n      }\n    },\n    {\n      \"column\": \"Gender_Male\",\n      \"properties\": {\n        \"dtype\": \"number\",\n        \"std\": 0.5773502691896258,\n        \"min\": 0.0,\n        \"max\": 1.0,\n        \"num_unique_values\": 2,\n        \"samples\": [\n          0.0\n        ],\n        \"semantic_type\": \"\",\n        \"description\": \"\"\n      }\n    }\n  ]\n}"
            }
          },
          "metadata": {}
        },
        {
          "output_type": "execute_result",
          "data": {
            "text/plain": [
              "(None, None)"
            ]
          },
          "metadata": {},
          "execution_count": 7
        }
      ]
    },
    {
      "cell_type": "markdown",
      "source": [
        "### Завдання 1"
      ],
      "metadata": {
        "id": "G_n0B9XMGxJg"
      }
    },
    {
      "cell_type": "markdown",
      "source": [
        "1. Навчіть на цих даних класифікатор kNN з параметрами за замовченням і виміряйте точність з допомогою AUROC на тренувальному та валідаційному наборах. Зробіть заключення про отриману модель: вона хороша/погана, чи є high bias/high variance?"
      ],
      "metadata": {
        "id": "_LxWkv4o-wMe"
      }
    },
    {
      "cell_type": "code",
      "source": [
        "knn_model = KNeighborsClassifier()\n",
        "knn_model.fit(X_train, y_train)\n",
        "\n",
        "train_auc = roc_auc_score(y_train, knn_model.predict_proba(X_train)[:, 1])\n",
        "val_auc = roc_auc_score(y_val, knn_model.predict_proba(X_val)[:, 1])\n",
        "\n",
        "print(f\"Train ROC-AUC: {train_auc:.4f}; Validation ROC-AUC: {val_auc:.4f}\")"
      ],
      "metadata": {
        "id": "1TH7H_Z9IAHD",
        "colab": {
          "base_uri": "https://localhost:8080/"
        },
        "outputId": "1eea372c-2aea-406a-b5f5-41391d666a46"
      },
      "execution_count": null,
      "outputs": [
        {
          "output_type": "stream",
          "name": "stdout",
          "text": [
            "Train ROC-AUC: 0.8238; Validation ROC-AUC: 0.5734\n"
          ]
        }
      ]
    },
    {
      "cell_type": "markdown",
      "source": [
        "**Спостереження**:\n",
        "\n",
        "Бачимо, що різниця метрики ROC-AUC для тренувального та валідаційного наборів даних занадто велка. Отже модель має слабку генералізацію.\n",
        "\n",
        "Скоріше наявний high variance, адже якість передбачення на тренувальних данних значно вища, в і порівнянні дуже слабка на валідаційних."
      ],
      "metadata": {
        "id": "-fNQEyP7N5hw"
      }
    },
    {
      "cell_type": "markdown",
      "source": [
        "### Завдання 2"
      ],
      "metadata": {
        "id": "ZNUxVibZG1vL"
      }
    },
    {
      "cell_type": "markdown",
      "source": [
        "2. Використовуючи `GridSearchCV` знайдіть оптимальне значення параметра `n_neighbors` для класифікатора `kNN`. Псотавте крос валідацію на 5 фолдів.\n",
        "\n",
        "  Після успішного завершення пошуку оптимального гіперпараметра\n",
        "    - виведіть найкраще значення параметра\n",
        "    - збережіть в окрему змінну `knn_best` найкращу модель, знайдену з `GridSearchCV`\n",
        "    - оцініть якість передбачень  `knn_best` на тренувальній і валідаційній вибірці з допомогою AUROC.\n",
        "    - зробіть висновок про якість моделі. Чи стала вона краще порівняно з попереднім пукнтом (2) цього завдання? Чи є вона краще за дерево прийняття рішень з попереднього ДЗ?"
      ],
      "metadata": {
        "id": "U4hm5qYs_f7x"
      }
    },
    {
      "cell_type": "code",
      "source": [
        "knn = KNeighborsClassifier()\n",
        "params_knn = {'n_neighbors': np.arange(1, 50)}\n",
        "\n",
        "knn_gs = GridSearchCV(knn, params_knn, cv=5, scoring='roc_auc', n_jobs=-1)\n",
        "knn_gs.fit(X_train, y_train)\n",
        "print(f\"Найкраще значення параметру: {knn_gs.best_params_};\\nНайкращий score {knn_gs.best_score_}\")"
      ],
      "metadata": {
        "colab": {
          "base_uri": "https://localhost:8080/"
        },
        "id": "EDU62HlGN49Z",
        "outputId": "6f02e2cc-4b51-4e4e-df32-112045fd63fe"
      },
      "execution_count": null,
      "outputs": [
        {
          "output_type": "stream",
          "name": "stdout",
          "text": [
            "Найкраще значення параметру: {'n_neighbors': 47};\n",
            "Найкращий score 0.5930238646361223\n"
          ]
        }
      ]
    },
    {
      "cell_type": "code",
      "source": [
        "knn_best = knn_gs.best_estimator_"
      ],
      "metadata": {
        "id": "RJzpdTsk4na1"
      },
      "execution_count": null,
      "outputs": []
    },
    {
      "cell_type": "code",
      "source": [
        "train_auc = roc_auc_score(y_train, knn_best.predict_proba(X_train)[:, 1])\n",
        "val_auc = roc_auc_score(y_val, knn_best.predict_proba(X_val)[:, 1])\n",
        "\n",
        "print(f\"Train ROC-AUC: {train_auc:.4f}; Validation ROC-AUC: {val_auc:.4f}\")"
      ],
      "metadata": {
        "id": "a50AtDZ9IDNx",
        "colab": {
          "base_uri": "https://localhost:8080/"
        },
        "outputId": "440126cb-7adc-4b39-d97b-2552da40e264"
      },
      "execution_count": null,
      "outputs": [
        {
          "output_type": "stream",
          "name": "stdout",
          "text": [
            "Train ROC-AUC: 0.6574; Validation ROC-AUC: 0.6191\n"
          ]
        }
      ]
    },
    {
      "cell_type": "markdown",
      "source": [
        "**Спостереження**:\n",
        "\n",
        "Можемо зробити висновок, що модель покращилась, оскільки значення ROC-AUC стало вищим ніж в попередній моделі, та різниця ROC-AUC між передбаченями на  тренувальному та валідаційному датасетах стала меншою.\n",
        "\n",
        "\n",
        "Для найпростішої моделі дерев прийнятя рішень були отримані значення ROC-AUC на тренувальних даних - 1.0000, а на валідаційних - 0.7700, що говорить нам про явне перенавчання моделі. Але в данному випадку ми позбавись від сильного перенавчання, але якість моделі все одно не дуже висока. Хоча в минулй моделі присутнє явне перенавчання, все ж таки вона краще генералізує - 0.7700 проти 0.6191 (Значення на валідаціних наборах).\n",
        "\n",
        "Якщо порівнювати з моделлю дерев прийняття рішень, що була натренована зі значенням гіперпараметру max_depth=5, де було отримано ROC-AUC на тренувальних даних - 0.9257 та на валідаційних - 0.9219, то можемо впевнено сказати, що якість найкращої обраної моделі значно гірший."
      ],
      "metadata": {
        "id": "LCxp4vl75sta"
      }
    },
    {
      "cell_type": "markdown",
      "source": [
        "### Завдання 3"
      ],
      "metadata": {
        "id": "_VZrZW3-G6Xn"
      }
    },
    {
      "cell_type": "markdown",
      "source": [
        "3. Виконайте пошук оптимальних гіперпараметрів для `DecisionTreeClassifier` з `GridSearchCV` за сіткою параметрів\n",
        "  - `max_depth` від 1 до 20 з кроком 2\n",
        "  - `max_leaf_nodes` від 2 до 10 з кроком 1\n",
        "\n",
        "  Обовʼязково при цьому ініціюйте модель з фіксацією `random_seed`.\n",
        "\n",
        "  Поставте кросвалідацію на 3 фолди, `scoring='roc_auc'`, та виміряйте, скільки часу потребує пошук оптимальних гіперпараметрів.\n",
        "\n",
        "  Після успішного завершення пошуку оптимальних гіперпараметрів\n",
        "    - виведіть найкращі значення параметра\n",
        "    - збережіть в окрему змінну `dt_best` найкращу модель, знайдену з `GridSearchCV`\n",
        "    - оцініть якість передбачень  `dt_best` на тренувальній і валідаційній вибірці з допомогою AUROC.\n",
        "    - зробіть висновок про якість моделі. Чи ця модель краща за ту, що ви знайшли вручну?"
      ],
      "metadata": {
        "id": "Vg77SVWrBBmU"
      }
    },
    {
      "cell_type": "code",
      "source": [
        "dt_model = DecisionTreeClassifier(random_state=42)\n",
        "param_grid = {\n",
        "    'max_depth': range(1, 21, 2),\n",
        "    'max_leaf_nodes': range(2, 11)\n",
        "}\n",
        "\n",
        "grid_search = GridSearchCV(estimator=dt_model, param_grid=param_grid, cv=3, scoring='roc_auc', n_jobs=-1)\n",
        "start_time = time.time()\n",
        "grid_search.fit(X_train, y_train)\n",
        "end_time = time.time()\n",
        "elapsed_time = end_time - start_time\n",
        "\n",
        "print(f'Найкращі параметри: {grid_search.best_params_}; \\nНайкращий score: {grid_search.best_score_} ; \\nЧас на підбір парметрів: {elapsed_time}')"
      ],
      "metadata": {
        "id": "RVg6jX-7IEwl",
        "colab": {
          "base_uri": "https://localhost:8080/"
        },
        "outputId": "aee9a188-4c73-4bae-9f6e-661da79ca70d"
      },
      "execution_count": null,
      "outputs": [
        {
          "output_type": "stream",
          "name": "stdout",
          "text": [
            "Найкращі параметри: {'max_depth': 5, 'max_leaf_nodes': 10}; \n",
            "Найкращий score: 0.9013929183420709 ; \n",
            "Час на підбір парметрів: 5.913150787353516\n"
          ]
        }
      ]
    },
    {
      "cell_type": "code",
      "source": [
        "model_best = grid_search.best_estimator_"
      ],
      "metadata": {
        "id": "ZSHM1TkO-Z2p"
      },
      "execution_count": null,
      "outputs": []
    },
    {
      "cell_type": "code",
      "source": [
        "train_auc = roc_auc_score(y_train,  model_best.predict_proba(X_train)[:, 1])\n",
        "val_auc = roc_auc_score(y_val, model_best.predict_proba(X_val)[:, 1])\n",
        "\n",
        "print(f\"Train ROC-AUC: {train_auc:.4f}; Validation ROC-AUC: {val_auc:.4f}\")"
      ],
      "metadata": {
        "colab": {
          "base_uri": "https://localhost:8080/"
        },
        "id": "YD6N5uHy-ziE",
        "outputId": "c6592431-8a3e-467c-90a5-7dc831fc711d"
      },
      "execution_count": null,
      "outputs": [
        {
          "output_type": "stream",
          "name": "stdout",
          "text": [
            "Train ROC-AUC: 0.9015; Validation ROC-AUC: 0.9002\n"
          ]
        }
      ]
    },
    {
      "cell_type": "markdown",
      "source": [
        "**Спостереження**:\n",
        "\n",
        "Отримана модель має достатньо високі значення метрики ROC-AUC, які не сильно відрізняються для тренувального та валідаційних наборів даних, що говорить про гарну генералізацію.\n",
        "\n",
        "Модель дерева прийняття рішень з минулого домашнього завдання, що підбиралась в ручну мала наступні гіперпараметри: `max_depth=8, max_leaf_nodes=45`. Значення метрики ROC-AUC: `Train 0.9305; Validation 0.9248`.\n",
        "\n",
        "Отримана модел за добопомогою GridSearchCV є трошки гіршою, так як пошуки оптимального max_leaf_nodes обмежені значенням 10."
      ],
      "metadata": {
        "id": "ui_E0vPGobCV"
      }
    },
    {
      "cell_type": "markdown",
      "source": [
        "### Завдання 4"
      ],
      "metadata": {
        "id": "pQ3p7pDwG9EZ"
      }
    },
    {
      "cell_type": "markdown",
      "source": [
        "4. Виконайте пошук оптимальних гіперпараметрів для `DecisionTreeClassifier` з `RandomizedSearchCV` за заданою сіткою параметрів і кількість ітерацій 40.\n",
        "\n",
        "  Поставте кросвалідацію на 3 фолди, `scoring='roc_auc'`, зафіксуйте `random_seed` процедури крос валідації та виміряйте, скільки часу потребує пошук оптимальних гіперпараметрів.\n",
        "\n",
        "  Після успішного завершення пошуку оптимальних гіперпараметрів\n",
        "    - виведіть найкращі значення параметра\n",
        "    - збережіть в окрему змінну `dt_random_search_best` найкращу модель, знайдену з `RandomizedSearchCV`\n",
        "    - оцініть якість передбачень  `dt_random_search_best` на тренувальній і валідаційній вибірці з допомогою AUROC.\n",
        "    - зробіть висновок про якість моделі. Чи ця модель краща за ту, що ви знайшли з `GridSearch`?\n",
        "    - проаналізуйте параметри `dt_random_search_best` і порівняйте з параметрами `dt_best` - яку бачите відмінність? Ця вправа потрібна аби зрозуміти, як різні налаштування `DecisionTreeClassifier` впливають на якість моделі."
      ],
      "metadata": {
        "id": "nCnkGD_sEW1i"
      }
    },
    {
      "cell_type": "code",
      "source": [
        "params_dt = {\n",
        "    'criterion': ['gini', 'entropy'],\n",
        "    'splitter': ['best', 'random'],\n",
        "    'max_depth': np.arange(1, 20),\n",
        "    'max_leaf_nodes': np.arange(2, 20),\n",
        "    'min_samples_split': [2, 5, 10, 20],\n",
        "    'min_samples_leaf': [1, 2, 4, 8],\n",
        "    'max_features': [None, 'sqrt', 'log2']\n",
        "}"
      ],
      "metadata": {
        "id": "665uQ3NdIG0s"
      },
      "execution_count": null,
      "outputs": []
    },
    {
      "cell_type": "code",
      "source": [
        "model_rs = DecisionTreeClassifier(random_state=42)"
      ],
      "metadata": {
        "id": "MyHVD-R0IXqv"
      },
      "execution_count": null,
      "outputs": []
    },
    {
      "cell_type": "code",
      "source": [
        "random_search = RandomizedSearchCV(\n",
        "    estimator=dt_model, param_distributions=params_dt, n_iter=40,\n",
        "    cv=3, scoring='roc_auc', random_state=42, n_jobs=-1\n",
        ")"
      ],
      "metadata": {
        "id": "JDxU9JtbOZAY"
      },
      "execution_count": null,
      "outputs": []
    },
    {
      "cell_type": "code",
      "source": [
        "start_time = time.time()\n",
        "random_search.fit(X_train, y_train)\n",
        "end_time = time.time()\n",
        "elapsed_time = end_time - start_time\n",
        "\n",
        "print(f'Найкращі параметри: {random_search.best_params_} \\nНайкращий score: {random_search.best_score_} ; \\nЧас на підбір парметрів: {elapsed_time}')"
      ],
      "metadata": {
        "colab": {
          "base_uri": "https://localhost:8080/"
        },
        "id": "CX5W9RmROuqR",
        "outputId": "9626dda6-1cef-4c09-daf9-2992082b6e82"
      },
      "execution_count": null,
      "outputs": [
        {
          "output_type": "stream",
          "name": "stdout",
          "text": [
            "Найкращі параметри: {'splitter': 'best', 'min_samples_split': 20, 'min_samples_leaf': 2, 'max_leaf_nodes': 14, 'max_features': None, 'max_depth': 16, 'criterion': 'entropy'} \n",
            "Найкращий score: 0.910864318350194 ; \n",
            "Час на підбір парметрів: 1.3520917892456055\n"
          ]
        }
      ]
    },
    {
      "cell_type": "code",
      "source": [
        "model_best_rs = random_search.best_estimator_"
      ],
      "metadata": {
        "id": "iz6v5zjgPam1"
      },
      "execution_count": null,
      "outputs": []
    },
    {
      "cell_type": "code",
      "source": [
        "train_auc = roc_auc_score(y_train, model_best_rs.predict_proba(X_train)[:, 1])\n",
        "val_auc = roc_auc_score(y_val, model_best_rs.predict_proba(X_val)[:, 1])\n",
        "\n",
        "print(f\"Train ROC-AUC: {train_auc:.4f}; Validation ROC-AUC: {val_auc:.4f}\")"
      ],
      "metadata": {
        "colab": {
          "base_uri": "https://localhost:8080/"
        },
        "id": "WFxDNc5FPhBd",
        "outputId": "db49a113-1a8f-44ff-b017-0555ce060962"
      },
      "execution_count": null,
      "outputs": [
        {
          "output_type": "stream",
          "name": "stdout",
          "text": [
            "Train ROC-AUC: 0.9169; Validation ROC-AUC: 0.9166\n"
          ]
        }
      ]
    },
    {
      "cell_type": "markdown",
      "source": [
        "**Спостереження**:\n",
        "\n",
        "- Модель має достатньо високі значення метрики ROC-AUC, та достатню малу різницю її значення між тренувальними та валідаційними даними.\n",
        "\n",
        "- Модель знайдена з `RandomizedSearchCV` є трохи кращою за модель знайдену з `GridSearch`.\n",
        "\n",
        "- В результаті пошуку оптимальних параметрів, були знайдені різні набори, так наприклад пареметрів, що були знайдені за допомогою `RandomizedSearchCV` - більше, ніж за допомогою `GridSearchCV`, адже ми задавали різну сітку параметрів.\n",
        "\n",
        "- `splitter`: Для `GridSearch` за замовчуванням залишили `best`, а з `RandomizedSearchCV` було обрано `best`. Отже `RandomizedSearchCV` протестував і `best`, і `random`, але виявив, що `best` дає кращий результат.\n",
        "\n",
        "- `min_samples_split`: Для `GridSearchCV` даний параметр не налаштовувася  налаштовувався, тож використовувалось значення за замовчуванням `2`, а  `RandomizedSearchCV` обрав як найкраще значення `20`. Оскільки значення параметру це мінімальне число об'єктів, необхідне для того, щоб узел дерева міг би розщепитися, то таким чином значення 20 запобігає дуже малим розбиттям, і скоріше за все буде знижувати імовірність перенавчання.\n",
        "\n",
        "- `min_samples_leaf`: Для `GridSearchCV` використовувалось значення за замовчуванням `1`, а `RandomizedSearchCV` обрав значення `2`, отже ожен кінцевий вузол повинен містити щонайменше 2 зразки, таким чином модель буде уникати занадто дрібних розбиттів вузлів.\n",
        "\n",
        "- `max_leaf_nodes`: Також з `GridSearchCV` було обрано меншу кількість вузлів 10 проти 14,  в допустимих параметрах для `GridSearchCV` така комбінація була оптимальнішою.\n",
        "\n",
        "- `max_depth`: Бачимо, що дерево є глибшим у випадку `RandomizedSearchCV`, 16 проти 5. Так як `GridSearchCV` мав вужчий діапазон значення 5 могло бути найоптимальнішим.\n",
        "\n",
        "- `criterion`: Критерій розбиття для `GridSearchCV` - був за замовченням з `DecisionTreeClassifier` - `gini`, а з `RandomizedSearchCV` було визначено, що за розглянутих параметрів було оптимально використати `entropy`. На данному наборі даних краще спроцювало налайштування з `entropy`.\n",
        "\n",
        "- `max_features`:  Для `GridSearchCV` використовувалось значення за замовчуванням `None`, `RandomizedSearchCV` також обрав `None`.\n",
        "\n",
        "Таким чином маємо, що Глибина дерева `max_depth` у `RandomizedSearchCV` значно більша, ніж у `GridSearchCV`. Це може свідчити про більшу складність дерева і ризик перенавчання. Однак, додаткові парматери, що розглядав   `RandomizedSearchCV` (типу min_samples_split та min_samples_leaf) компенсують це, обмежуючи розмір листків і запобігаючи надто дрібним розбиттям.\n",
        "Варто відмітити, що не дивлячиь на меншу кількість параметрів GridSearchCV витратив більше часу на їх підбір, а ніж `RandomizedSearchCV`.\n",
        "\n"
      ],
      "metadata": {
        "id": "kOI_Gz1DrJeQ"
      }
    },
    {
      "cell_type": "markdown",
      "source": [
        "### Завдання 5"
      ],
      "metadata": {
        "id": "NHKYsqTWHDao"
      }
    },
    {
      "cell_type": "markdown",
      "source": [
        "5. Якщо у Вас вийшла метрика `AUROC` в цій серії експериментів - зробіть ще один `submission` на Kaggle і додайте код для цього і скріншот скора на публічному лідерборді нижче.\n",
        "\n",
        "  Сподіваюсь на цьому етапі ви вже відчули себе справжнім дослідником 😉"
      ],
      "metadata": {
        "id": "XArADR2CG8VK"
      }
    },
    {
      "cell_type": "code",
      "source": [
        "%load_ext autoreload\n",
        "%autoreload 2\n",
        "from process_bank_churn import preprocess_new_data"
      ],
      "metadata": {
        "colab": {
          "base_uri": "https://localhost:8080/"
        },
        "id": "NBTLV_gGStYF",
        "outputId": "1e17acb6-1ff2-4acd-a1f1-eb5c26a5c94c"
      },
      "execution_count": null,
      "outputs": [
        {
          "output_type": "stream",
          "name": "stdout",
          "text": [
            "The autoreload extension is already loaded. To reload it, use:\n",
            "  %reload_ext autoreload\n"
          ]
        }
      ]
    },
    {
      "cell_type": "code",
      "source": [
        "file_name = '/content/drive/MyDrive/ML/data/bccp/test.csv'\n",
        "test_df = pd.read_csv(file_name)\n",
        "\n",
        "proc_test_df = preprocess_new_data(\n",
        "    new_df = test_df,\n",
        "    encoder = encoder,\n",
        "    scaler = None,\n",
        "    unnecessary_columns = ['Surname']\n",
        ")\n",
        "model = model_best_rs\n",
        "proc_test_df['Exited'] = model.predict_proba(proc_test_df[input_cols])[:,1]\n",
        "\n",
        "file_name = '/content/drive/MyDrive/ML/data/bccp/sample_submission.csv'\n",
        "sample = pd.read_csv(file_name)\n",
        "timestamp = datetime.now().strftime(\"%Y-%m-%d_%H-%M-%S\")\n",
        "sub_path = 'drive/My Drive/ML/data/bccp/lab/submission'\n",
        "\n",
        "upd_sample = sample.copy()\n",
        "upd_sample['Exited'] = upd_sample['id'].map(proc_test_df.set_index('id')['Exited'])\n",
        "upd_sample.to_csv(f'{sub_path}/submission_{timestamp}.csv', index=False)"
      ],
      "metadata": {
        "id": "vadJfLlMF_V3"
      },
      "execution_count": null,
      "outputs": []
    },
    {
      "cell_type": "markdown",
      "source": [
        "![image.png](data:image/png;base64,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)"
      ],
      "metadata": {
        "id": "s2MjiTfWUuVG"
      }
    },
    {
      "cell_type": "markdown",
      "source": [
        "Бачимо, що скор найкращої моделі знайдений за допомогою RandomizedSearchCV - 0.91632, що трошки краще за модель з минулого домашнього завдання де отриманий скор - 0.91502."
      ],
      "metadata": {
        "id": "Zno1XapbUyRD"
      }
    },
    {
      "cell_type": "code",
      "source": [],
      "metadata": {
        "id": "J6wyA-fmVbYD"
      },
      "execution_count": null,
      "outputs": []
    }
  ]
}