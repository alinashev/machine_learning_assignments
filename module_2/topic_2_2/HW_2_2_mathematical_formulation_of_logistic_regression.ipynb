{
  "nbformat": 4,
  "nbformat_minor": 0,
  "metadata": {
    "colab": {
      "provenance": []
    },
    "kernelspec": {
      "name": "python3",
      "display_name": "Python 3"
    },
    "language_info": {
      "name": "python"
    }
  },
  "cells": [
    {
      "cell_type": "markdown",
      "source": [
        "# Домашнє завдання: Математичне формулювання логістичної регресії"
      ],
      "metadata": {
        "id": "BObiV5KdmPzm"
      }
    },
    {
      "cell_type": "markdown",
      "source": [
        "В цьому домашньому завданні ми реалізуємо логістичну регресію на `numpy`.\n",
        "Ці завдання допоможуть вам ґрунтовно засвоїти основні концепції логістичної регресії та реалізувати їх на практиці 🔥\n"
      ],
      "metadata": {
        "id": "fkOwekUKnRJT"
      }
    },
    {
      "cell_type": "markdown",
      "source": [
        "Необхідні імпорти:"
      ],
      "metadata": {
        "id": "UlfiYs5inQ-6"
      }
    },
    {
      "cell_type": "code",
      "source": [
        "import numpy as np"
      ],
      "metadata": {
        "id": "la491prenVwA"
      },
      "execution_count": null,
      "outputs": []
    },
    {
      "cell_type": "markdown",
      "source": [
        "#### Завдання 1: Реалізація функції сигмоїди\n",
        "1. З використанням `numpy` напишіть функцію `sigmoid(z)` для обчислення значення сигмоїди згідно з формулою:\n",
        "   $$\n",
        "   \\sigma(z) = \\frac{1}{1 + e^{-z}}\n",
        "   $$\n",
        "2. Використовуючи цю функцію, обчисліть значення сигмоїди для наступних даних: $ z = [-2, -1, 0, 1, 2] $. Виведіть результат обчислень.\n"
      ],
      "metadata": {
        "id": "KxRmdyv5CIZe"
      }
    },
    {
      "cell_type": "code",
      "source": [
        "def sigmoid(z):\n",
        "  return 1 / (1 + np.exp(-z))"
      ],
      "metadata": {
        "id": "w2dbBNTOmhDf"
      },
      "execution_count": null,
      "outputs": []
    },
    {
      "cell_type": "code",
      "source": [
        "z = np.array([-2, -1, 0, 1, 2])\n",
        "result = sigmoid(z)\n",
        "\n",
        "print(f\"Значення сигмоїди: {result}\")"
      ],
      "metadata": {
        "id": "v9ilfXulL2wP",
        "colab": {
          "base_uri": "https://localhost:8080/"
        },
        "outputId": "dbf7252d-0ba0-418d-eac1-a612f27ef588"
      },
      "execution_count": null,
      "outputs": [
        {
          "output_type": "stream",
          "name": "stdout",
          "text": [
            "Значення сигмоїди: [0.11920292 0.26894142 0.5        0.73105858 0.88079708]\n"
          ]
        }
      ]
    },
    {
      "cell_type": "markdown",
      "source": [
        "\n",
        "\n",
        "#### Завдання 2: Реалізація функції гіпотези для логістичної регресії\n",
        "1. Напишіть функцію `hypothesis(theta, X)`, яка обчислює гіпотезу для логістичної регресії, використовуючи функцію сигмоїди. Формула гіпотези:\n",
        "   $$\n",
        "   h_\\theta(x) = \\sigma(\\theta^T x) = \\frac{1}{1 + e^{-\\theta^T x}}\n",
        "   $$\n",
        "2. Використайте функцію `hypothesis` для обчислення значень гіпотези для наступних даних:\n",
        "   \n",
        "   $\\theta = [0.5, -0.5]$\n",
        "   \n",
        "   $X = \\begin{bmatrix} 1 & 2 \\\\ 1 & -1 \\\\ 1 & 0 \\\\ 1 & 1 \\end{bmatrix}$\n",
        "\n",
        "  Виведіть результат обчислень.\n"
      ],
      "metadata": {
        "id": "LVd_jCGNCR1F"
      }
    },
    {
      "cell_type": "code",
      "source": [
        "def hypothesis_vec(theta, x):\n",
        "    return sigmoid(np.dot(theta, x))"
      ],
      "metadata": {
        "id": "MMg1ryqGBXxj"
      },
      "execution_count": null,
      "outputs": []
    },
    {
      "cell_type": "code",
      "source": [
        "def hypothesis(theta, X):\n",
        "  res = []\n",
        "  for x_i in X:\n",
        "    res.append(hypothesis_vec(theta, x_i))\n",
        "  return res"
      ],
      "metadata": {
        "id": "quOMePV76neQ"
      },
      "execution_count": null,
      "outputs": []
    },
    {
      "cell_type": "markdown",
      "source": [
        "Також для нашого випадку функцію гіпотези    $$\n",
        "   h_\\theta(x) = \\sigma(\\theta^T x) = \\frac{1}{1 + e^{-\\theta^T x}}\n",
        "   $$\n",
        "\n",
        "можемо записати у матричному вигляді\n",
        "$$\n",
        "   h_\\theta(X) = \\sigma(X\\theta) = \\frac{1}{1 + e^{-X\\theta}}\n",
        "   $$"
      ],
      "metadata": {
        "id": "5ot60lEU75qx"
      }
    },
    {
      "cell_type": "code",
      "source": [
        "def hypothesis_marix(theta, X):\n",
        "  theta_t = np.expand_dims(theta, axis=1)\n",
        "  z = np.dot(X, theta)\n",
        "  return sigmoid(z)"
      ],
      "metadata": {
        "id": "dKDHv-YtL3TA"
      },
      "execution_count": null,
      "outputs": []
    },
    {
      "cell_type": "code",
      "source": [
        "theta = np.array([0.5, -0.5])\n",
        "X = np.array([\n",
        "    [1, 2],\n",
        "    [1, -1],\n",
        "    [1, 0],\n",
        "    [1, 1]\n",
        "])"
      ],
      "metadata": {
        "id": "VrpDCF-svnPY"
      },
      "execution_count": null,
      "outputs": []
    },
    {
      "cell_type": "code",
      "source": [
        "hypothesis(theta, X)"
      ],
      "metadata": {
        "colab": {
          "base_uri": "https://localhost:8080/"
        },
        "id": "4mkw4IAj60Np",
        "outputId": "fd87ff29-69ce-44fb-ae48-28e4f92ca15c"
      },
      "execution_count": null,
      "outputs": [
        {
          "output_type": "execute_result",
          "data": {
            "text/plain": [
              "[0.3775406687981454, 0.7310585786300049, 0.6224593312018546, 0.5]"
            ]
          },
          "metadata": {},
          "execution_count": 8
        }
      ]
    },
    {
      "cell_type": "code",
      "source": [
        "hypothesis_marix(theta, X)"
      ],
      "metadata": {
        "colab": {
          "base_uri": "https://localhost:8080/"
        },
        "id": "nCvSbo7EvnEJ",
        "outputId": "2e96ed0f-dbfe-4a52-f8b2-61a6cacb8b33"
      },
      "execution_count": null,
      "outputs": [
        {
          "output_type": "execute_result",
          "data": {
            "text/plain": [
              "array([0.37754067, 0.73105858, 0.62245933, 0.5       ])"
            ]
          },
          "metadata": {},
          "execution_count": 9
        }
      ]
    },
    {
      "cell_type": "markdown",
      "source": [
        "**Висновок**:\n",
        "\n",
        "Переписавши функцію гіпотези отримані, ті ж самі значення."
      ],
      "metadata": {
        "id": "x1YQhdrf-ZUJ"
      }
    },
    {
      "cell_type": "markdown",
      "source": [
        "#### Завдання 3: Реалізація функції для підрахунку градієнтів фукнції втрат\n",
        "1. Напишіть функцію `compute_gradient(theta, X, y)`, яка обчислює градієнти функції втрат для логістичної регресії. Формула для обчислення градієнта:\n",
        "   $$\n",
        "   \\frac{\\partial L(\\theta)}{\\partial \\theta_j} = \\frac{1}{m} \\sum_{i=1}^{m} \\left[ (h_\\theta(x^{(i)}) - y^{(i)}) x_j^{(i)} \\right]\n",
        "   $$\n",
        "2. Використайте функцію `compute_gradient` для обчислення градієнтів для наступних даних:\n",
        "\n",
        "  $\\theta = [0.5, -0.5]$\n",
        "\n",
        "  $X = \\begin{bmatrix} 1 & 2 \\\\ 1 & -1 \\\\ 1 & 0 \\\\ 1 & 1 \\end{bmatrix}$\n",
        "\n",
        "  $y = [1, 0, 1, 0]$\n",
        "\n",
        "  Виведіть результат обчислень."
      ],
      "metadata": {
        "id": "MWASH4Z4ClTo"
      }
    },
    {
      "cell_type": "code",
      "source": [
        "theta = np.array([0.5, -0.5])\n",
        "X = np.array([\n",
        "    [1, 2],\n",
        "    [1, -1],\n",
        "    [1, 0],\n",
        "    [1, 1]\n",
        "])\n",
        "y = np.array([1, 0, 1, 0])"
      ],
      "metadata": {
        "id": "ZlSkro1UERjO"
      },
      "execution_count": null,
      "outputs": []
    },
    {
      "cell_type": "code",
      "source": [
        "def compute_gradient(theta, X, y):\n",
        "  m, n = X.shape\n",
        "  grads = np.zeros(n)\n",
        "  for j in range(n):\n",
        "    grad = 0\n",
        "    for i in range(m):\n",
        "      grad += (hypothesis_vec(theta, X[i]) - y[i]) * X[i, j]\n",
        "    grads[j] = grad\n",
        "  return grads * 1/m\n",
        "\n",
        "compute_gradient(theta, X, y)"
      ],
      "metadata": {
        "id": "0DM4xqZCL32i",
        "colab": {
          "base_uri": "https://localhost:8080/"
        },
        "outputId": "43ddab12-b641-4132-d0a6-3939114561f7"
      },
      "execution_count": null,
      "outputs": [
        {
          "output_type": "execute_result",
          "data": {
            "text/plain": [
              "array([ 0.05776464, -0.36899431])"
            ]
          },
          "metadata": {},
          "execution_count": 11
        }
      ]
    },
    {
      "cell_type": "markdown",
      "source": [
        "Можемо перейти від формули градієнту\n",
        "\n",
        "   $$\n",
        "   \\frac{\\partial L(\\theta)}{\\partial \\theta_j} = \\frac{1}{m} \\sum_{i=1}^{m} \\left[ (h_\\theta(x^{(i)}) - y^{(i)}) x_j^{(i)} \\right]\n",
        "   $$\n",
        "\n",
        "для кожного окремого параметру до матричного вигляду:\n",
        "\n",
        "\n",
        "$$\n",
        "   G = \\frac{1}{m} X^T (h_\\theta(X) - y)\n",
        "$$"
      ],
      "metadata": {
        "id": "ER3lMhh3HsNx"
      }
    },
    {
      "cell_type": "code",
      "source": [
        "def compute_gradient_matrix(theta, X, y):\n",
        "  m = X.shape[0]\n",
        "  h = hypothesis_marix(theta, X)\n",
        "  grad = (1 /m) * np.dot(X.T, h - y)\n",
        "  return grad\n",
        "\n",
        "compute_gradient_matrix(theta, X, y)"
      ],
      "metadata": {
        "colab": {
          "base_uri": "https://localhost:8080/"
        },
        "id": "gBLCfPZSIYY1",
        "outputId": "dbfb3415-b616-4dbb-fa66-ff136ba972ff"
      },
      "execution_count": null,
      "outputs": [
        {
          "output_type": "execute_result",
          "data": {
            "text/plain": [
              "array([ 0.05776464, -0.36899431])"
            ]
          },
          "metadata": {},
          "execution_count": 12
        }
      ]
    },
    {
      "cell_type": "markdown",
      "source": [
        "**Висновок**:\n",
        "\n",
        "Результати пошуку градієнтів за допомогою обох функцій дають нам однакові результати."
      ],
      "metadata": {
        "id": "1jOA5lpTQnJH"
      }
    },
    {
      "cell_type": "markdown",
      "source": [
        "\n",
        "#### Завдання 4: Реалізація повного батч градієнтного спуску\n",
        "\n",
        "**Задача:**\n",
        "1. Напишіть функцію `full_batch_gradient_descent(X, y, lr=0.1, epochs=100)`, яка реалізує алгоритм Full градієнтного спуску для логістичної регресії. Використовуйте такі формули:\n",
        "   - Гіпотеза: $ h_\\theta(x) = \\sigma(\\theta^T x) $\n",
        "   - Оновлення параметрів: $ \\theta_j := \\theta_j - \\alpha \\frac{\\partial L(\\theta)}{\\partial \\theta_j} $\n",
        "2. Використайте функцію `full_batch_gradient_descent` для обчислення параметрів моделі на наступних даних:\n",
        "\n",
        "  $X = \\begin{bmatrix} 1 & 2 \\\\ 1 & -1 \\\\ 1 & 0 \\\\ 1 & 1 \\end{bmatrix}$\n",
        "\n",
        "  $y = [1, 0, 1, 0]$\n",
        "\n",
        "  Увага! Матриця $X$ вже має стовпець одиниць і передбачається, що це. - стовпець для intercept - параметра зсуву.\n",
        "\n",
        "  Виведіть результат обчислень.\n"
      ],
      "metadata": {
        "id": "nOtJEtdnC1K9"
      }
    },
    {
      "cell_type": "code",
      "source": [
        "X = np.array([\n",
        "    [1, 2],\n",
        "    [1, -1],\n",
        "    [1, 0],\n",
        "    [1, 1]\n",
        "])\n",
        "y = np.array([1, 0, 1, 0])"
      ],
      "metadata": {
        "id": "6R3WJ9k5TBA4"
      },
      "execution_count": null,
      "outputs": []
    },
    {
      "cell_type": "markdown",
      "source": [
        "Для використання у методі, що реалізує повний батч градієнтний спуск можна використовувати як метод, що ітеративно знаходить градієнти, так і той що вирішує задачу у матричному вигляді."
      ],
      "metadata": {
        "id": "gVjBuwrvs3tU"
      }
    },
    {
      "cell_type": "code",
      "source": [
        "def full_batch_gradient_descent(X, y, lr=0.1, epochs=100):\n",
        "  m, n = X.shape\n",
        "  theta = np.zeros(n)\n",
        "\n",
        "  for _ in range(epochs):\n",
        "    theta -= lr * compute_gradient(theta, X, y)\n",
        "  return theta"
      ],
      "metadata": {
        "id": "BSgYdACwkLCV"
      },
      "execution_count": null,
      "outputs": []
    },
    {
      "cell_type": "code",
      "source": [
        "theta = full_batch_gradient_descent(X, y)\n",
        "theta"
      ],
      "metadata": {
        "colab": {
          "base_uri": "https://localhost:8080/"
        },
        "id": "7KBG6ZG9iy7S",
        "outputId": "48fb2bb7-d0f7-489a-dff3-ed37c938178a"
      },
      "execution_count": null,
      "outputs": [
        {
          "output_type": "execute_result",
          "data": {
            "text/plain": [
              "array([-0.2893693 ,  0.77655125])"
            ]
          },
          "metadata": {},
          "execution_count": 15
        }
      ]
    },
    {
      "cell_type": "markdown",
      "source": [
        "#### Завдання 5. Обчислення точності моделі\n",
        "\n",
        "1. Напишіть функцію `predict_proba(theta, X)`, яка використовує знайдені параметри $\\theta$ для обчислення ймовірностей належності поточного прикладу з даних до класу $y=1$ на основі значень $\\sigma(\\theta^T x)$.\n",
        "\n",
        "2. Напишіть функцію `predict(theta, X, threshold=0.5)`, яка обчислює клас з передбаченої імовірності належності екземпляра до класу 1 з порогом 0.5. Тобто якщо ймовірність менше 0.5, то передбачаємо клас 0, інакше клас 1.\n",
        "\n",
        "3. Напишіть функцію `accuracy(y_true, y_pred)`, яка обчислює точність моделі, визначивши частку правильно передбачених класів.\n",
        "\n",
        "  Формула метрики Accuracy:\n",
        "  $$\n",
        "  \\text{Accuracy} = \\frac{\\sum_{i=1}^{m} I(\\hat{{y}^{(i)}} = y^{(i)})}{m}\n",
        "  $$\n",
        "\n",
        "  де $\\hat{{y}^{(i)}}$ - передбачене значення класу, $I$ - індикаторна функція (яка дорівнює 1, якщо умова виконується, і 0 - якщо ні), $m$ - кількість прикладів.\n",
        "\n",
        "4. Обчисліть з використанням даних в завданні 4 $X$, $y$ та обчислених коефіцієнтах $\\theta$ та виведіть на екран:\n",
        "  - передбачені моделлю імовірності належності кожного з екземплярів в матриці `X` до класу 1\n",
        "  - класи кожного екземпляра з матриці `X`\n",
        "  - точність моделі."
      ],
      "metadata": {
        "id": "E4iZV55cE5f3"
      }
    },
    {
      "cell_type": "markdown",
      "source": [
        "##### 5.1\n"
      ],
      "metadata": {
        "id": "lLwFCCYwt3om"
      }
    },
    {
      "cell_type": "code",
      "source": [
        "def predict_proba(theta, X):\n",
        "  proba = sigmoid(np.dot(X, theta))\n",
        "  return proba"
      ],
      "metadata": {
        "id": "85ZZfPtjrsai"
      },
      "execution_count": null,
      "outputs": []
    },
    {
      "cell_type": "markdown",
      "source": [
        "##### 5.2\n"
      ],
      "metadata": {
        "id": "ftAZqpUc1gvo"
      }
    },
    {
      "cell_type": "code",
      "source": [
        "def predict(theta, X, threshold=0.5):\n",
        "  proba = predict_proba(theta, X)  # Обчислюємо ймовірності\n",
        "  return (proba >= threshold).astype(int)"
      ],
      "metadata": {
        "id": "iOznZkE-uGD0"
      },
      "execution_count": null,
      "outputs": []
    },
    {
      "cell_type": "markdown",
      "source": [
        "##### 5.3\n"
      ],
      "metadata": {
        "id": "eEwfwbfq2UE0"
      }
    },
    {
      "cell_type": "code",
      "source": [
        "def accuracy(y_true, y_pred):\n",
        "  m = y_true.shape[0]\n",
        "  return (sum(y_true == y_pred)/m)"
      ],
      "metadata": {
        "id": "8WjmBIfWvI8T"
      },
      "execution_count": null,
      "outputs": []
    },
    {
      "cell_type": "markdown",
      "source": [
        "##### 5.4\n"
      ],
      "metadata": {
        "id": "yAyl1Baz2ZMm"
      }
    },
    {
      "cell_type": "code",
      "source": [
        "proba = predict_proba(theta, X)\n",
        "predictions = predict(theta, X)\n",
        "acc = accuracy(y, predictions)\n",
        "\n",
        "print(f\"Реальні значення: {y}\")\n",
        "print(\"Ймовірності належності до класу y=1:\", proba)\n",
        "print(\"Передбачені класи з порогом 0.5:\", predictions)\n",
        "print(f\"Model accuracy: {acc}\")"
      ],
      "metadata": {
        "colab": {
          "base_uri": "https://localhost:8080/"
        },
        "id": "s6Q5r0HHuGMQ",
        "outputId": "1ee526f7-2da1-4261-8dbf-c4bbedaba27d"
      },
      "execution_count": null,
      "outputs": [
        {
          "output_type": "stream",
          "name": "stdout",
          "text": [
            "Реальні значення: [1 0 1 0]\n",
            "Ймовірності належності до класу y=1: [0.77966809 0.25617965 0.42815828 0.61944235]\n",
            "Передбачені класи з порогом 0.5: [1 0 0 1]\n",
            "Model accuracy: 0.5\n"
          ]
        }
      ]
    },
    {
      "cell_type": "markdown",
      "source": [
        "**Висновок**:\n",
        "\n",
        "Бачимо, що модель помилилася двічі.\n",
        "\n",
        "Розраховані значення точності: 0.5"
      ],
      "metadata": {
        "id": "37a0s9bI59Um"
      }
    },
    {
      "cell_type": "code",
      "source": [],
      "metadata": {
        "id": "0mBUXNyk6Ooe"
      },
      "execution_count": null,
      "outputs": []
    }
  ]
}